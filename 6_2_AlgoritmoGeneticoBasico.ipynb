{
 "cells": [
  {
   "cell_type": "markdown",
   "id": "d812c6fe",
   "metadata": {},
   "source": [
    "# Algoritmo genético básico\n",
    "\n",
    "START\n",
    "\n",
    "Generate the initial population\n",
    "\n",
    "Compute fitness\n",
    "\n",
    "REPEAT\n",
    "\n",
    "    Selection\n",
    "    \n",
    "    Crossover\n",
    "    \n",
    "    Mutation\n",
    "    \n",
    "    Compute fitness\n",
    "    \n",
    "UNTIL population has converged\n",
    "\n",
    "STOP\n",
    "\n",
    "![](https://raw.githubusercontent.com/igomezv/ComputoEvolutivo/main/img/diagram.png)\n",
    "\n",
    "## Codificación binaria\n",
    "\n",
    "Ejemplo: $f(x,y,z) = 2x+3y+10z-3.6$, $x = [25,36], y= [39,50], z = [91,102]$\n",
    "\n",
    "![](https://miro.medium.com/v2/resize:fit:640/format:webp/1*GqWHvKfr8SFnA8Y-ccsnqQ.png)\n",
    "\n",
    "## Crossover/cruza\n",
    "\n",
    "- De un punto.\n",
    "![](https://raw.githubusercontent.com/igomezv/ComputoEvolutivo/main/img/one_point.png)\n",
    "\n",
    "- Cruza uniforme.\n",
    "![](https://raw.githubusercontent.com/igomezv/ComputoEvolutivo/main/img/uniform_crossover.png)\n",
    "\n",
    "\n",
    "## Mutación\n",
    "- Bit flip\n",
    "![](https://raw.githubusercontent.com/igomezv/ComputoEvolutivo/main/img/flipping.png)\n",
    "\n",
    "## Mapeo fenotipo-genotipo\n",
    "\n",
    "![](https://www.tutorialspoint.com/genetic_algorithms/images/pheno_genotype_space.jpg)\n",
    "Fuente: https://www.tutorialspoint.com/genetic_algorithms/genetic_algorithms_quick_guide.htm\n",
    "\n",
    "## Ejemplos y ejercicios"
   ]
  },
  {
   "cell_type": "code",
   "execution_count": null,
   "id": "0775648f",
   "metadata": {},
   "outputs": [],
   "source": []
  }
 ],
 "metadata": {
  "kernelspec": {
   "display_name": "Python 3 (ipykernel)",
   "language": "python",
   "name": "python3"
  },
  "language_info": {
   "codemirror_mode": {
    "name": "ipython",
    "version": 3
   },
   "file_extension": ".py",
   "mimetype": "text/x-python",
   "name": "python",
   "nbconvert_exporter": "python",
   "pygments_lexer": "ipython3",
   "version": "3.10.6"
  }
 },
 "nbformat": 4,
 "nbformat_minor": 5
}
