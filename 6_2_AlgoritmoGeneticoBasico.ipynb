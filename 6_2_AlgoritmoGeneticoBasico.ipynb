{
 "cells": [
  {
   "cell_type": "markdown",
   "id": "9fdb425c",
   "metadata": {},
   "source": [
    "# Algoritmo genético básico\n",
    "\n",
    "START\n",
    "\n",
    "Generate the initial population\n",
    "\n",
    "Compute fitness\n",
    "\n",
    "REPEAT\n",
    "\n",
    "    Selection\n",
    "    \n",
    "    Crossover\n",
    "    \n",
    "    Mutation\n",
    "    \n",
    "    Compute fitness\n",
    "    \n",
    "UNTIL population has converged\n",
    "\n",
    "STOP\n",
    "\n",
    "![](https://raw.githubusercontent.com/igomezv/ComputoEvolutivo/main/img/diagram.png)\n",
    "\n",
    "## Codificación binaria\n",
    "\n",
    "Ejemplo: $f(x,y,z) = 2x+3y+10z-3.6$, $x = [25,36], y= [39,50], z = [91,102]$\n",
    "\n",
    "![](https://miro.medium.com/v2/resize:fit:640/format:webp/1*GqWHvKfr8SFnA8Y-ccsnqQ.png)\n",
    "\n",
    "## Crossover/cruza\n",
    "\n",
    "- De un punto.\n",
    "![](https://raw.githubusercontent.com/igomezv/ComputoEvolutivo/main/img/one_point.png)\n",
    "\n",
    "- Cruza uniforme.\n",
    "![](https://raw.githubusercontent.com/igomezv/ComputoEvolutivo/main/img/uniform_crossover.png)\n",
    "\n",
    "\n",
    "## Mutación\n",
    "- Bit flip\n",
    "![](https://raw.githubusercontent.com/igomezv/ComputoEvolutivo/main/img/flipping.png)\n",
    "\n",
    "## Mapeo fenotipo-genotipo\n",
    "\n",
    "![](https://www.tutorialspoint.com/genetic_algorithms/images/pheno_genotype_space.jpg)\n",
    "Fuente: https://www.tutorialspoint.com/genetic_algorithms/genetic_algorithms_quick_guide.htm\n",
    "\n",
    "## Ejemplos\n",
    "\n",
    "### Codificar un cromosoma binario"
   ]
  },
  {
   "cell_type": "code",
   "execution_count": 2,
   "id": "54642b53",
   "metadata": {},
   "outputs": [],
   "source": [
    "import random\n",
    "\n",
    "# Binary encoding of the chromosome\n",
    "chromosome = ['0', '1', '1', '0', '1', '0', '0', '1']"
   ]
  },
  {
   "cell_type": "markdown",
   "id": "3494dfe2",
   "metadata": {},
   "source": [
    "### Operador cruza"
   ]
  },
  {
   "cell_type": "code",
   "execution_count": 12,
   "id": "92d831e2",
   "metadata": {},
   "outputs": [],
   "source": [
    "# Crossover operator (one point)\n",
    "def crossover(parent1, parent2):\n",
    "    crossover_point = random.randint(1, len(parent1)-1)\n",
    "    child1 = parent1[:crossover_point] + parent2[crossover_point:]\n",
    "    child2 = parent2[:crossover_point] + parent1[crossover_point:]\n",
    "    return child1, child2"
   ]
  },
  {
   "cell_type": "markdown",
   "id": "e7b29ef4",
   "metadata": {},
   "source": [
    "### Operador de mutacion"
   ]
  },
  {
   "cell_type": "code",
   "execution_count": 3,
   "id": "00bfd9bd",
   "metadata": {},
   "outputs": [],
   "source": [
    "# Mutation operator (bit flip)\n",
    "def mutation(chromosome, mutation_rate):\n",
    "    mutated_chromosome = \"\"\n",
    "    for gene in chromosome:\n",
    "        if random.random() < mutation_rate:\n",
    "            mutated_chromosome += '1' if gene == '0' else '0'\n",
    "        else:\n",
    "            mutated_chromosome += gene\n",
    "    return mutated_chromosome"
   ]
  },
  {
   "cell_type": "markdown",
   "id": "7d5f2e40",
   "metadata": {},
   "source": [
    "### función de aptitud"
   ]
  },
  {
   "cell_type": "code",
   "execution_count": 4,
   "id": "35129c33",
   "metadata": {},
   "outputs": [],
   "source": [
    "# Fitness function (example function that counts the number of ones in the chromosome)\n",
    "def fitness(chromosome):\n",
    "    return chromosome.count('1')"
   ]
  },
  {
   "cell_type": "code",
   "execution_count": 10,
   "id": "42e9bf08",
   "metadata": {},
   "outputs": [
    {
     "name": "stdout",
     "output_type": "stream",
     "text": [
      "Antes de la cruza:\n",
      "Padre 1: ['0', '1', '1', '0', '0', '1', '0', '1']\n",
      "Padre 2: ['1', '0', '0', '1', '1', '0', '1', '0']\n"
     ]
    }
   ],
   "source": [
    "# Example usage of the operators\n",
    "parent1 = ['0', '1', '1', '0', '0', '1', '0', '1']\n",
    "parent2 = ['1', '0', '0', '1', '1', '0', '1', '0']\n",
    "\n",
    "print(\"Antes de la cruza:\")\n",
    "print(\"Padre 1:\", parent1)\n",
    "print(\"Padre 2:\", parent2)"
   ]
  },
  {
   "cell_type": "code",
   "execution_count": 11,
   "id": "d801f0ba",
   "metadata": {},
   "outputs": [
    {
     "name": "stdout",
     "output_type": "stream",
     "text": [
      "Después de la cruza:\n",
      "Hijo 1: ['0', '1', '1', '0', '0', '0', '1', '0']\n",
      "Hijo 2: ['1', '0', '0', '1', '1', '1', '0', '1']\n"
     ]
    }
   ],
   "source": [
    "child1, child2 = crossover(parent1, parent2)\n",
    "\n",
    "print(\"Después de la cruza:\")\n",
    "print(\"Hijo 1:\", child1)\n",
    "print(\"Hijo 2:\", child2)"
   ]
  },
  {
   "cell_type": "code",
   "execution_count": 13,
   "id": "4de68085",
   "metadata": {},
   "outputs": [
    {
     "name": "stdout",
     "output_type": "stream",
     "text": [
      "Fitness del padre 1: 4\n",
      "Fitness del padre 2: 4\n",
      "Fitness del hijo 1: 3\n",
      "Fitness del hijo 2: 5\n"
     ]
    }
   ],
   "source": [
    "print(\"Fitness del padre 1:\", fitness(parent1))\n",
    "print(\"Fitness del padre 2:\", fitness(parent2))\n",
    "\n",
    "print(\"Fitness del hijo 1:\", fitness(child1))\n",
    "print(\"Fitness del hijo 2:\", fitness(child2))"
   ]
  },
  {
   "cell_type": "code",
   "execution_count": 14,
   "id": "54e9bfc3",
   "metadata": {},
   "outputs": [
    {
     "name": "stdout",
     "output_type": "stream",
     "text": [
      "Antes de la mutación: ['0', '1', '1', '0', '1', '0', '0', '1']\n",
      "Después de la mutación: 01101000\n",
      "Fitness del cromosoma original: 4\n",
      "Fitness del cromosoma mutado: 3\n"
     ]
    }
   ],
   "source": [
    "print(\"Antes de la mutación:\", chromosome)\n",
    "\n",
    "mutated_chromosome = mutation(chromosome, 0.1)\n",
    "\n",
    "print(\"Después de la mutación:\", mutated_chromosome)\n",
    "\n",
    "print(\"Fitness del cromosoma original:\", fitness(chromosome))\n",
    "print(\"Fitness del cromosoma mutado:\", fitness(mutated_chromosome))"
   ]
  },
  {
   "cell_type": "code",
   "execution_count": null,
   "id": "3845b856",
   "metadata": {},
   "outputs": [],
   "source": []
  }
 ],
 "metadata": {
  "kernelspec": {
   "display_name": "Python 3 (ipykernel)",
   "language": "python",
   "name": "python3"
  },
  "language_info": {
   "codemirror_mode": {
    "name": "ipython",
    "version": 3
   },
   "file_extension": ".py",
   "mimetype": "text/x-python",
   "name": "python",
   "nbconvert_exporter": "python",
   "pygments_lexer": "ipython3",
   "version": "3.10.6"
  }
 },
 "nbformat": 4,
 "nbformat_minor": 5
}
