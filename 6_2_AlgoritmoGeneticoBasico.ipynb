{
 "cells": [
  {
   "cell_type": "markdown",
   "id": "9fdb425c",
   "metadata": {},
   "source": [
    "# Algoritmo genético básico\n",
    "\n",
    "START\n",
    "\n",
    "Generate the initial population\n",
    "\n",
    "Compute fitness\n",
    "\n",
    "REPEAT\n",
    "\n",
    "    Selection\n",
    "    \n",
    "    Crossover\n",
    "    \n",
    "    Mutation\n",
    "    \n",
    "    Compute fitness\n",
    "    \n",
    "UNTIL population has converged\n",
    "\n",
    "STOP\n",
    "\n",
    "![](https://raw.githubusercontent.com/igomezv/ComputoEvolutivo/main/img/diagram.png)\n",
    "\n",
    "## Codificación binaria\n",
    "\n",
    "Ejemplo: $f(x,y,z) = 2x+3y+10z-3.6$, $x = [25,36], y= [39,50], z = [91,102]$\n",
    "\n",
    "![](https://miro.medium.com/v2/resize:fit:640/format:webp/1*GqWHvKfr8SFnA8Y-ccsnqQ.png)\n",
    "\n",
    "## Crossover/cruza\n",
    "\n",
    "- De un punto.\n",
    "![](https://raw.githubusercontent.com/igomezv/ComputoEvolutivo/main/img/one_point.png)\n",
    "\n",
    "- Cruza uniforme.\n",
    "![](https://raw.githubusercontent.com/igomezv/ComputoEvolutivo/main/img/uniform_crossover.png)\n",
    "\n",
    "\n",
    "## Mutación\n",
    "- Bit flip\n",
    "![](https://raw.githubusercontent.com/igomezv/ComputoEvolutivo/main/img/flipping.png)\n",
    "\n",
    "## Mapeo fenotipo-genotipo\n",
    "\n",
    "![](https://www.tutorialspoint.com/genetic_algorithms/images/pheno_genotype_space.jpg)\n",
    "Fuente: https://www.tutorialspoint.com/genetic_algorithms/genetic_algorithms_quick_guide.htm\n",
    "\n",
    "## Ejemplos\n",
    "\n",
    "### Codificar un cromosoma binario"
   ]
  },
  {
   "cell_type": "code",
   "execution_count": 1,
   "id": "54642b53",
   "metadata": {},
   "outputs": [],
   "source": [
    "import random\n",
    "import numpy as np\n",
    "import matplotlib.pyplot as plt"
   ]
  },
  {
   "cell_type": "code",
   "execution_count": 2,
   "id": "a5e4aece",
   "metadata": {},
   "outputs": [],
   "source": [
    "# Binary encoding of the chromosome\n",
    "chromosome = ['0', '1', '1', '0', '1', '0', '0', '1']"
   ]
  },
  {
   "cell_type": "markdown",
   "id": "c04248f0",
   "metadata": {},
   "source": [
    "### Operador cruza"
   ]
  },
  {
   "cell_type": "code",
   "execution_count": 3,
   "id": "6eb5ddd4",
   "metadata": {},
   "outputs": [],
   "source": [
    "# Crossover operator (one point)\n",
    "def crossover(parent1, parent2):\n",
    "    crossover_point = random.randint(1, len(parent1)-1)\n",
    "    child1 = parent1[:crossover_point] + parent2[crossover_point:]\n",
    "    child2 = parent2[:crossover_point] + parent1[crossover_point:]\n",
    "    return child1, child2"
   ]
  },
  {
   "cell_type": "markdown",
   "id": "98da6ac6",
   "metadata": {},
   "source": [
    "### Operador de mutacion"
   ]
  },
  {
   "cell_type": "code",
   "execution_count": 4,
   "id": "a80466d4",
   "metadata": {},
   "outputs": [],
   "source": [
    "# Mutation operator (bit flip)\n",
    "def mutation(chromosome, mutation_rate):\n",
    "    mutated_chromosome = \"\"\n",
    "    for gene in chromosome:\n",
    "        if random.random() < mutation_rate:\n",
    "            mutated_chromosome += '1' if gene == '0' else '0'\n",
    "        else:\n",
    "            mutated_chromosome += gene\n",
    "    return mutated_chromosome"
   ]
  },
  {
   "cell_type": "markdown",
   "id": "89ef4b2d",
   "metadata": {},
   "source": [
    "### función de aptitud"
   ]
  },
  {
   "cell_type": "code",
   "execution_count": 5,
   "id": "a64551cd",
   "metadata": {},
   "outputs": [],
   "source": [
    "# Fitness function (example function that counts the number of ones in the chromosome)\n",
    "def fitness(chromosome):\n",
    "    return chromosome.count('1')"
   ]
  },
  {
   "cell_type": "code",
   "execution_count": 6,
   "id": "fc320685",
   "metadata": {},
   "outputs": [
    {
     "name": "stdout",
     "output_type": "stream",
     "text": [
      "Antes de la cruza:\n",
      "Padre 1: ['0', '1', '1', '0', '0', '1', '0', '1']\n",
      "Padre 2: ['1', '0', '0', '1', '1', '0', '1', '0']\n"
     ]
    }
   ],
   "source": [
    "# Example usage of the operators\n",
    "parent1 = ['0', '1', '1', '0', '0', '1', '0', '1']\n",
    "parent2 = ['1', '0', '0', '1', '1', '0', '1', '0']\n",
    "\n",
    "print(\"Antes de la cruza:\")\n",
    "print(\"Padre 1:\", parent1)\n",
    "print(\"Padre 2:\", parent2)"
   ]
  },
  {
   "cell_type": "code",
   "execution_count": 7,
   "id": "0cfb4071",
   "metadata": {},
   "outputs": [
    {
     "name": "stdout",
     "output_type": "stream",
     "text": [
      "Después de la cruza:\n",
      "Hijo 1: ['0', '1', '1', '0', '0', '1', '1', '0']\n",
      "Hijo 2: ['1', '0', '0', '1', '1', '0', '0', '1']\n"
     ]
    }
   ],
   "source": [
    "child1, child2 = crossover(parent1, parent2)\n",
    "\n",
    "print(\"Después de la cruza:\")\n",
    "print(\"Hijo 1:\", child1)\n",
    "print(\"Hijo 2:\", child2)"
   ]
  },
  {
   "cell_type": "code",
   "execution_count": 8,
   "id": "30d2a5bb",
   "metadata": {},
   "outputs": [
    {
     "name": "stdout",
     "output_type": "stream",
     "text": [
      "Fitness del padre 1: 4\n",
      "Fitness del padre 2: 4\n",
      "Fitness del hijo 1: 4\n",
      "Fitness del hijo 2: 4\n"
     ]
    }
   ],
   "source": [
    "print(\"Fitness del padre 1:\", fitness(parent1))\n",
    "print(\"Fitness del padre 2:\", fitness(parent2))\n",
    "\n",
    "print(\"Fitness del hijo 1:\", fitness(child1))\n",
    "print(\"Fitness del hijo 2:\", fitness(child2))"
   ]
  },
  {
   "cell_type": "code",
   "execution_count": 9,
   "id": "7a087292",
   "metadata": {},
   "outputs": [
    {
     "name": "stdout",
     "output_type": "stream",
     "text": [
      "Antes de la mutación: ['0', '1', '1', '0', '1', '0', '0', '1']\n",
      "Después de la mutación: 01101100\n",
      "Fitness del cromosoma original: 4\n",
      "Fitness del cromosoma mutado: 4\n"
     ]
    }
   ],
   "source": [
    "print(\"Antes de la mutación:\", chromosome)\n",
    "\n",
    "mutated_chromosome = mutation(chromosome, 0.1)\n",
    "\n",
    "print(\"Después de la mutación:\", mutated_chromosome)\n",
    "\n",
    "print(\"Fitness del cromosoma original:\", fitness(chromosome))\n",
    "print(\"Fitness del cromosoma mutado:\", fitness(mutated_chromosome))"
   ]
  },
  {
   "cell_type": "markdown",
   "id": "77ab5833",
   "metadata": {},
   "source": [
    "### Operador de selección"
   ]
  },
  {
   "cell_type": "code",
   "execution_count": 10,
   "id": "3e8c4c6a",
   "metadata": {},
   "outputs": [],
   "source": [
    "# Tournament selection operator\n",
    "def tournament_selection(population, tournament_size):\n",
    "    tournament = random.sample(population, tournament_size)\n",
    "    tournament.sort(key=lambda x: fitness(x), reverse=True)\n",
    "    return tournament[0]"
   ]
  },
  {
   "cell_type": "code",
   "execution_count": 11,
   "id": "e3ebadce",
   "metadata": {},
   "outputs": [
    {
     "name": "stdout",
     "output_type": "stream",
     "text": [
      "Selected parent 1: ['0', '1', '1', '0', '0', '1', '0', '1']\n",
      "Selected parent 2: ['0', '1', '1', '0', '0', '1', '0', '1']\n"
     ]
    }
   ],
   "source": [
    "# Example usage of the operators\n",
    "parent1 = ['0', '1', '1', '0', '0', '1', '0', '1']\n",
    "parent2 = ['1', '0', '0', '1', '1', '0', '1', '0']\n",
    "\n",
    "population = [parent1, parent2]\n",
    "\n",
    "selected_parent1 = tournament_selection(population, 2)\n",
    "selected_parent2 = tournament_selection(population, 2)\n",
    "\n",
    "print(\"Selected parent 1:\", selected_parent1)\n",
    "print(\"Selected parent 2:\", selected_parent2)"
   ]
  },
  {
   "cell_type": "markdown",
   "id": "e2cec54a",
   "metadata": {},
   "source": [
    "### Algoritmo genético simple"
   ]
  },
  {
   "cell_type": "code",
   "execution_count": 12,
   "id": "ede40445",
   "metadata": {},
   "outputs": [],
   "source": [
    "# Función de codificación binaria para convertir un valor decimal en una cadena binaria\n",
    "def binary_encode(x, num_bits):\n",
    "    print(format(x, 'b').zfill(num_bits))\n",
    "    return format(x, 'b').zfill(num_bits)\n",
    "\n",
    "# Función de decodificación binaria para convertir una cadena binaria en un valor decimal\n",
    "def binary_decode(bitstring):\n",
    "    return int(bitstring, 2)\n",
    "\n",
    "# Función de inicialización de la población\n",
    "def init_population(pop_size, num_bits):\n",
    "    population = []\n",
    "    for i in range(pop_size):\n",
    "        x1 = random.randint(0, (2**num_bits)-1)\n",
    "        x2 = random.randint(0, (2**num_bits)-1)\n",
    "        individual = binary_encode(x1, num_bits) + binary_encode(x2, num_bits)\n",
    "        population.append(individual)\n",
    "    return population\n",
    "\n",
    "# Función de selección de padres usando torneo\n",
    "def tournament_selection(population, tournament_size):\n",
    "    tournament = random.sample(population, tournament_size)\n",
    "    tournament.sort(key=lambda x: funcion_objetivo(binary_decode(x[:num_bits]), binary_decode(x[num_bits:])))\n",
    "    return tournament[0]\n",
    "\n",
    "# Operador de cruce (crossover) de un punto\n",
    "def one_point_crossover(parent1, parent2):\n",
    "    crossover_point = random.randint(1, len(parent1)-1)\n",
    "    child1 = parent1[:crossover_point] + parent2[crossover_point:]\n",
    "    child2 = parent2[:crossover_point] + parent1[crossover_point:]\n",
    "    return child1, child2\n",
    "\n",
    "# Operador de mutación de bit-flip\n",
    "def bit_flip_mutation(individual, mutation_rate):\n",
    "    mutated_individual = \"\"\n",
    "    for bit in individual:\n",
    "        if random.random() < mutation_rate:\n",
    "            mutated_individual += '1' if bit == '0' else '0'\n",
    "        else:\n",
    "            mutated_individual += bit\n",
    "    return mutated_individual\n"
   ]
  },
  {
   "cell_type": "markdown",
   "id": "4d6f4cbd",
   "metadata": {},
   "source": [
    "### Ejercicio: explorar numericamente las funciones de arriba, en particular, binary encode, binary decode, one_point_crossover y bit_flip_mutation."
   ]
  },
  {
   "cell_type": "code",
   "execution_count": 13,
   "id": "3d8bcd93",
   "metadata": {},
   "outputs": [
    {
     "name": "stdout",
     "output_type": "stream",
     "text": [
      "0010\n",
      "0010\n"
     ]
    }
   ],
   "source": [
    "print(binary_encode(x=2, num_bits=4))\n",
    "# bit_flip_mutation(individual=ind, mutation_rate=0.2)"
   ]
  },
  {
   "cell_type": "markdown",
   "id": "3bd0f07d",
   "metadata": {},
   "source": [
    "### Pregunta: ¿Dónde se lleva a cabo el mapeo fenotipo-genotipo?"
   ]
  },
  {
   "cell_type": "markdown",
   "id": "4b2aa6cd",
   "metadata": {},
   "source": [
    "## Utilizar las operaciones previas para optimizar una función."
   ]
  },
  {
   "cell_type": "code",
   "execution_count": 14,
   "id": "af3bfd10",
   "metadata": {},
   "outputs": [],
   "source": [
    "# Definición de la función objetivo (función cuadrática)\n",
    "def funcion_objetivo(x1, x2):\n",
    "    return (x1 - 3)**2 + (x2 - 2)**2"
   ]
  },
  {
   "cell_type": "code",
   "execution_count": 15,
   "id": "d20add98",
   "metadata": {},
   "outputs": [
    {
     "data": {
      "text/plain": [
       "Text(0.5, 1.0, 'Función f(x,y)')"
      ]
     },
     "execution_count": 15,
     "metadata": {},
     "output_type": "execute_result"
    },
    {
     "data": {
      "image/png": "[encoded data removed]",
      "text/plain": [
       "<Figure size 432x288 with 2 Axes>"
      ]
     },
     "metadata": {
      "needs_background": "light"
     },
     "output_type": "display_data"
    }
   ],
   "source": [
    "# Definir el rango de valores para x e y\n",
    "x_range = np.linspace(0, 10, 100)\n",
    "y_range = np.linspace(0, 10, 100)\n",
    "\n",
    "# Calcular los valores de z para cada combinación de x e y\n",
    "z = np.array([[funcion_objetivo(x, y) for y in y_range] for x in x_range])\n",
    "\n",
    "# Graficar la función f\n",
    "fig, ax = plt.subplots()\n",
    "cmap = ax.contourf(x_range, y_range, z, cmap='viridis')\n",
    "# ax.contourf(x_range, y_range, z, cmap='viridis')\n",
    "fig.colorbar(cmap)\n",
    "ax.set_xlabel('x')\n",
    "ax.set_ylabel('y')\n",
    "ax.set_title('Función f(x,y)')"
   ]
  },
  {
   "cell_type": "code",
   "execution_count": 16,
   "id": "d54b68f8",
   "metadata": {},
   "outputs": [
    {
     "data": {
      "text/plain": [
       "<mpl_toolkits.mplot3d.art3d.Poly3DCollection at 0x7f5887237400>"
      ]
     },
     "execution_count": 16,
     "metadata": {},
     "output_type": "execute_result"
    },
    {
     "data": {
      "image/png": "[encoded data removed]",
      "text/plain": [
       "<Figure size 432x288 with 1 Axes>"
      ]
     },
     "metadata": {
      "needs_background": "light"
     },
     "output_type": "display_data"
    }
   ],
   "source": [
    "# Calcular los valores de z para cada combinación de x e y\n",
    "z = np.array([[funcion_objetivo(x, y) for y in y_range] for x in x_range])\n",
    "\n",
    "# Crear una figura en 3D\n",
    "fig = plt.figure()\n",
    "ax = fig.add_subplot(111, projection='3d')\n",
    "\n",
    "# Graficar la superficie de la función f\n",
    "X, Y = np.meshgrid(x_range, y_range)\n",
    "ax.plot_surface(X, Y, z, cmap='viridis', alpha=0.8)"
   ]
  },
  {
   "cell_type": "code",
   "execution_count": 17,
   "id": "fb6ca0c0",
   "metadata": {},
   "outputs": [
    {
     "name": "stdout",
     "output_type": "stream",
     "text": [
      "1000\n",
      "0011\n",
      "1011\n",
      "0111\n",
      "1111\n",
      "0001\n",
      "0100\n",
      "0101\n",
      "0011\n",
      "0000\n",
      "0110\n",
      "1110\n",
      "0101\n",
      "0011\n",
      "0100\n",
      "0000\n",
      "1111\n",
      "0100\n",
      "0100\n",
      "0011\n",
      "1110\n",
      "0011\n",
      "1101\n",
      "1100\n",
      "1111\n",
      "1010\n",
      "1101\n",
      "1110\n",
      "1100\n",
      "0100\n",
      "0111\n",
      "1111\n",
      "1101\n",
      "0011\n",
      "0110\n",
      "1101\n",
      "1001\n",
      "1010\n",
      "0001\n",
      "0110\n",
      "Generación 1: Mejor individuo: 01000011 (2)\n",
      "Generación 2: Mejor individuo: 01000010 (1)\n",
      "Generación 3: Mejor individuo: 01000010 (1)\n",
      "Generación 4: Mejor individuo: 00110010 (0)\n",
      "Generación 5: Mejor individuo: 00110010 (0)\n",
      "Generación 6: Mejor individuo: 00110010 (0)\n",
      "Generación 7: Mejor individuo: 00110010 (0)\n",
      "Generación 8: Mejor individuo: 00110010 (0)\n",
      "Generación 9: Mejor individuo: 00110010 (0)\n",
      "Generación 10: Mejor individuo: 00110010 (0)\n",
      "Generación 11: Mejor individuo: 00110010 (0)\n",
      "Generación 12: Mejor individuo: 00110010 (0)\n",
      "Generación 13: Mejor individuo: 00110010 (0)\n",
      "Generación 14: Mejor individuo: 00110010 (0)\n",
      "Generación 15: Mejor individuo: 00110010 (0)\n",
      "Generación 16: Mejor individuo: 00110010 (0)\n",
      "Generación 17: Mejor individuo: 00110010 (0)\n",
      "Generación 18: Mejor individuo: 00110010 (0)\n",
      "Generación 19: Mejor individuo: 00110010 (0)\n",
      "Generación 20: Mejor individuo: 00110010 (0)\n",
      "Generación 21: Mejor individuo: 00110010 (0)\n",
      "Generación 22: Mejor individuo: 00110010 (0)\n",
      "Generación 23: Mejor individuo: 00110010 (0)\n",
      "Generación 24: Mejor individuo: 00110010 (0)\n",
      "Generación 25: Mejor individuo: 00110010 (0)\n",
      "Generación 26: Mejor individuo: 00110010 (0)\n",
      "Generación 27: Mejor individuo: 00110010 (0)\n",
      "Generación 28: Mejor individuo: 00110010 (0)\n",
      "Generación 29: Mejor individuo: 00110010 (0)\n",
      "Generación 30: Mejor individuo: 00110010 (0)\n",
      "Generación 31: Mejor individuo: 00110010 (0)\n",
      "Generación 32: Mejor individuo: 00110010 (0)\n",
      "Generación 33: Mejor individuo: 00110010 (0)\n",
      "Generación 34: Mejor individuo: 00110010 (0)\n",
      "Generación 35: Mejor individuo: 00110010 (0)\n",
      "Generación 36: Mejor individuo: 00110010 (0)\n",
      "Generación 37: Mejor individuo: 00110010 (0)\n",
      "Generación 38: Mejor individuo: 00110010 (0)\n",
      "Generación 39: Mejor individuo: 00110010 (0)\n",
      "Generación 40: Mejor individuo: 00110010 (0)\n",
      "Generación 41: Mejor individuo: 00110010 (0)\n",
      "Generación 42: Mejor individuo: 00110010 (0)\n",
      "Generación 43: Mejor individuo: 00110010 (0)\n",
      "Generación 44: Mejor individuo: 00110010 (0)\n",
      "Generación 45: Mejor individuo: 00110010 (0)\n",
      "Generación 46: Mejor individuo: 00110010 (0)\n",
      "Generación 47: Mejor individuo: 00110010 (0)\n",
      "Generación 48: Mejor individuo: 00110010 (0)\n",
      "Generación 49: Mejor individuo: 00110010 (0)\n",
      "Generación 50: Mejor individuo: 00110010 (0)\n"
     ]
    }
   ],
   "source": [
    "# Parámetros del algoritmo genético\n",
    "num_bits = 4\n",
    "pop_size = 20\n",
    "mutation_rate = 0.1\n",
    "num_generations = 50\n",
    "tournament_size = 2\n",
    "\n",
    "# Inicialización de la población\n",
    "population = init_population(pop_size, num_bits)\n",
    "\n",
    "# Ciclo principal del algoritmo genético\n",
    "for i in range(num_generations):\n",
    "    # Evaluación de la aptitud de cada individuo en la población\n",
    "    fitness_values = [funcion_objetivo(binary_decode(individual[:num_bits]), binary_decode(individual[num_bits:])) for individual in population]\n",
    "\n",
    "    # Selección de padres y creación de descendencia\n",
    "    offspring = []\n",
    "    for j in range(pop_size // 2):\n",
    "        parent1 = tournament_selection(population, tournament_size)\n",
    "        parent2 = tournament_selection(population, tournament_size)\n",
    "        child1, child2 = one_point_crossover(parent1, parent2)\n",
    "        child1 = bit_flip_mutation(child1, mutation_rate)\n",
    "        child2 = bit_flip_mutation(child2, mutation_rate)\n",
    "        offspring.extend([child1, child2])\n",
    "\n",
    "    # Evaluación de la aptitud de los descendientes\n",
    "    offspring_fitness_values = [funcion_objetivo(binary_decode(individual[:num_bits]), \n",
    "                                                 binary_decode(individual[num_bits:])) for individual in offspring]\n",
    "\n",
    "    # Selección de los individuos más aptos para la siguiente generación (reemplazo)\n",
    "    combined_population = list(zip(population, fitness_values)) + list(zip(offspring, offspring_fitness_values))\n",
    "    combined_population = sorted(combined_population, key=lambda x: x[1])\n",
    "    population = [individual for individual, fitness in combined_population[:pop_size]]\n",
    "\n",
    "    # Registro del mejor individuo en la generación actual\n",
    "    best_fitness = min(fitness_values + offspring_fitness_values)\n",
    "    best_individual = [individual for individual in population if funcion_objetivo(binary_decode(individual[:num_bits]), \n",
    "                                                                                   binary_decode(individual[num_bits:])) == best_fitness][0]\n",
    "    print(f\"Generación {i+1}: Mejor individuo: {best_individual} ({best_fitness})\")"
   ]
  },
  {
   "cell_type": "code",
   "execution_count": 18,
   "id": "652de860",
   "metadata": {},
   "outputs": [
    {
     "data": {
      "text/plain": [
       "Text(1.5, 3.5, 'Mejor solución: (3.00, 2.00)')"
      ]
     },
     "execution_count": 18,
     "metadata": {},
     "output_type": "execute_result"
    },
    {
     "data": {
      "image/png": "[encoded data removed]",
      "text/plain": [
       "<Figure size 432x288 with 2 Axes>"
      ]
     },
     "metadata": {
      "needs_background": "light"
     },
     "output_type": "display_data"
    }
   ],
   "source": [
    "# Definir el rango de valores para x e y\n",
    "x_range = np.linspace(0, 10, 100)\n",
    "y_range = np.linspace(0, 10, 100)\n",
    "\n",
    "# Calcular los valores de z para cada combinación de x e y\n",
    "z = np.array([[funcion_objetivo(x, y) for y in y_range] for x in x_range])\n",
    "\n",
    "# Graficar la función f\n",
    "fig, ax = plt.subplots()\n",
    "cmap = ax.contourf(x_range, y_range, z, cmap='viridis')\n",
    "# ax.contourf(x_range, y_range, z, cmap='viridis')\n",
    "fig.colorbar(cmap)\n",
    "\n",
    "ax.set_xlabel('x')\n",
    "ax.set_ylabel('y')\n",
    "ax.set_title('Función f(x,y)')\n",
    "\n",
    "# Decodificar el mejor individuo encontrado\n",
    "best_x = binary_decode(best_individual[:num_bits])\n",
    "best_y = binary_decode(best_individual[num_bits:])\n",
    "\n",
    "# Graficar la solución encontrada\n",
    "ax.plot(best_x, best_y, 'ro', markersize=10)\n",
    "ax.annotate(f'Mejor solución: ({best_x:.2f}, {best_y:.2f})', \n",
    "            (best_x, best_y), xytext=(best_x-1.5, best_y+1.5, ), \n",
    "            arrowprops=dict(facecolor='yellow', shrink=0.05), c=\"w\")"
   ]
  },
  {
   "cell_type": "markdown",
   "id": "9febfa4a",
   "metadata": {},
   "source": [
    "### Práctica: Utilizar el código anterior para optimizar otra función. \n",
    "\n",
    "- Graficar función objetivo.\n",
    "- Explicar el proceso de codificación de las soluciones.\n",
    "- Mostrar mejor solución de manera gráfica."
   ]
  },
  {
   "cell_type": "code",
   "execution_count": null,
   "id": "e65d9562",
   "metadata": {},
   "outputs": [],
   "source": []
  },
  {
   "cell_type": "markdown",
   "id": "5b9088ba",
   "metadata": {},
   "source": [
    "## Problema de la mochila\n",
    "![](https://upload.wikimedia.org/wikipedia/commons/thumb/f/fd/Knapsack.svg/729px-Knapsack.svg.png)"
   ]
  },
  {
   "cell_type": "code",
   "execution_count": 41,
   "id": "40c11470",
   "metadata": {},
   "outputs": [],
   "source": [
    "import random\n",
    "\n",
    "# Generación aleatoria de objetos de la mochila\n",
    "def generate_knapsack_objects(num_objects, max_weight, max_value):\n",
    "    objects = []\n",
    "    for i in range(num_objects):\n",
    "        weight = random.randint(1, max_weight)\n",
    "        value = random.randint(1, max_value)\n",
    "        objects.append((weight, value))\n",
    "    return objects\n",
    "\n",
    "# Función de codificación binaria para convertir un valor decimal en una cadena binaria\n",
    "def binary_encode(x, num_bits):\n",
    "    return format(x, 'b').zfill(num_bits)\n",
    "\n",
    "# Función de decodificación binaria para convertir una cadena binaria en un valor decimal\n",
    "def binary_decode(bitstring):\n",
    "    return int(bitstring, 2)\n",
    "\n",
    "# Función de evaluación de un individuo de la población\n",
    "def evaluate_individual(individual, objects, capacity):\n",
    "    weight = 0\n",
    "    value = 0\n",
    "    for i in range(len(individual)):\n",
    "        if individual[i] == '1':\n",
    "            weight += objects[i][0]\n",
    "            value += objects[i][1]\n",
    "            if weight > capacity:\n",
    "                return 0\n",
    "    return value\n",
    "\n",
    "# Función de inicialización de la población\n",
    "def init_population(pop_size, num_bits):\n",
    "    population = []\n",
    "    for i in range(pop_size):\n",
    "        individual = \"\"\n",
    "        for j in range(num_bits):\n",
    "            individual += str(random.randint(0, 1))\n",
    "        population.append(individual)\n",
    "    return population\n",
    "\n",
    "# Función de selección de padres usando torneo\n",
    "def tournament_selection(population, objects, capacity, tournament_size):\n",
    "    tournament = random.sample(population, tournament_size)\n",
    "    tournament.sort(key=lambda x: evaluate_individual(x, objects, capacity), reverse=True)\n",
    "    return tournament[0]\n",
    "\n",
    "# Operador de cruce (crossover) de un punto\n",
    "def one_point_crossover(parent1, parent2):\n",
    "    crossover_point = random.randint(1, len(parent1)-1)\n",
    "    child1 = parent1[:crossover_point] + parent2[crossover_point:]\n",
    "    child2 = parent2[:crossover_point] + parent1[crossover_point:]\n",
    "    return child1, child2\n",
    "\n",
    "# Operador de mutación de bit-flip\n",
    "def bit_flip_mutation(individual, mutation_rate):\n",
    "    mutated_individual = \"\"\n",
    "    for bit in individual:\n",
    "        if random.random() < mutation_rate:\n",
    "            mutated_individual += '1' if bit == '0' else '0'\n",
    "        else:\n",
    "            mutated_individual += bit\n",
    "    return mutated_individual\n",
    "\n",
    "\n"
   ]
  },
  {
   "cell_type": "code",
   "execution_count": 43,
   "id": "c865b549",
   "metadata": {},
   "outputs": [],
   "source": [
    "# Función principal del algoritmo genético\n",
    "def genetic_algorithm(objects, capacity, pop_size, num_generations, mutation_rate, tournament_size):\n",
    "    # Inicialización de la población\n",
    "    num_objects = len(objects)\n",
    "    num_bits = num_objects\n",
    "    population = init_population(pop_size, num_bits)\n",
    "    best_individual = None\n",
    "    best_fitness = -1\n",
    "    \n",
    "    # Evolución de la población\n",
    "    for i in range(num_generations):\n",
    "        # Selección de padres\n",
    "        parent1 = tournament_selection(population, objects, capacity, tournament_size)\n",
    "        parent2 = tournament_selection(population, objects, capacity, tournament_size)\n",
    "        \n",
    "        # Cruce\n",
    "        child1, child2 = one_point_crossover(parent1, parent2)\n",
    "        \n",
    "        # Mutación\n",
    "        child1 = bit_flip_mutation(child1, mutation_rate)\n",
    "        child2 = bit_flip_mutation(child2, mutation_rate)\n",
    "        \n",
    "        # Evaluación de la descendencia\n",
    "        child1_fitness = evaluate_individual(child1, objects, capacity)\n",
    "        child2_fitness = evaluate_individual(child2, objects, capacity)\n",
    "        \n",
    "        # Reemplazo de la peor solución de la población con la mejor descendencia\n",
    "        population.sort(key=lambda x: evaluate_individual(x, objects, capacity))\n",
    "        if child1_fitness > child2_fitness:\n",
    "            if child1_fitness > evaluate_individual(population[0], objects, capacity):\n",
    "                population[0] = child1\n",
    "                if child1_fitness > best_fitness:\n",
    "                    best_individual = child1\n",
    "                    best_fitness = child1_fitness\n",
    "        else:\n",
    "            if child2_fitness > evaluate_individual(population[0], objects, capacity):\n",
    "                population[0] = child2\n",
    "                if child2_fitness > best_fitness:\n",
    "                    best_individual = child2\n",
    "                    best_fitness = child2_fitness\n",
    "    \n",
    "    # Devolución de la mejor solución encontrada\n",
    "    return (best_individual, best_fitness)\n"
   ]
  },
  {
   "cell_type": "code",
   "execution_count": 44,
   "id": "7f27025f",
   "metadata": {},
   "outputs": [],
   "source": [
    "objects = generate_knapsack_objects(num_objects=10, max_weight=10, max_value=100)"
   ]
  },
  {
   "cell_type": "code",
   "execution_count": 45,
   "id": "6babe04e",
   "metadata": {},
   "outputs": [],
   "source": [
    "capacity = 50\n",
    "pop_size = 100\n",
    "num_generations = 50\n",
    "mutation_rate = 0.1\n",
    "tournament_size = 5\n",
    "\n",
    "best_individual, best_fitness = genetic_algorithm(objects, capacity, pop_size, num_generations, mutation_rate, tournament_size)"
   ]
  },
  {
   "cell_type": "code",
   "execution_count": 46,
   "id": "925332cb",
   "metadata": {},
   "outputs": [
    {
     "data": {
      "text/plain": [
       "'1111111011'"
      ]
     },
     "execution_count": 46,
     "metadata": {},
     "output_type": "execute_result"
    }
   ],
   "source": [
    "best_individual"
   ]
  },
  {
   "cell_type": "code",
   "execution_count": null,
   "id": "79096aa1",
   "metadata": {},
   "outputs": [],
   "source": []
  }
 ],
 "metadata": {
  "kernelspec": {
   "display_name": "Python 3 (ipykernel)",
   "language": "python",
   "name": "python3"
  },
  "language_info": {
   "codemirror_mode": {
    "name": "ipython",
    "version": 3
   },
   "file_extension": ".py",
   "mimetype": "text/x-python",
   "name": "python",
   "nbconvert_exporter": "python",
   "pygments_lexer": "ipython3",
   "version": "3.10.6"
  }
 },
 "nbformat": 4,
 "nbformat_minor": 5
}
