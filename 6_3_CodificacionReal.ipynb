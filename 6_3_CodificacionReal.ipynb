{
 "cells": [
  {
   "cell_type": "markdown",
   "id": "d01320f3",
   "metadata": {},
   "source": [
    "## Codificación binaria\n",
    "\n",
    "### Ventajas:\n",
    "\n",
    "    - Simplicidad: La codificación binaria es fácil de entender e implementar. Los individuos se representan como cadenas de bits, donde cada bit representa una característica o un parámetro.\n",
    "\n",
    "    - Operaciones lógicas sencillas: Los operadores genéticos como la mutación y la recombinación son simples de aplicar a la codificación binaria. Estos operadores se basan en manipular los bits individuales, lo que permite una implementación más directa.\n",
    "\n",
    "    - Eficiencia computacional: Las operaciones lógicas y aritméticas en los sistemas informáticos están optimizadas para trabajar con números binarios. Esto hace que las operaciones de mutación y recombinación en la codificación binaria sean rápidas y eficientes desde el punto de vista computacional.\n",
    "\n",
    "### Desventajas:\n",
    "\n",
    "    - Resolución limitada: La codificación binaria puede tener una resolución limitada para representar soluciones. Si se utiliza un número fijo de bits para representar una variable continua, la precisión de la representación puede ser limitada. Esto puede ser problemático cuando se requiere una gran precisión en los valores de las variables.\n",
    "\n",
    "    - Espacio de búsqueda extenso: Con la codificación binaria, el tamaño del espacio de búsqueda aumenta exponencialmente con el número de variables y la longitud de la cadena binaria. Esto puede llevar a una exploración exhaustiva y prolongada del espacio de búsqueda cuando se trabaja con problemas complejos.\n",
    "\n",
    "    - Dificultad para representar estructuras complejas: En algunos casos, la codificación binaria puede tener dificultades para representar soluciones con estructuras complejas o relaciones no lineales entre las variables. En tales situaciones, otras codificaciones más avanzadas pueden ser más apropiadas.\n",
    "\n",
    "En resumen, la codificación binaria ofrece simplicidad y eficiencia computacional en algoritmos genéticos, pero puede tener limitaciones en términos de resolución y representación de estructuras complejas. La elección de la codificación dependerá del problema específico y las características de las soluciones que se desean representar.\n",
    "\n",
    "\n",
    "# Algoritmos genéticos con codificación real\n",
    "\n",
    "La codificación real en algoritmos genéticos implica representar las soluciones candidatas utilizando valores numéricos continuos, como números de punto flotante. A diferencia de la codificación binaria, donde las soluciones se representan mediante cadenas de bits, en la codificación real, los individuos se representan utilizando valores reales que corresponden a los parámetros o variables del problema.\n",
    "\n",
    "El proceso de codificación real en algoritmos genéticos generalmente implica los siguientes pasos:\n",
    "\n",
    "- Definición del rango de valores: Se establece un rango de valores permitidos para cada variable o parámetro que se va a codificar. Esto define los límites dentro de los cuales las soluciones pueden variar.\n",
    "\n",
    "- Representación de la solución: Cada individuo se representa como un vector o conjunto de valores reales, donde cada valor corresponde a una variable o parámetro del problema. La longitud de este vector depende del número de variables en el problema.\n",
    "\n",
    "- Inicialización: Los valores de los individuos se inicializan aleatoriamente dentro de los rangos definidos para cada variable. Esto crea una población inicial diversa.\n",
    "\n",
    "- Operadores genéticos: Los operadores genéticos, como la selección, la recombinación (crossover) y la mutación, se aplican a los individuos codificados de manera real. Estos operadores permiten la exploración y explotación del espacio de búsqueda, ajustando gradualmente los valores de las variables para generar nuevas soluciones.\n",
    "\n",
    "- Evaluación y selección: Después de aplicar los operadores genéticos, se evalúa la aptitud (fitness) de los individuos en función de la función objetivo o criterio de rendimiento del problema. Los individuos con una mayor aptitud tienen más probabilidades de ser seleccionados para la siguiente generación.\n",
    "\n",
    "- Repetición del proceso: Los pasos anteriores se repiten durante varias generaciones hasta que se alcanza un criterio de finalización, como un número máximo de generaciones o una solución óptima satisfactoria.\n",
    "\n",
    "La codificación real en algoritmos genéticos permite una representación más precisa y flexible de las soluciones continuas. Los operadores genéticos se adaptan para trabajar con valores reales y ajustar gradualmente los parámetros para converger hacia soluciones óptimas. Sin embargo, el manejo de valores reales puede requerir una mayor complejidad en la implementación y puede tener implicaciones en el rendimiento computacional debido a la operación con números de punto flotante.\n",
    "\n",
    "\n",
    "|                   | Codificación Binaria                                   | Codificación Real                                                 |\n",
    "|-------------------|-------------------------------------------------------|------------------------------------------------------------------|\n",
    "| Ventajas          | - Simplicidad<br>- Operaciones lógicas sencillas<br>- Eficiencia computacional      | - Mayor precisión en valores<br>- Puede representar estructuras complejas   |\n",
    "| Desventajas       | - Resolución limitada<br>- Espacio de búsqueda extenso<br>- Dificultad para representar estructuras complejas  | - Mayor complejidad de implementación<br>- Menos eficiente computacionalmente   |\n",
    "\n",
    "\n",
    "### Implementación de codificación real\n",
    "\n",
    "La función *codificar* toma un valor decimal individuo y lo codifica en una representación real dentro de un rango específico *(rango_min a rango_max)*. La función *decodificar* realiza el proceso inverso, tomando un individuo codificado y decodificándolo en un valor decimal.\n",
    "\n",
    "En el ejemplo de uso, se proporciona un valor decimal *(valor_decimal)* y se muestra cómo se codifica en una representación real *(individuo_codificado)*. Luego, se utiliza la función *decodificar* para *decodificar* el individuo codificado y se recupera el valor decimal original *(valor_decimal_recuperado)*."
   ]
  },
  {
   "cell_type": "code",
   "execution_count": 21,
   "id": "4f1f68b0",
   "metadata": {},
   "outputs": [],
   "source": [
    "import random\n",
    "\n",
    "def codificar(individuo, rango_min, rango_max):\n",
    "    # Codifica el valor en una representación real\n",
    "    return rango_min + (rango_max - rango_min) * individuo\n",
    "\n",
    "def decodificar(individuo_codificado, rango_min, rango_max):\n",
    "    # Decodifica la representación real en un valor numérico\n",
    "    return (individuo_codificado - rango_min) / (rango_max - rango_min)"
   ]
  },
  {
   "cell_type": "code",
   "execution_count": 22,
   "id": "ce8c7078",
   "metadata": {},
   "outputs": [
    {
     "name": "stdout",
     "output_type": "stream",
     "text": [
      "Individuo codificado: 32.5\n"
     ]
    }
   ],
   "source": [
    "# Ejemplo de codificación y decodificación\n",
    "rango_min = -5\n",
    "rango_max = 5\n",
    "\n",
    "# Codificación\n",
    "valor_decimal = 3.75\n",
    "individuo_codificado = codificar(valor_decimal, rango_min, rango_max)\n",
    "print(\"Individuo codificado:\", individuo_codificado)"
   ]
  },
  {
   "cell_type": "code",
   "execution_count": 23,
   "id": "ade89e17",
   "metadata": {},
   "outputs": [
    {
     "name": "stdout",
     "output_type": "stream",
     "text": [
      "Valor decimal recuperado: 3.75\n"
     ]
    }
   ],
   "source": [
    "# Decodificación\n",
    "valor_decimal_recuperado = decodificar(individuo_codificado, rango_min, rango_max)\n",
    "print(\"Valor decimal recuperado:\", valor_decimal_recuperado)"
   ]
  },
  {
   "cell_type": "markdown",
   "id": "0692812c",
   "metadata": {},
   "source": [
    "| Ventajas del escalamiento en codificación real | Descripción                                              |\n",
    "|-----------------------------------------------|----------------------------------------------------------|\n",
    "| Control del rango de búsqueda                  | Permite definir límites más adecuados para el problema    |\n",
    "| Uniformidad de escala                          | Facilita la comparación y manipulación de los valores     |\n",
    "| Compatibilidad con operadores genéticos       | Asegura el correcto funcionamiento de los operadores      |\n",
    "| Optimización numérica                          | Enfoca la búsqueda en regiones más relevantes            |\n",
    "\n",
    "#### ¿Cuándo conviene usar codificación real?\n",
    "\n",
    "| Casos particulares donde conviene usar codificación real |\n",
    "| ------------------------------------------------------- |\n",
    "| Problemas de optimización con valores continuos          |\n",
    "| Variables con rangos conocidos y limitados               |\n",
    "| Problemas donde la escala y precisión son importantes    |\n",
    "| Búsqueda eficiente en un rango específico                |\n",
    "| Problemas que requieren una representación directa       |\n",
    "\n",
    "\n",
    "\n",
    "### Ejercicio: \n",
    "\n",
    "- Codificar un número decimal a codificación real dados 3 límites diferentes.\n",
    "- Codificar un vector de números decimales. "
   ]
  },
  {
   "cell_type": "code",
   "execution_count": null,
   "id": "94f9f092",
   "metadata": {},
   "outputs": [],
   "source": []
  },
  {
   "cell_type": "markdown",
   "id": "046d94c4",
   "metadata": {},
   "source": []
  },
  {
   "cell_type": "markdown",
   "id": "a98e2da8",
   "metadata": {},
   "source": [
    "## Operadores genéticos para representación real\n",
    "\n",
    "| Operador             | Codificación Binaria                                               | Codificación Real                                        |\n",
    "|----------------------|-------------------------------------------------------------------|---------------------------------------------------------|\n",
    "| Operador de Cruzamiento   | Se realiza a nivel de bits, intercambiando segmentos de bits entre individuos para generar descendientes. | Se realiza a nivel de valores numéricos, combinando segmentos de los valores numéricos de los padres para generar descendientes con nuevos valores. Puede utilizarse el cruzamiento aritmético, lineal o discreto. |\n",
    "| Operador de Mutación | Implica cambiar aleatoriamente uno o más bits en un individuo. | Implica cambiar aleatoriamente el valor numérico de uno o más genes en un individuo. La forma exacta en que se realiza la mutación puede variar según el rango de valores permitidos y la estrategia específica utilizada. |\n",
    "\n",
    "\n",
    "### Operador  de cruza\n",
    "\n",
    "### Operador de mutación"
   ]
  },
  {
   "cell_type": "code",
   "execution_count": 25,
   "id": "d0fa4887",
   "metadata": {},
   "outputs": [],
   "source": [
    "### Problema de la mochila con codificación real"
   ]
  },
  {
   "cell_type": "code",
   "execution_count": 26,
   "id": "fc8670a3",
   "metadata": {},
   "outputs": [
    {
     "name": "stdout",
     "output_type": "stream",
     "text": [
      "Mejor solución encontrada:\n",
      "Individuo: [0.11914542366574402, 0.12138795297370579, 0.11655266159643773, 0.12232189090736847, 0.1200005620618276]\n",
      "Aptitud: 18.008696883410806\n"
     ]
    }
   ],
   "source": [
    "import random\n",
    "\n",
    "# Definición del problema de la mochila\n",
    "pesos = [1, 3, 5, 2, 4]  # Pesos de los objetos\n",
    "valores = [10, 20, 30, 40, 50]  # Valores de los objetos\n",
    "capacidad_maxima = 8  # Capacidad máxima de la mochila\n",
    "rango_min = 0  # Valor mínimo para la codificación real\n",
    "rango_max = 1  # Valor máximo para la codificación real\n",
    "\n",
    "# Parámetros del algoritmo genético\n",
    "tamaño_poblacion = 50  # Tamaño de la población\n",
    "tasa_mutacion = 0.1  # Tasa de mutación\n",
    "\n",
    "# Función de codificación\n",
    "def codificar(individuo):\n",
    "    # Codifica el valor en una representación real\n",
    "    return [rango_min + (rango_max - rango_min) * gen for gen in individuo]\n",
    "\n",
    "# Función de decodificación\n",
    "def decodificar(individuo_codificado):\n",
    "    # Decodifica la representación real en un valor numérico\n",
    "    return [(gen - rango_min) / (rango_max - rango_min) for gen in individuo_codificado]\n",
    "\n",
    "# Función de aptitud\n",
    "def calcular_aptitud(individuo):\n",
    "    individuo_decodificado = decodificar(individuo)\n",
    "    peso_total = sum(peso * gen for peso, gen in zip(pesos, individuo_decodificado))\n",
    "    valor_total = sum(valor * gen for valor, gen in zip(valores, individuo_decodificado))\n",
    "    if peso_total > capacidad_maxima:\n",
    "        return 0  # Penalizar soluciones inválidas\n",
    "    else:\n",
    "        return valor_total\n",
    "\n",
    "# Inicialización de la población\n",
    "poblacion = [[random.random() for _ in range(len(pesos))] for _ in range(tamaño_poblacion)]\n",
    "\n",
    "# Evolución de la población\n",
    "for generacion in range(100):\n",
    "    # Evaluación de la aptitud de la población\n",
    "    aptitudes = [calcular_aptitud(individuo) for individuo in poblacion]\n",
    "    \n",
    "    # Selección de padres mediante selección proporcional a la aptitud (ruleta)\n",
    "    padres = random.choices(poblacion, weights=aptitudes, k=tamaño_poblacion)\n",
    "    \n",
    "    # Cruzamiento de los padres para generar descendencia\n",
    "    descendencia = []\n",
    "    for padre1, padre2 in zip(padres[::2], padres[1::2]):\n",
    "        punto_corte = random.randint(1, len(pesos) - 1)\n",
    "        hijo1 = padre1[:punto_corte] + padre2[punto_corte:]\n",
    "        hijo2 = padre2[:punto_corte] + padre1[punto_corte:]\n",
    "        descendencia.extend([hijo1, hijo2])\n",
    "    \n",
    "    # Mutación de la descendencia\n",
    "    for individuo in descendencia:\n",
    "        if random.random() < tasa_mutacion:\n",
    "            indice_gen = random.randint(0, len(pesos) - 1)\n",
    "            individuo[indice_gen] = random.random()\n",
    "    \n",
    "    # Reemplazo de la población anterior con la descendencia\n",
    "    poblacion = descendencia\n",
    "\n",
    "# Selección del mejor individuo\n",
    "mejor_individuo = max(poblacion, key=calcular_aptitud)\n",
    "mejor_aptitud = calcular_aptitud(mejor_individuo)\n",
    "\n",
    "# Decodificar el mejor individuo\n",
    "mejor_solucion = decodificar(mejor_individuo)\n",
    "\n",
    "# Mostrar resultados\n",
    "print(\"Mejor solución encontrada:\")\n",
    "print(\"Individuo codificado:\", mejor_individuo)\n",
    "print(\"Individuo decodificado:\", mejor_solucion)\n",
    "print(\"Aptitud:\", mejor_aptitud)\n",
    "\n"
   ]
  },
  {
   "cell_type": "code",
   "execution_count": null,
   "id": "761e76d8",
   "metadata": {},
   "outputs": [],
   "source": []
  }
 ],
 "metadata": {
  "kernelspec": {
   "display_name": "Python 3 (ipykernel)",
   "language": "python",
   "name": "python3"
  },
  "language_info": {
   "codemirror_mode": {
    "name": "ipython",
    "version": 3
   },
   "file_extension": ".py",
   "mimetype": "text/x-python",
   "name": "python",
   "nbconvert_exporter": "python",
   "pygments_lexer": "ipython3",
   "version": "3.10.6"
  }
 },
 "nbformat": 4,
 "nbformat_minor": 5
}
