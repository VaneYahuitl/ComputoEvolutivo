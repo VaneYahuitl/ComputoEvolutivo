{
 "cells": [
  {
   "cell_type": "markdown",
   "id": "d01320f3",
   "metadata": {},
   "source": [
    "## Codificación binaria\n",
    "\n",
    "### Ventajas:\n",
    "\n",
    "    - Simplicidad: La codificación binaria es fácil de entender e implementar. Los individuos se representan como cadenas de bits, donde cada bit representa una característica o un parámetro.\n",
    "\n",
    "    - Operaciones lógicas sencillas: Los operadores genéticos como la mutación y la recombinación son simples de aplicar a la codificación binaria. Estos operadores se basan en manipular los bits individuales, lo que permite una implementación más directa.\n",
    "\n",
    "    - Eficiencia computacional: Las operaciones lógicas y aritméticas en los sistemas informáticos están optimizadas para trabajar con números binarios. Esto hace que las operaciones de mutación y recombinación en la codificación binaria sean rápidas y eficientes desde el punto de vista computacional.\n",
    "\n",
    "### Desventajas:\n",
    "\n",
    "    - Resolución limitada: La codificación binaria puede tener una resolución limitada para representar soluciones. Si se utiliza un número fijo de bits para representar una variable continua, la precisión de la representación puede ser limitada. Esto puede ser problemático cuando se requiere una gran precisión en los valores de las variables.\n",
    "\n",
    "    - Espacio de búsqueda extenso: Con la codificación binaria, el tamaño del espacio de búsqueda aumenta exponencialmente con el número de variables y la longitud de la cadena binaria. Esto puede llevar a una exploración exhaustiva y prolongada del espacio de búsqueda cuando se trabaja con problemas complejos.\n",
    "\n",
    "    - Dificultad para representar estructuras complejas: En algunos casos, la codificación binaria puede tener dificultades para representar soluciones con estructuras complejas o relaciones no lineales entre las variables. En tales situaciones, otras codificaciones más avanzadas pueden ser más apropiadas.\n",
    "\n",
    "En resumen, la codificación binaria ofrece simplicidad y eficiencia computacional en algoritmos genéticos, pero puede tener limitaciones en términos de resolución y representación de estructuras complejas. La elección de la codificación dependerá del problema específico y las características de las soluciones que se desean representar.\n",
    "\n",
    "\n",
    "# Algoritmos genéticos con codificación real\n",
    "\n",
    "La codificación real en algoritmos genéticos implica representar las soluciones candidatas utilizando valores numéricos continuos, como números de punto flotante. A diferencia de la codificación binaria, donde las soluciones se representan mediante cadenas de bits, en la codificación real, los individuos se representan utilizando valores reales que corresponden a los parámetros o variables del problema.\n",
    "\n",
    "El proceso de codificación real en algoritmos genéticos generalmente implica los siguientes pasos:\n",
    "\n",
    "- Definición del rango de valores: Se establece un rango de valores permitidos para cada variable o parámetro que se va a codificar. Esto define los límites dentro de los cuales las soluciones pueden variar.\n",
    "\n",
    "- Representación de la solución: Cada individuo se representa como un vector o conjunto de valores reales, donde cada valor corresponde a una variable o parámetro del problema. La longitud de este vector depende del número de variables en el problema.\n",
    "\n",
    "- Inicialización: Los valores de los individuos se inicializan aleatoriamente dentro de los rangos definidos para cada variable. Esto crea una población inicial diversa.\n",
    "\n",
    "- Operadores genéticos: Los operadores genéticos, como la selección, la recombinación (crossover) y la mutación, se aplican a los individuos codificados de manera real. Estos operadores permiten la exploración y explotación del espacio de búsqueda, ajustando gradualmente los valores de las variables para generar nuevas soluciones.\n",
    "\n",
    "- Evaluación y selección: Después de aplicar los operadores genéticos, se evalúa la aptitud (fitness) de los individuos en función de la función objetivo o criterio de rendimiento del problema. Los individuos con una mayor aptitud tienen más probabilidades de ser seleccionados para la siguiente generación.\n",
    "\n",
    "- Repetición del proceso: Los pasos anteriores se repiten durante varias generaciones hasta que se alcanza un criterio de finalización, como un número máximo de generaciones o una solución óptima satisfactoria.\n",
    "\n",
    "La codificación real en algoritmos genéticos permite una representación más precisa y flexible de las soluciones continuas. Los operadores genéticos se adaptan para trabajar con valores reales y ajustar gradualmente los parámetros para converger hacia soluciones óptimas. Sin embargo, el manejo de valores reales puede requerir una mayor complejidad en la implementación y puede tener implicaciones en el rendimiento computacional debido a la operación con números de punto flotante.\n",
    "\n",
    "\n",
    "|                   | Codificación Binaria                                   | Codificación Real                                                 |\n",
    "|-------------------|-------------------------------------------------------|------------------------------------------------------------------|\n",
    "| Ventajas          | - Simplicidad<br>- Operaciones lógicas sencillas<br>- Eficiencia computacional      | - Mayor precisión en valores<br>- Puede representar estructuras complejas   |\n",
    "| Desventajas       | - Resolución limitada<br>- Espacio de búsqueda extenso<br>- Dificultad para representar estructuras complejas  | - Mayor complejidad de implementación<br>- Menos eficiente computacionalmente   |\n",
    "\n",
    "\n",
    "### Implementación de codificación real\n",
    "\n",
    "La función *codificar* toma un valor decimal individuo y lo codifica en una representación real dentro de un rango específico *(rango_min a rango_max)*. La función *decodificar* realiza el proceso inverso, tomando un individuo codificado y decodificándolo en un valor decimal.\n",
    "\n",
    "En el ejemplo de uso, se proporciona un valor decimal *(valor_decimal)* y se muestra cómo se codifica en una representación real *(individuo_codificado)*. Luego, se utiliza la función *decodificar* para *decodificar* el individuo codificado y se recupera el valor decimal original *(valor_decimal_recuperado)*."
   ]
  },
  {
   "cell_type": "code",
   "execution_count": 21,
   "id": "c21f73bd",
   "metadata": {},
   "outputs": [],
   "source": [
    "import random\n",
    "\n",
    "def codificar(individuo, rango_min, rango_max):\n",
    "    # Codifica el valor en una representación real\n",
    "    return rango_min + (rango_max - rango_min) * individuo\n",
    "\n",
    "def decodificar(individuo_codificado, rango_min, rango_max):\n",
    "    # Decodifica la representación real en un valor numérico\n",
    "    return (individuo_codificado - rango_min) / (rango_max - rango_min)"
   ]
  },
  {
   "cell_type": "code",
   "execution_count": 22,
   "id": "13ed773d",
   "metadata": {},
   "outputs": [
    {
     "name": "stdout",
     "output_type": "stream",
     "text": [
      "Individuo codificado: 32.5\n"
     ]
    }
   ],
   "source": [
    "# Ejemplo de codificación y decodificación\n",
    "rango_min = -5\n",
    "rango_max = 5\n",
    "\n",
    "# Codificación\n",
    "valor_decimal = 3.75\n",
    "individuo_codificado = codificar(valor_decimal, rango_min, rango_max)\n",
    "print(\"Individuo codificado:\", individuo_codificado)"
   ]
  },
  {
   "cell_type": "code",
   "execution_count": 23,
   "id": "232c38ce",
   "metadata": {},
   "outputs": [
    {
     "name": "stdout",
     "output_type": "stream",
     "text": [
      "Valor decimal recuperado: 3.75\n"
     ]
    }
   ],
   "source": [
    "# Decodificación\n",
    "valor_decimal_recuperado = decodificar(individuo_codificado, rango_min, rango_max)\n",
    "print(\"Valor decimal recuperado:\", valor_decimal_recuperado)"
   ]
  },
  {
   "cell_type": "markdown",
   "id": "9f50d9d6",
   "metadata": {},
   "source": [
    "| Ventajas del escalamiento en codificación real | Descripción                                              |\n",
    "|-----------------------------------------------|----------------------------------------------------------|\n",
    "| Control del rango de búsqueda                  | Permite definir límites más adecuados para el problema    |\n",
    "| Uniformidad de escala                          | Facilita la comparación y manipulación de los valores     |\n",
    "| Compatibilidad con operadores genéticos       | Asegura el correcto funcionamiento de los operadores      |\n",
    "| Optimización numérica                          | Enfoca la búsqueda en regiones más relevantes            |\n",
    "\n",
    "#### ¿Cuándo conviene usar codificación real?\n",
    "\n",
    "| Casos particulares donde conviene usar codificación real |\n",
    "| ------------------------------------------------------- |\n",
    "| Problemas de optimización con valores continuos          |\n",
    "| Variables con rangos conocidos y limitados               |\n",
    "| Problemas donde la escala y precisión son importantes    |\n",
    "| Búsqueda eficiente en un rango específico                |\n",
    "| Problemas que requieren una representación directa       |\n",
    "\n",
    "\n",
    "\n",
    "### Ejercicio: \n",
    "\n",
    "- Codificar un número decimal a codificación real dados 3 límites diferentes.\n",
    "- Codificar un vector de números decimales. "
   ]
  },
  {
   "cell_type": "code",
   "execution_count": null,
   "id": "d72a04f5",
   "metadata": {},
   "outputs": [],
   "source": []
  },
  {
   "cell_type": "markdown",
   "id": "a6a28cf6",
   "metadata": {},
   "source": []
  },
  {
   "cell_type": "markdown",
   "id": "19960c93",
   "metadata": {},
   "source": [
    "## Operadores genéticos para representación real\n",
    "\n",
    "| Operador             | Codificación Binaria                                               | Codificación Real                                        |\n",
    "|----------------------|-------------------------------------------------------------------|---------------------------------------------------------|\n",
    "| Operador de Cruzamiento   | Se realiza a nivel de bits, intercambiando segmentos de bits entre individuos para generar descendientes. | Se realiza a nivel de valores numéricos, combinando segmentos de los valores numéricos de los padres para generar descendientes con nuevos valores. Puede utilizarse el cruzamiento aritmético, lineal o discreto. |\n",
    "| Operador de Mutación | Implica cambiar aleatoriamente uno o más bits en un individuo. | Implica cambiar aleatoriamente el valor numérico de uno o más genes en un individuo. La forma exacta en que se realiza la mutación puede variar según el rango de valores permitidos y la estrategia específica utilizada. |\n",
    "\n",
    "\n",
    "### Operadores  de cruza\n",
    "\n",
    "| Operador de Cruce     | Descripción                                       | Implementación en Python                                 |\n",
    "|-----------------------|---------------------------------------------------|----------------------------------------------------------|\n",
    "| Cruce Aritmético      | Combina los genes de los padres mediante una media ponderada o una combinación lineal. | ```child1 = alpha * parent1 + (1 - alpha) * parent2```|\n",
    "| | | ```child2 = (1 - alpha) * parent1 + alpha * parent2```|\n",
    "| Cruce Discreto        | Combina los genes de los padres seleccionando aleatoriamente un gen de uno de los padres. | ```child_gene = random.choice([parent1_gene, parent2_gene])``` |\n",
    "\n",
    "Aritmético:\n",
    "![](https://www.researchgate.net/publication/284810609/figure/fig6/AS:329629370994693@1455601174616/The-example-of-arithmetic-crossover_W640.jpg)\n",
    "\n",
    "Discreto:\n",
    "![](https://www.researchgate.net/profile/Volker-Nissen/publication/319208631/figure/fig1/AS:530106935853056@1503398750946/Discrete-Recombination_W640.jpg)\n",
    "\n",
    "#### Ejercicio: Implementar ambos operadores y aplicar a dos pares de padres diferentes."
   ]
  },
  {
   "cell_type": "code",
   "execution_count": null,
   "id": "fd82b260",
   "metadata": {},
   "outputs": [],
   "source": []
  },
  {
   "cell_type": "markdown",
   "id": "8f42d156",
   "metadata": {},
   "source": [
    "### Operador de mutación"
   ]
  },
  {
   "cell_type": "code",
   "execution_count": 25,
   "id": "8497b372",
   "metadata": {},
   "outputs": [],
   "source": [
    "### Problema de la mochila con codificación real"
   ]
  },
  {
   "cell_type": "code",
   "execution_count": 69,
   "id": "3f40d174",
   "metadata": {},
   "outputs": [
    {
     "name": "stdout",
     "output_type": "stream",
     "text": [
      "Mejor individuo encontrado es [3. 2.], con fitness 0.0\n"
     ]
    }
   ],
   "source": [
    "import random\n",
    "import numpy as np\n",
    "\n",
    "# Definición de la función objetivo (función cuadrática)\n",
    "def funcion_objetivo(x):\n",
    "    x1, x2 = x\n",
    "    return (x1 - 3)**2 + (x2 - 2)**2\n",
    "\n",
    "# Codificación y decodificación de las variables\n",
    "def codificar(x, low=-1, high=1):\n",
    "    x = np.array(x).flatten()\n",
    "    return (x - low) / (high - low)\n",
    "\n",
    "def decodificar(x, low=-1, high=1):\n",
    "    x = np.array(x).flatten()\n",
    "    return x * (high - low) + low\n",
    "\n",
    "# Operador de cruce\n",
    "def cruce(parent1, parent2, alpha=0.3):\n",
    "    if alpha == None:\n",
    "        alpha = random.random()\n",
    "        print(\"alpha\", alpha, end=\"\\r\")\n",
    "    child1 = [alpha*parent1[0] + (1-alpha)*parent2[0], alpha*parent1[1] + (1-alpha)*parent2[1]]\n",
    "    child2 = [(1-alpha)*parent1[0] + alpha*parent2[0], (1-alpha)*parent1[1] + alpha*parent2[1]]\n",
    "    return child1, child2\n",
    "\n",
    "# Operador de mutación\n",
    "def mutacion(individual, mutation_rate=0.1):\n",
    "    for i in range(len(individual)):\n",
    "        if random.random() < mutation_rate:\n",
    "            individual[i] = random.random()\n",
    "    return individual\n",
    "\n",
    "# Crear la población inicial\n",
    "pop_size = 1000\n",
    "population = [codificar([random.uniform(0, 10), random.uniform(0, 10)], low=-1, high=1) for _ in range(pop_size)]\n",
    "\n",
    "# Parámetros del algoritmo genético\n",
    "num_generations = 1000\n",
    "num_parents = pop_size // 2\n"
   ]
  },
  {
   "cell_type": "code",
   "execution_count": null,
   "id": "393b9d80",
   "metadata": {},
   "outputs": [],
   "source": [
    "# Ejecutar el algoritmo genético\n",
    "for gen in range(num_generations):\n",
    "    # Evaluar la población\n",
    "    fitnesses = [funcion_objetivo(decodificar(individual, low=-1, high=1)) for individual in population]\n",
    "    \n",
    "    # Seleccionar los mejores individuos\n",
    "    parents = [population[i] for i in np.argsort(fitnesses)[:num_parents]]\n",
    "\n",
    "    # Generar la próxima generación\n",
    "    children = []\n",
    "    for i in range(0, len(parents), 2):\n",
    "        if i+1 < len(parents):\n",
    "            child1, child2 = cruce(parents[i], parents[i+1])\n",
    "            children.append(mutacion(child1))\n",
    "            children.append(mutacion(child2))\n",
    "    population = parents + children\n",
    "\n",
    "# Mostrar el mejor individuo encontrado\n",
    "best_individual = min(population, key=lambda x: funcion_objetivo(decode(x)))\n",
    "print(\"Mejor individuo encontrado es %s, con fitness %s\" % (decode(best_individual), funcion_objetivo(decode(best_individual))))\n"
   ]
  },
  {
   "cell_type": "code",
   "execution_count": 70,
   "id": "55762312",
   "metadata": {},
   "outputs": [
    {
     "data": {
      "image/png": "[encoded data removed]",
      "text/plain": [
       "<Figure size 432x288 with 2 Axes>"
      ]
     },
     "metadata": {
      "needs_background": "light"
     },
     "output_type": "display_data"
    }
   ],
   "source": [
    "import numpy as np\n",
    "import matplotlib.pyplot as plt\n",
    "\n",
    "# Definición de la función objetivo (función cuadrática)\n",
    "def funcion_objetivo(x1, x2):\n",
    "    return (x1 - 3)**2 + (x2 - 2)**2\n",
    "\n",
    "# Definir el rango de valores para x e y\n",
    "x_range = np.linspace(0, 10, 100)\n",
    "y_range = np.linspace(0, 10, 100)\n",
    "\n",
    "# Calcular los valores de z para cada combinación de x e y\n",
    "z = np.array([[funcion_objetivo(x, y) for y in y_range] for x in x_range])\n",
    "\n",
    "# Graficar la función f\n",
    "fig, ax = plt.subplots()\n",
    "cmap = ax.contourf(x_range, y_range, z, levels=100, cmap='viridis')\n",
    "fig.colorbar(cmap)\n",
    "\n",
    "ax.set_xlabel('x')\n",
    "ax.set_ylabel('y')\n",
    "ax.set_title('Función f(x,y)')\n",
    "\n",
    "# Decodificar el mejor individuo encontrado\n",
    "best_x, best_y = decode(best_individual)\n",
    "\n",
    "# Graficar la solución encontrada\n",
    "ax.plot(best_x, best_y, 'ro', markersize=10)\n",
    "ax.annotate(f'Mejor solución: ({best_x:.2f}, {best_y:.2f})', \n",
    "            (best_x, best_y), xytext=(best_x+0.3, best_y+0.3), \n",
    "            arrowprops=dict(facecolor='red', shrink=0.05), c=\"w\")\n",
    "\n",
    "plt.show()"
   ]
  },
  {
   "cell_type": "code",
   "execution_count": null,
   "id": "c11c2f1f",
   "metadata": {},
   "outputs": [],
   "source": []
  }
 ],
 "metadata": {
  "kernelspec": {
   "display_name": "Python 3 (ipykernel)",
   "language": "python",
   "name": "python3"
  },
  "language_info": {
   "codemirror_mode": {
    "name": "ipython",
    "version": 3
   },
   "file_extension": ".py",
   "mimetype": "text/x-python",
   "name": "python",
   "nbconvert_exporter": "python",
   "pygments_lexer": "ipython3",
   "version": "3.10.6"
  }
 },
 "nbformat": 4,
 "nbformat_minor": 5
}
