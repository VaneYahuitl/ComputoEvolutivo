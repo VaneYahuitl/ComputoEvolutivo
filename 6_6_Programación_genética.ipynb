{
 "cells": [
  {
   "cell_type": "markdown",
   "id": "e2a7ca6c",
   "metadata": {},
   "source": [
    "# Programación genética"
   ]
  },
  {
   "cell_type": "code",
   "execution_count": 9,
   "id": "adca499b",
   "metadata": {},
   "outputs": [
    {
     "name": "stdout",
     "output_type": "stream",
     "text": [
      "Defaulting to user installation because normal site-packages is not writeable\n",
      "Requirement already satisfied: gplearn in /home/isidro/.local/lib/python3.10/site-packages (0.4.2)\n",
      "Requirement already satisfied: joblib>=1.0.0 in /home/isidro/.local/lib/python3.10/site-packages (from gplearn) (1.2.0)\n",
      "Requirement already satisfied: scikit-learn>=1.0.2 in /home/isidro/.local/lib/python3.10/site-packages (from gplearn) (1.2.1)\n",
      "Requirement already satisfied: numpy>=1.17.3 in /home/isidro/.local/lib/python3.10/site-packages (from scikit-learn>=1.0.2->gplearn) (1.24.2)\n",
      "Requirement already satisfied: threadpoolctl>=2.0.0 in /home/isidro/.local/lib/python3.10/site-packages (from scikit-learn>=1.0.2->gplearn) (3.1.0)\n",
      "Requirement already satisfied: scipy>=1.3.2 in /home/isidro/.local/lib/python3.10/site-packages (from scikit-learn>=1.0.2->gplearn) (1.10.1)\n"
     ]
    }
   ],
   "source": [
    "!pip3 install gplearn\n",
    "# !pip3 install graphviz"
   ]
  },
  {
   "cell_type": "code",
   "execution_count": 10,
   "id": "5461076c",
   "metadata": {},
   "outputs": [],
   "source": [
    "from gplearn.genetic import SymbolicRegressor\n",
    "from sklearn.ensemble import RandomForestRegressor\n",
    "from sklearn.tree import DecisionTreeRegressor\n",
    "from mpl_toolkits.mplot3d import Axes3D\n",
    "import matplotlib.pyplot as plt\n",
    "import numpy as np\n",
    "import graphviz"
   ]
  },
  {
   "cell_type": "code",
   "execution_count": 11,
   "id": "8cfa94fa",
   "metadata": {},
   "outputs": [
    {
     "data": {
      "image/png": "[encoded data removed]",
      "text/plain": [
       "<Figure size 432x288 with 1 Axes>"
      ]
     },
     "metadata": {
      "needs_background": "light"
     },
     "output_type": "display_data"
    }
   ],
   "source": [
    "# Training samples\n",
    "X_train = np.random.uniform(-10,10,100).reshape(-1,1)\n",
    "y_train = X_train**2 + 0.5*np.random.randn(100).reshape(-1,1)\n",
    "\n",
    "# y_train = X_train**2\n",
    "\n",
    "fig = plt.figure()\n",
    "ax = fig.add_subplot(1, 1, 1)\n",
    "ax.scatter(X_train, y_train, color='tab:blue')\n",
    "plt.show()"
   ]
  },
  {
   "cell_type": "code",
   "execution_count": 12,
   "id": "e661776e",
   "metadata": {},
   "outputs": [],
   "source": [
    "\n",
    "\n",
    "y_train = y_train.reshape(100,)\n",
    "\n"
   ]
  },
  {
   "cell_type": "code",
   "execution_count": null,
   "id": "96bf8eee",
   "metadata": {},
   "outputs": [
    {
     "name": "stdout",
     "output_type": "stream",
     "text": [
      "    |   Population Average    |             Best Individual              |\n",
      "---- ------------------------- ------------------------------------------ ----------\n",
      " Gen   Length          Fitness   Length          Fitness      OOB Fitness  Time Left\n"
     ]
    }
   ],
   "source": [
    "\n",
    "\n",
    "est_gp = SymbolicRegressor(population_size=500,\n",
    "                           generations=30, stopping_criteria=0.01,\n",
    "                           p_crossover=0.7, p_subtree_mutation=0.1,\n",
    "                           p_hoist_mutation=0.05, p_point_mutation=0.1,\n",
    "                           max_samples=0.9, verbose=1,\n",
    "                           parsimony_coefficient=0.01, random_state=0)\n",
    "est_gp.fit(X_train, y_train)\n",
    "\n"
   ]
  },
  {
   "cell_type": "code",
   "execution_count": null,
   "id": "5b100db4",
   "metadata": {},
   "outputs": [],
   "source": [
    "\n",
    "\n",
    "print(est_gp._program)\n",
    "\n"
   ]
  },
  {
   "cell_type": "code",
   "execution_count": null,
   "id": "08164028",
   "metadata": {},
   "outputs": [],
   "source": [
    "dot_data = est_gp._program.export_graphviz()\n",
    "graph = graphviz.Source(dot_data)\n",
    "graph.render('images/ex1_child', format='png', cleanup=True)\n",
    "graph"
   ]
  },
  {
   "cell_type": "code",
   "execution_count": null,
   "id": "8457ab20",
   "metadata": {},
   "outputs": [],
   "source": []
  },
  {
   "cell_type": "code",
   "execution_count": null,
   "id": "61c7c8a1",
   "metadata": {},
   "outputs": [],
   "source": []
  },
  {
   "cell_type": "code",
   "execution_count": null,
   "id": "4bd3115c",
   "metadata": {},
   "outputs": [],
   "source": []
  },
  {
   "cell_type": "code",
   "execution_count": null,
   "id": "744525d8",
   "metadata": {},
   "outputs": [],
   "source": []
  },
  {
   "cell_type": "code",
   "execution_count": null,
   "id": "f6391a67",
   "metadata": {},
   "outputs": [],
   "source": []
  },
  {
   "cell_type": "code",
   "execution_count": null,
   "id": "4b6afc52",
   "metadata": {},
   "outputs": [],
   "source": []
  },
  {
   "cell_type": "code",
   "execution_count": null,
   "id": "227d5c84",
   "metadata": {},
   "outputs": [],
   "source": []
  }
 ],
 "metadata": {
  "kernelspec": {
   "display_name": "Python 3 (ipykernel)",
   "language": "python",
   "name": "python3"
  },
  "language_info": {
   "codemirror_mode": {
    "name": "ipython",
    "version": 3
   },
   "file_extension": ".py",
   "mimetype": "text/x-python",
   "name": "python",
   "nbconvert_exporter": "python",
   "pygments_lexer": "ipython3",
   "version": "3.10.6"
  }
 },
 "nbformat": 4,
 "nbformat_minor": 5
}
