{
 "cells": [
  {
   "cell_type": "markdown",
   "id": "0596a102",
   "metadata": {},
   "source": [
    "# Programación genética\n",
    "\n",
    "![](https://upload.wikimedia.org/wikipedia/commons/7/77/Genetic_Program_Tree.png)\n",
    "Fuente: wikipedia\n",
    "\n",
    "![](https://www.researchgate.net/profile/Mohammed-El-Telbany/publication/4113357/figure/fig1/AS:279938642006020@1443753981702/Genetic-programming-operators-a-mutation-b-crossover.png)\n",
    "Fuente: researchgate"
   ]
  },
  {
   "cell_type": "code",
   "execution_count": 9,
   "id": "530dfa95",
   "metadata": {},
   "outputs": [
    {
     "name": "stdout",
     "output_type": "stream",
     "text": [
      "Defaulting to user installation because normal site-packages is not writeable\n",
      "Requirement already satisfied: gplearn in /home/isidro/.local/lib/python3.10/site-packages (0.4.2)\n",
      "Requirement already satisfied: joblib>=1.0.0 in /home/isidro/.local/lib/python3.10/site-packages (from gplearn) (1.2.0)\n",
      "Requirement already satisfied: scikit-learn>=1.0.2 in /home/isidro/.local/lib/python3.10/site-packages (from gplearn) (1.2.1)\n",
      "Requirement already satisfied: numpy>=1.17.3 in /home/isidro/.local/lib/python3.10/site-packages (from scikit-learn>=1.0.2->gplearn) (1.24.2)\n",
      "Requirement already satisfied: threadpoolctl>=2.0.0 in /home/isidro/.local/lib/python3.10/site-packages (from scikit-learn>=1.0.2->gplearn) (3.1.0)\n",
      "Requirement already satisfied: scipy>=1.3.2 in /home/isidro/.local/lib/python3.10/site-packages (from scikit-learn>=1.0.2->gplearn) (1.10.1)\n"
     ]
    }
   ],
   "source": [
    "!pip3 install gplearn\n",
    "# !pip3 install graphviz"
   ]
  },
  {
   "cell_type": "code",
   "execution_count": 10,
   "id": "c9186ae6",
   "metadata": {},
   "outputs": [],
   "source": [
    "from gplearn.genetic import SymbolicRegressor\n",
    "from sklearn.ensemble import RandomForestRegressor\n",
    "from sklearn.tree import DecisionTreeRegressor\n",
    "from mpl_toolkits.mplot3d import Axes3D\n",
    "import matplotlib.pyplot as plt\n",
    "import numpy as np\n",
    "import graphviz"
   ]
  },
  {
   "cell_type": "code",
   "execution_count": 11,
   "id": "3eac0cf1",
   "metadata": {},
   "outputs": [
    {
     "data": {
      "image/png": "[encoded data removed]",
      "text/plain": [
       "<Figure size 432x288 with 1 Axes>"
      ]
     },
     "metadata": {
      "needs_background": "light"
     },
     "output_type": "display_data"
    }
   ],
   "source": [
    "# Training samples\n",
    "X_train = np.random.uniform(-10,10,100).reshape(-1,1)\n",
    "y_train = X_train**2 + 0.5*np.random.randn(100).reshape(-1,1)\n",
    "\n",
    "# y_train = X_train**2\n",
    "\n",
    "fig = plt.figure()\n",
    "ax = fig.add_subplot(1, 1, 1)\n",
    "ax.scatter(X_train, y_train, color='tab:blue')\n",
    "plt.show()"
   ]
  },
  {
   "cell_type": "code",
   "execution_count": 12,
   "id": "bb98e9c8",
   "metadata": {},
   "outputs": [],
   "source": [
    "y_train = y_train.reshape(100,)"
   ]
  },
  {
   "cell_type": "code",
   "execution_count": 13,
   "id": "65756bbc",
   "metadata": {},
   "outputs": [
    {
     "name": "stdout",
     "output_type": "stream",
     "text": [
      "    |   Population Average    |             Best Individual              |\n",
      "---- ------------------------- ------------------------------------------ ----------\n",
      " Gen   Length          Fitness   Length          Fitness      OOB Fitness  Time Left\n",
      "   0    46.66           206180        7         0.795583         0.396336     10.80s\n",
      "   1    34.34          225.782       35         0.401782         0.637232      8.40s\n",
      "   2    15.92          39.6863        3         0.395399         0.694742      6.33s\n",
      "   3     5.34          38.3675        3         0.394621         0.701742      4.80s\n",
      "   4     3.34          40.7601        3          0.38662         0.773751      4.56s\n",
      "   5     3.44          36.5896        3         0.388623         0.755728      4.84s\n",
      "   6     3.15          44.4503        3         0.387127         0.769192      4.28s\n",
      "   7     3.18          37.8881        3         0.388627         0.755694      4.08s\n",
      "   8     3.29          285.169        3         0.391107         0.733372      3.82s\n",
      "   9     3.13          43.5769        3         0.390373         0.739977      3.74s\n",
      "  10     3.41          38.6276        3         0.389304         0.749598      4.75s\n",
      "  11     3.29          49.9056        3          0.38283         0.807862      3.23s\n",
      "  12     3.33          40.9973        3         0.375419          0.87456      3.30s\n",
      "  13     3.28          39.7372        3         0.380817         0.825982      2.89s\n",
      "  14     3.66          42.1589        3         0.383658         0.800411      3.24s\n",
      "  15     3.34          44.7342        3         0.391796         0.727166      2.51s\n",
      "  16     3.43          51.6201        3         0.389765         0.745445      2.35s\n",
      "  17     3.38          35.3137        3         0.387604         0.764896      2.21s\n",
      "  18     3.20          46.9399        3         0.386462         0.775174      1.89s\n",
      "  19     3.54          44.5503        3         0.382986         0.806455      1.71s\n",
      "  20     3.36          38.4694        3         0.370323         0.920425      1.59s\n",
      "  21     3.52          47.9424        3         0.377725         0.853811      1.43s\n",
      "  22     3.33          44.3851        3         0.386071         0.778695      1.28s\n",
      "  23     3.26          43.0838        3         0.389668         0.746317      1.09s\n",
      "  24     3.20          38.4137        3         0.382306         0.812582      0.90s\n",
      "  25     3.34          42.7579        3         0.385115           0.7873      0.76s\n",
      "  26     3.38          59.1211        3         0.383914         0.798105      0.55s\n",
      "  27     3.38          45.3839        3         0.390308         0.740562      0.35s\n",
      "  28     3.40          84.0551        3         0.377472         0.856081      0.18s\n",
      "  29     3.62          895.887        3         0.387274         0.767864      0.00s\n"
     ]
    },
    {
     "data": {
      "text/html": [
       "<style>#sk-container-id-2 {color: black;background-color: white;}#sk-container-id-2 pre{padding: 0;}#sk-container-id-2 div.sk-toggleable {background-color: white;}#sk-container-id-2 label.sk-toggleable__label {cursor: pointer;display: block;width: 100%;margin-bottom: 0;padding: 0.3em;box-sizing: border-box;text-align: center;}#sk-container-id-2 label.sk-toggleable__label-arrow:before {content: \"▸\";float: left;margin-right: 0.25em;color: #696969;}#sk-container-id-2 label.sk-toggleable__label-arrow:hover:before {color: black;}#sk-container-id-2 div.sk-estimator:hover label.sk-toggleable__label-arrow:before {color: black;}#sk-container-id-2 div.sk-toggleable__content {max-height: 0;max-width: 0;overflow: hidden;text-align: left;background-color: #f0f8ff;}#sk-container-id-2 div.sk-toggleable__content pre {margin: 0.2em;color: black;border-radius: 0.25em;background-color: #f0f8ff;}#sk-container-id-2 input.sk-toggleable__control:checked~div.sk-toggleable__content {max-height: 200px;max-width: 100%;overflow: auto;}#sk-container-id-2 input.sk-toggleable__control:checked~label.sk-toggleable__label-arrow:before {content: \"▾\";}#sk-container-id-2 div.sk-estimator input.sk-toggleable__control:checked~label.sk-toggleable__label {background-color: #d4ebff;}#sk-container-id-2 div.sk-label input.sk-toggleable__control:checked~label.sk-toggleable__label {background-color: #d4ebff;}#sk-container-id-2 input.sk-hidden--visually {border: 0;clip: rect(1px 1px 1px 1px);clip: rect(1px, 1px, 1px, 1px);height: 1px;margin: -1px;overflow: hidden;padding: 0;position: absolute;width: 1px;}#sk-container-id-2 div.sk-estimator {font-family: monospace;background-color: #f0f8ff;border: 1px dotted black;border-radius: 0.25em;box-sizing: border-box;margin-bottom: 0.5em;}#sk-container-id-2 div.sk-estimator:hover {background-color: #d4ebff;}#sk-container-id-2 div.sk-parallel-item::after {content: \"\";width: 100%;border-bottom: 1px solid gray;flex-grow: 1;}#sk-container-id-2 div.sk-label:hover label.sk-toggleable__label {background-color: #d4ebff;}#sk-container-id-2 div.sk-serial::before {content: \"\";position: absolute;border-left: 1px solid gray;box-sizing: border-box;top: 0;bottom: 0;left: 50%;z-index: 0;}#sk-container-id-2 div.sk-serial {display: flex;flex-direction: column;align-items: center;background-color: white;padding-right: 0.2em;padding-left: 0.2em;position: relative;}#sk-container-id-2 div.sk-item {position: relative;z-index: 1;}#sk-container-id-2 div.sk-parallel {display: flex;align-items: stretch;justify-content: center;background-color: white;position: relative;}#sk-container-id-2 div.sk-item::before, #sk-container-id-2 div.sk-parallel-item::before {content: \"\";position: absolute;border-left: 1px solid gray;box-sizing: border-box;top: 0;bottom: 0;left: 50%;z-index: -1;}#sk-container-id-2 div.sk-parallel-item {display: flex;flex-direction: column;z-index: 1;position: relative;background-color: white;}#sk-container-id-2 div.sk-parallel-item:first-child::after {align-self: flex-end;width: 50%;}#sk-container-id-2 div.sk-parallel-item:last-child::after {align-self: flex-start;width: 50%;}#sk-container-id-2 div.sk-parallel-item:only-child::after {width: 0;}#sk-container-id-2 div.sk-dashed-wrapped {border: 1px dashed gray;margin: 0 0.4em 0.5em 0.4em;box-sizing: border-box;padding-bottom: 0.4em;background-color: white;}#sk-container-id-2 div.sk-label label {font-family: monospace;font-weight: bold;display: inline-block;line-height: 1.2em;}#sk-container-id-2 div.sk-label-container {text-align: center;}#sk-container-id-2 div.sk-container {/* jupyter's `normalize.less` sets `[hidden] { display: none; }` but bootstrap.min.css set `[hidden] { display: none !important; }` so we also need the `!important` here to be able to override the default hidden behavior on the sphinx rendered scikit-learn.org. See: https://github.com/scikit-learn/scikit-learn/issues/21755 */display: inline-block !important;position: relative;}#sk-container-id-2 div.sk-text-repr-fallback {display: none;}</style><div id=\"sk-container-id-2\" class=\"sk-top-container\"><div class=\"sk-text-repr-fallback\"><pre>mul(X0, X0)</pre><b>In a Jupyter environment, please rerun this cell to show the HTML representation or trust the notebook. <br />On GitHub, the HTML representation is unable to render, please try loading this page with nbviewer.org.</b></div><div class=\"sk-container\" hidden><div class=\"sk-item\"><div class=\"sk-estimator sk-toggleable\"><input class=\"sk-toggleable__control sk-hidden--visually\" id=\"sk-estimator-id-2\" type=\"checkbox\" checked><label for=\"sk-estimator-id-2\" class=\"sk-toggleable__label sk-toggleable__label-arrow\">SymbolicRegressor</label><div class=\"sk-toggleable__content\"><pre>mul(X0, X0)</pre></div></div></div></div></div>"
      ],
      "text/plain": [
       "SymbolicRegressor(generations=30, max_samples=0.9, p_crossover=0.7,\n",
       "                  p_hoist_mutation=0.05, p_point_mutation=0.1,\n",
       "                  p_subtree_mutation=0.1, parsimony_coefficient=0.01,\n",
       "                  population_size=500, random_state=0, stopping_criteria=0.01,\n",
       "                  verbose=1)"
      ]
     },
     "execution_count": 13,
     "metadata": {},
     "output_type": "execute_result"
    }
   ],
   "source": [
    "est_gp = SymbolicRegressor(population_size=500,\n",
    "                           generations=30, stopping_criteria=0.01,\n",
    "                           p_crossover=0.7, p_subtree_mutation=0.1,\n",
    "                           p_hoist_mutation=0.05, p_point_mutation=0.1,\n",
    "                           max_samples=0.9, verbose=1,\n",
    "                           parsimony_coefficient=0.01, random_state=0)\n",
    "est_gp.fit(X_train, y_train)"
   ]
  },
  {
   "cell_type": "code",
   "execution_count": 16,
   "id": "a9aec14e",
   "metadata": {
    "scrolled": true
   },
   "outputs": [
    {
     "name": "stdout",
     "output_type": "stream",
     "text": [
      "mul(X0, X0)\n"
     ]
    }
   ],
   "source": [
    "print(est_gp._program)"
   ]
  },
  {
   "cell_type": "code",
   "execution_count": null,
   "id": "197666e0",
   "metadata": {},
   "outputs": [],
   "source": [
    "dot_data = est_gp._program.export_graphviz()\n",
    "graph = graphviz.Source(dot_data)\n",
    "graph.render('images/ex1_child', format='png', cleanup=True)\n",
    "graph"
   ]
  },
  {
   "cell_type": "markdown",
   "id": "1298e0db",
   "metadata": {},
   "source": [
    "### Ejercicio: Generar datos con ruido a partir de una función, proponer otras gramáticas y correr el algoritmo de programación genética."
   ]
  },
  {
   "cell_type": "code",
   "execution_count": null,
   "id": "4e367df6",
   "metadata": {},
   "outputs": [],
   "source": []
  }
 ],
 "metadata": {
  "kernelspec": {
   "display_name": "Python 3 (ipykernel)",
   "language": "python",
   "name": "python3"
  },
  "language_info": {
   "codemirror_mode": {
    "name": "ipython",
    "version": 3
   },
   "file_extension": ".py",
   "mimetype": "text/x-python",
   "name": "python",
   "nbconvert_exporter": "python",
   "pygments_lexer": "ipython3",
   "version": "3.10.6"
  }
 },
 "nbformat": 4,
 "nbformat_minor": 5
}
