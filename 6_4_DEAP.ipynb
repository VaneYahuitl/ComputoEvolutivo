{
 "cells": [
  {
   "cell_type": "markdown",
   "id": "db5c5a79",
   "metadata": {},
   "source": [
    "# Introducción a la librería DEAP\n",
    "\n",
    "![](https://deap.readthedocs.io/en/master/_images/deap_long.png)\n",
    "\n",
    "- Fortin, F. A., De Rainville, F. M., Gardner, M. A. G., Parizeau, M., & Gagné, C. (2012). DEAP: Evolutionary algorithms made easy. The Journal of Machine Learning Research, 13(1), 2171-2175. (https://www.jmlr.org/papers/volume13/fortin12a/fortin12a.pdf)\n",
    "\n",
    "- Documentación: https://deap.readthedocs.io/en/master/about.html\n",
    "\n",
    "- Repositorio: https://github.com/deap/deap"
   ]
  },
  {
   "cell_type": "code",
   "execution_count": null,
   "id": "4fd5a1e7",
   "metadata": {},
   "outputs": [],
   "source": []
  }
 ],
 "metadata": {
  "kernelspec": {
   "display_name": "Python 3 (ipykernel)",
   "language": "python",
   "name": "python3"
  },
  "language_info": {
   "codemirror_mode": {
    "name": "ipython",
    "version": 3
   },
   "file_extension": ".py",
   "mimetype": "text/x-python",
   "name": "python",
   "nbconvert_exporter": "python",
   "pygments_lexer": "ipython3",
   "version": "3.10.6"
  }
 },
 "nbformat": 4,
 "nbformat_minor": 5
}
