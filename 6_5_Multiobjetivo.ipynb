{
 "cells": [
  {
   "cell_type": "markdown",
   "id": "3f4c62b9",
   "metadata": {},
   "source": [
    "# Algoritmos genéticos multiobjetivo\n",
    "\n",
    "Algunas ocasiones es útil, o necesario, maximizar más de una función al mismo tiempo. Por ejemplo, se puede querer minimizar simultaneamente el tiempo de fabricación de una herramienta y también su costo.\n",
    "\n",
    "\n",
    "## 5.1 Manejo de restricciones \n",
    "\n",
    "Optimizar $f_i(x) (\\forall i = 1,...,n)$\n",
    "\n",
    "sujeto a $x \\in X \\subseteq  \\mathbb{R}^n $, \n",
    "\n",
    "se trata de optimizar simultaneamente $n$ funciones, cuyas variables pueden estar sujetas a ciertas **restricciones**.\n",
    "\n",
    "\n",
    "\n",
    "\n",
    "\n",
    "\n"
   ]
  },
  {
   "cell_type": "code",
   "execution_count": 19,
   "id": "85be7a7d",
   "metadata": {},
   "outputs": [],
   "source": [
    "from deap import base, creator, tools, algorithms\n",
    "import matplotlib.pyplot as plt\n",
    "import random\n",
    "import numpy as np"
   ]
  },
  {
   "cell_type": "code",
   "execution_count": 20,
   "id": "a14d2c38",
   "metadata": {},
   "outputs": [
    {
     "name": "stderr",
     "output_type": "stream",
     "text": [
      "/home/isidro/.local/lib/python3.10/site-packages/deap/creator.py:138: RuntimeWarning: A class named 'FitnessMax' has already been created and it will be overwritten. Consider deleting previous creation of that class or rename it.\n",
      "  warnings.warn(\"A class named '{0}' has already been created and it \"\n",
      "/home/isidro/.local/lib/python3.10/site-packages/deap/creator.py:138: RuntimeWarning: A class named 'Individual' has already been created and it will be overwritten. Consider deleting previous creation of that class or rename it.\n",
      "  warnings.warn(\"A class named '{0}' has already been created and it \"\n"
     ]
    }
   ],
   "source": [
    "# Definimos los pesos de los objetivos. (1.0,) significa maximización.\n",
    "creator.create(\"FitnessMax\", base.Fitness, weights=(1.0, 1.0))\n",
    "creator.create(\"Individual\", list, fitness=creator.FitnessMax)\n",
    "\n",
    "# Creamos una caja de herramientas para la configuración de la evolución\n",
    "toolbox = base.Toolbox()\n",
    "\n",
    "# Registro de funciones de atributo, individuo y población\n",
    "toolbox.register(\"attr_float\", random.uniform, -10, 10)  # cada atributo es un float en el rango [-10, 10]\n",
    "toolbox.register(\"individual\", tools.initRepeat, creator.Individual, toolbox.attr_float, n=3)\n",
    "toolbox.register(\"population\", tools.initRepeat, list, toolbox.individual)\n",
    "\n",
    "# Registro de funciones de evolución\n",
    "toolbox.register(\"mate\", tools.cxTwoPoint)\n",
    "toolbox.register(\"mutate\", tools.mutGaussian, mu=0, sigma=1, indpb=0.1)\n",
    "toolbox.register(\"select\", tools.selNSGA2)\n",
    "\n",
    "# Definimos las funciones objetivo\n",
    "def objective1(individual):\n",
    "    return sum(x**2 for x in individual)\n",
    "\n",
    "def objective2(individual):\n",
    "    return sum((x-2)**2 for x in individual)\n",
    "\n",
    "# Y las restricciones\n",
    "def constraint(individual):\n",
    "    # La suma de los valores del individuo debe ser menor o igual a 2\n",
    "    if sum(individual) <= 2:\n",
    "        return True,\n",
    "    return False,\n",
    "\n"
   ]
  },
  {
   "cell_type": "code",
   "execution_count": 21,
   "id": "c6997ee8",
   "metadata": {},
   "outputs": [],
   "source": [
    "# toolbox.register(\"evaluate\", objective1, objective2)\n",
    "toolbox.register(\"evaluate\", lambda ind: (objective1(ind), objective2(ind)))\n",
    "toolbox.decorate(\"evaluate\", tools.DeltaPenality(constraint, 100))  # imponemos una penalidazación si la restricción no se cumple"
   ]
  },
  {
   "cell_type": "code",
   "execution_count": 22,
   "id": "aeba47d6",
   "metadata": {},
   "outputs": [
    {
     "name": "stdout",
     "output_type": "stream",
     "text": [
      "gen\tnevals\tavg                        \tstd                      \tmin                      \tmax                        \n",
      "0  \t50    \t[105.828426   119.80038591]\t[53.10556747 72.05499406]\t[10.69957037 10.02303486]\t[259.04663085 354.28531971]\n",
      "1  \t100   \t[161.54703601 191.8236222 ]\t[37.44872511 60.18334104]\t[104.74767374  84.73769134]\t[265.05130234 354.28531971]\n",
      "2  \t100   \t[216.42700373 257.98740852]\t[28.7333707  61.03142418]\t[176.21688143 110.88682202]\t[282.32596706 388.50954056]\n",
      "3  \t100   \t[251.9589021  297.91321197]\t[19.38321091 66.15381724]\t[213.21634334 137.31401823]\t[286.35267644 400.38660423]\n",
      "4  \t100   \t[271.87656455 336.43840654]\t[10.6447528  44.45101227]\t[256.54069041 251.00374746]\t[293.37766155 411.92983466]\n",
      "5  \t100   \t[284.52768648 343.42860931]\t[ 5.8988934 42.5661508]  \t[273.81535514 257.8280792 ]\t[310.96786473 444.25216032]\n",
      "6  \t100   \t[288.79061116 368.25950401]\t[ 8.9479155  41.89785703]\t[281.34909777 272.21257245]\t[327.85686704 444.25216032]\n",
      "7  \t100   \t[297.41083963 389.17635616]\t[10.96177516 45.26294102]\t[281.34909777 272.21257245]\t[331.88357642 465.28496464]\n",
      "8  \t100   \t[310.88226273 427.42784764]\t[13.10886958 33.32462241]\t[300.8597899  356.48578511]\t[347.09219075 486.93726057]\n",
      "9  \t100   \t[331.58113836 455.06109946]\t[12.37477478 31.1953475 ]\t[312.83956477 373.69322008]\t[362.18848002 497.43683412]\n",
      "10 \t100   \t[353.30266443 475.19189525]\t[13.13499549 36.96802338]\t[336.00361861 401.31573497]\t[387.34488487 533.52855214]\n",
      "11 \t100   \t[378.29982721 509.04513756]\t[12.76761254 40.65529556]\t[360.70705675 421.87339689]\t[404.10715905 554.85557361]\n",
      "12 \t100   \t[395.71436713 539.54823734]\t[10.82535234 27.26546427]\t[385.7532043  443.39026097]\t[434.03711862 590.0387913 ]\n",
      "13 \t100   \t[412.87736419 565.08432319]\t[ 9.95481245 11.74186934]\t[399.2875337  548.83183477]\t[434.03711862 590.0387913 ]\n",
      "14 \t100   \t[425.54172543 579.95351826]\t[7.96305648 9.32029767]  \t[417.25002517 570.15885624]\t[445.12886609 602.67698993]\n",
      "15 \t100   \t[435.86784308 592.05834513]\t[4.71948927 5.51945742]  \t[429.62126331 584.5433495 ]\t[450.05936163 608.787461  ]\n",
      "16 \t100   \t[444.91574244 602.55416791]\t[12.75916546 14.7385527 ]\t[435.60397992 591.67572032]\t[527.41922922 697.65535127]\n",
      "17 \t100   \t[457.73897462 617.45539811]\t[19.36218211 22.2981538 ]\t[445.12886609 602.67698993]\t[527.41922922 697.65535127]\n",
      "18 \t100   \t[474.70592355 637.11348079]\t[19.82692232 22.71120916]\t[459.5842478  619.78873061]\t[527.41922922 697.65535127]\n",
      "19 \t100   \t[501.60932605 667.97830569]\t[20.32071318 23.26543324]\t[475.36066044 637.98057795]\t[553.68353622 727.30505178]\n",
      "20 \t100   \t[533.73984385 704.83296752]\t[14.27646854 16.20651191]\t[519.09171417 687.90544472]\t[593.29955774 771.94235598]\n",
      "21 \t100   \t[555.14078045 729.31959379]\t[12.74362101 14.49203753]\t[539.22815451 710.1933111 ]\t[617.45378965 800.18354299]\n",
      "22 \t100   \t[574.68009304 751.70839143]\t[18.85309876 21.68380944]\t[556.32734857 730.65277572]\t[630.92151776 816.59869737]\n",
      "23 \t100   \t[597.91578475 778.31666624]\t[14.17240138 16.21336537]\t[579.94700954 758.03004125]\t[642.51243772 829.73631629]\n",
      "24 \t100   \t[620.53423648 804.22393035]\t[14.65418628 16.59629457]\t[604.40180534 786.30340762]\t[668.91514707 859.06719807]\n",
      "25 \t100   \t[648.8115412 836.5726818]  \t[18.24117102 20.64642018]\t[630.92151776 816.59869737]\t[717.33975613 914.73438253]\n",
      "26 \t100   \t[681.17163955 873.23112327]\t[19.588398   22.28424946]\t[659.29506618 848.3150613 ]\t[764.6422328  967.99999414]\n",
      "27 \t100   \t[708.52943743 904.26728633]\t[27.91975896 31.60864383]\t[681.36248506 873.42258848]\t[ 802.11710033 1008.42768344]\n",
      "28 \t100   \t[758.48197934 961.02320072]\t[27.6284864  31.11492873]\t[711.25900051 907.4434427 ]\t[ 813.3272281 1022.8961449]  \n",
      "29 \t100   \t[786.49027956 992.66869363]\t[7.46507279 8.32487303]  \t[783.22008465 989.02138724]\t[ 813.3272281 1022.8961449]  \n",
      "30 \t100   \t[790.60803765 997.30338959]\t[10.35568072 11.61029592]\t[785.22402642 991.28318093]\t[ 818.52626087 1028.72415705]\n",
      "31 \t100   \t[ 804.86005279 1013.31988628]\t[13.8029415 15.4846206]  \t[785.22402642 991.28318093]\t[ 846.77540155 1059.82960625]\n",
      "32 \t100   \t[ 823.87846573 1034.64219813]\t[15.32533986 17.02643556]\t[ 813.3272281 1022.8961449]\t[ 874.87860323 1091.44257021]\n",
      "33 \t100   \t[ 839.37992838 1051.89969245]\t[19.75278146 21.88612791]\t[ 818.52626087 1028.72415705]\t[ 902.61545001 1121.48632157]\n",
      "34 \t100   \t[ 867.72197097 1083.3662734 ]\t[22.58783651 25.17048263]\t[ 836.65424781 1049.0001659 ]\t[ 935.91768446 1158.92729769]\n",
      "35 \t100   \t[ 894.410124   1113.21279088]\t[19.53668403 21.63444065]\t[ 874.87860323 1091.44257021]\t[ 984.13586788 1212.85791326]\n",
      "36 \t100   \t[ 914.06578972 1134.99275963]\t[22.09837111 24.40759844]\t[ 898.20562294 1117.54659122]\t[ 984.13586788 1212.85791326]\n",
      "37 \t100   \t[ 946.97639467 1171.30528338]\t[21.50646465 23.95210396]\t[ 920.67838537 1142.59812194]\t[1039.97591634 1274.51462859]\n",
      "38 \t100   \t[ 977.26091337 1205.02722956]\t[30.03538486 33.33185048]\t[ 953.91034498 1179.10249379]\t[1039.97591634 1274.51462859]\n",
      "39 \t100   \t[1027.63956487 1260.90489011]\t[22.45806275 24.79678317]\t[ 984.13586788 1212.85791326]\t[1048.12658571 1283.66294778]\n",
      "40 \t100   \t[1045.36200877 1280.51427184]\t[13.69841003 15.1832434 ]\t[1039.97591634 1274.51462859]\t[1109.57002898 1350.81176909]\n",
      "41 \t100   \t[1063.08708031 1300.28171506]\t[18.97927188 20.99665694]\t[1039.97591634 1274.51462859]\t[1109.57002898 1350.81176909]\n",
      "42 \t100   \t[1082.51343991 1321.87546299]\t[17.34753726 19.01359424]\t[1057.96857687 1294.68982469]\t[1142.77516697 1388.16780541]\n",
      "43 \t100   \t[1104.38054845 1345.98291304]\t[19.64966249 21.4383322 ]\t[1088.00772338 1328.22243335]\t[1160.25926387 1407.56479329]\n",
      "44 \t100   \t[1144.46149096 1389.94837284]\t[22.05962739 24.27030474]\t[1116.81308542 1359.86825872]\t[1229.85337651 1483.8619338 ]\n",
      "45 \t100   \t[1177.20053501 1426.03377602]\t[23.70047969 25.97584491]\t[1157.60183602 1404.51957386]\t[1234.76803799 1489.42429377]\n",
      "46 \t100   \t[1223.44471106 1476.80205346]\t[12.24971139 13.47174555]\t[1196.50958457 1447.49320338]\t[1250.95541799 1506.62288731]\n",
      "47 \t100   \t[1241.45512049 1496.64528024]\t[15.22431104 16.75362198]\t[1229.85337651 1483.8619338 ]\t[1309.53767959 1572.0689105 ]\n",
      "48 \t100   \t[1266.64081783 1524.20687714]\t[25.06296473 27.63146135]\t[1239.9785115  1495.12623291]\t[1362.46475006 1629.76441939]\n",
      "49 \t100   \t[1298.49140192 1559.25404209]\t[26.45963324 29.24027461]\t[1268.76112506 1527.0524643 ]\t[1362.46475006 1629.76441939]\n",
      "50 \t100   \t[1339.15257947 1603.99447373]\t[20.56757017 22.60306808]\t[1309.53767959 1572.05949655]\t[1408.34849675 1679.58879172]\n"
     ]
    }
   ],
   "source": [
    "random.seed(64)\n",
    "\n",
    "NGEN = 50\n",
    "MU = 50\n",
    "LAMBDA = 100\n",
    "CXPB = 0.7\n",
    "MUTPB = 0.3\n",
    "\n",
    "pop = toolbox.population(n=MU)\n",
    "hof = tools.ParetoFront()\n",
    "stats = tools.Statistics(lambda ind: ind.fitness.values)\n",
    "stats.register(\"avg\", np.mean, axis=0)\n",
    "stats.register(\"std\", np.std, axis=0)\n",
    "stats.register(\"min\", np.min, axis=0)\n",
    "stats.register(\"max\", np.max, axis=0)\n",
    "\n",
    "pop, logbook = algorithms.eaMuPlusLambda(pop, toolbox, MU, LAMBDA, CXPB, MUTPB, NGEN, stats,\n",
    "                                         halloffame=hof)"
   ]
  },
  {
   "cell_type": "code",
   "execution_count": 23,
   "id": "a6d370ba",
   "metadata": {},
   "outputs": [
    {
     "data": {
      "image/png": "[encoded data removed]",
      "text/plain": [
       "<Figure size 432x288 with 1 Axes>"
      ]
     },
     "metadata": {
      "needs_background": "light"
     },
     "output_type": "display_data"
    }
   ],
   "source": [
    "# Graficar el frente de Pareto\n",
    "front = np.array([ind.fitness.values for ind in hof])\n",
    "plt.scatter(front[:,0], front[:,1], c=\"b\")\n",
    "plt.axis(\"tight\")\n",
    "plt.xlabel('Objective function 1')\n",
    "plt.ylabel('Objective function 2')\n",
    "plt.title('Pareto front')\n",
    "plt.grid(True)\n",
    "plt.show()\n"
   ]
  },
  {
   "cell_type": "code",
   "execution_count": 29,
   "id": "a1a51a36",
   "metadata": {},
   "outputs": [
    {
     "name": "stdout",
     "output_type": "stream",
     "text": [
      "gen\tnevals\tavg                      \tstd                      \tmin                        \tmax                      \n",
      "0  \t50    \t[-0.49298998  1.76432482]\t[10.5858704   7.88549618]\t[-26.50831436  -4.73132945]\t[20.66664687 47.42859976]\n",
      "1  \t100   \t[6.4897335  3.62260738]  \t[7.25282111 9.92829863]  \t[-2.93674703  0.12253562]  \t[21.48267643 47.42859976]\n",
      "2  \t100   \t[8.51664376 4.94708296]  \t[ 8.82126175 11.28158034]\t[-2.93674703  0.1183658 ]  \t[22.34515943 47.42859976]\n",
      "3  \t100   \t[6.70423761 5.52940373]  \t[ 8.80763985 11.37089884]\t[-2.93674703  0.10785275]  \t[24.81570369 47.42859976]\n",
      "4  \t100   \t[8.382119   5.77818204]  \t[ 9.96367963 11.43809539]\t[-2.93674703  0.10514053]  \t[25.53323983 47.42859976]\n",
      "5  \t100   \t[8.46983921 6.12789618]  \t[10.74875146 11.41608252]\t[-2.93674703  0.10514053]  \t[25.53323983 47.42859976]\n",
      "6  \t100   \t[7.34230098 6.36408617]  \t[ 9.73974024 11.45080794]\t[-2.93674703  0.10133312]  \t[26.60532665 47.42859976]\n",
      "7  \t100   \t[8.0095965  7.32589897]  \t[11.36512139 12.76034287]\t[-2.93674703  0.09435996]  \t[28.79314706 47.42859976]\n",
      "8  \t100   \t[8.80939035 7.49251109]  \t[11.01317261 12.96949161]\t[-2.93674703  0.09435996]  \t[28.79314706 47.42859976]\n",
      "9  \t100   \t[6.92316187 7.6936641 ]  \t[10.49787648 12.879383  ]\t[-2.93674703  0.09435996]  \t[28.79314706 47.42859976]\n",
      "10 \t100   \t[9.04545536 7.92804066]  \t[11.4685259 13.1654015]  \t[-2.93674703  0.0901657 ]  \t[30.27207607 47.42859976]\n",
      "11 \t100   \t[7.15029831 9.28992782]  \t[11.34093323 13.32553943]\t[-2.93674703  0.0901657 ]  \t[30.27207607 47.42859976]\n",
      "12 \t100   \t[7.9256166  9.36575458]  \t[11.76519019 13.28805479]\t[-2.93674703  0.0901657 ]  \t[30.27207607 47.42859976]\n",
      "13 \t100   \t[7.08783975 9.04635221]  \t[11.50297001 13.37587077]\t[-2.93674703  0.0901657 ]  \t[30.27207607 47.42859976]\n",
      "14 \t100   \t[11.35091352  9.49457149]\t[11.69792715 27.31251498]\t[-2.98311676  0.0901657 ]  \t[ 30.27207607 177.69101417]\n",
      "15 \t100   \t[9.53534307 9.7973037 ]  \t[10.91373405 27.30854821]\t[-2.98311676  0.0901657 ]  \t[ 30.27207607 177.69101417]\n",
      "16 \t100   \t[ 9.76619404 13.35868999]\t[11.55855806 35.96814396]\t[-2.98311676  0.08891323]  \t[ 30.74075957 177.69101417]\n",
      "17 \t100   \t[ 9.5919072  13.50969536]\t[11.56411429 35.92458662]\t[-2.98311676  0.08891323]  \t[ 30.74075957 177.69101417]\n",
      "18 \t100   \t[ 9.41155619 13.5574928 ]\t[11.49598101 35.90939668]\t[-2.98311676  0.08891323]  \t[ 30.74075957 177.69101417]\n",
      "19 \t100   \t[10.62349349 13.46751992]\t[11.79053712 35.94010934]\t[-2.98311676  0.08891323]  \t[ 30.74075957 177.69101417]\n",
      "20 \t100   \t[10.05791323 13.57139199]\t[12.12306098 35.93351462]\t[-2.98311676  0.08472466]  \t[ 32.40881815 177.69101417]\n",
      "21 \t100   \t[ 9.56885573 13.90214718]\t[11.63881132 35.86716658]\t[-2.98311676  0.08472466]  \t[ 32.40881815 177.69101417]\n",
      "22 \t100   \t[11.5036859 13.5373026]  \t[12.49746352 35.86663691]\t[-2.98311676  0.08472466]  \t[ 32.40881815 177.69101417]\n",
      "23 \t100   \t[ 9.92390566 13.7745993 ]\t[11.79568177 35.96034969]\t[-2.98311676  0.08472466]  \t[ 32.40881815 177.69101417]\n",
      "24 \t100   \t[11.95830621 14.11250183]\t[13.10524489 35.93466997]\t[-2.98311676  0.08472466]  \t[ 32.40881815 177.69101417]\n",
      "25 \t100   \t[ 9.4601516  13.96384006]\t[12.2244131  35.89211155]\t[-2.98311676  0.08022247]  \t[ 34.39600462 177.69101417]\n",
      "26 \t100   \t[11.38664624 14.15957209]\t[12.78216953 35.96245531]\t[-2.98311676  0.08022247]  \t[ 34.39600462 177.69101417]\n",
      "27 \t100   \t[11.81584373 13.91311084]\t[12.63931777 35.99473211]\t[-2.98311676  0.08022247]  \t[ 34.39600462 177.69101417]\n",
      "28 \t100   \t[ 9.72616722 14.41030208]\t[13.17562613 35.86936404]\t[-2.98311676  0.08022247]  \t[ 34.39600462 177.69101417]\n",
      "29 \t100   \t[12.06008084 14.14514094]\t[13.53068734 35.9687737 ]\t[-2.98311676  0.08022247]  \t[ 34.39600462 177.69101417]\n",
      "30 \t100   \t[12.69295915 14.10673748]\t[13.78500752 35.96819514]\t[-2.98311676  0.08022247]  \t[ 34.39600462 177.69101417]\n",
      "31 \t100   \t[ 9.94221038 14.22198287]\t[12.3125436  35.93004678]\t[-2.98311676  0.07945083]  \t[ 34.75920441 177.69101417]\n",
      "32 \t100   \t[10.67214653 14.41149447]\t[13.00088049 35.90994948]\t[-2.98311676  0.07945083]  \t[ 34.75920441 177.69101417]\n",
      "33 \t100   \t[12.61532326 13.87894803]\t[13.66147331 36.00867076]\t[-2.98311676  0.07730369]  \t[ 35.80797789 177.69101417]\n",
      "34 \t100   \t[12.25690981 14.33638431]\t[13.67321   35.9404505]  \t[-2.98311676  0.07730369]  \t[ 35.80797789 177.69101417]\n",
      "35 \t100   \t[10.22704699 14.2456741 ]\t[12.89352838 35.93276136]\t[-2.98311676  0.07730369]  \t[ 35.80797789 177.69101417]\n",
      "36 \t100   \t[ 9.44806278 14.67429029]\t[12.81308207 35.84991112]\t[-2.98311676  0.07730369]  \t[ 35.80797789 177.69101417]\n",
      "37 \t100   \t[10.51339384 14.7013292 ]\t[14.06000267 35.84087594]\t[-2.98311676  0.07730369]  \t[ 35.80797789 177.69101417]\n",
      "38 \t100   \t[12.04747182 13.99205574]\t[13.6180844  35.89532309]\t[-2.98311676  0.07701372]  \t[ 35.95409792 177.69101417]\n",
      "39 \t100   \t[10.99199945 21.13313517]\t[12.8758709 49.5342567]  \t[-2.98409704  0.07701372]  \t[ 35.95409792 188.64408712]\n",
      "40 \t100   \t[12.63131676 20.62807329]\t[14.0048487  49.59012723]\t[-2.98409704  0.07701372]  \t[ 35.95409792 188.64408712]\n",
      "41 \t100   \t[12.29795478 20.27617069]\t[13.711923   49.67783135]\t[-2.98409704  0.07701372]  \t[ 35.95409792 188.64408712]\n",
      "42 \t100   \t[10.88781601 21.15400583]\t[13.08100244 49.54710788]\t[-2.98409704  0.07616372]  \t[ 36.3888324  188.64408712]\n",
      "43 \t100   \t[10.97435482 21.37047661]\t[13.59311385 49.48418495]\t[-2.98409704  0.07616372]  \t[ 36.3888324  188.64408712]\n",
      "44 \t100   \t[10.78560748 22.11054372]\t[14.08935464 49.34766644]\t[-2.98409704  0.07616372]  \t[ 36.3888324  188.64408712]\n",
      "45 \t100   \t[10.6341352  21.84765725]\t[13.95240579 49.39885671]\t[-2.98409704  0.07392232]  \t[ 37.58314008 188.64408712]\n",
      "46 \t100   \t[11.22933597 21.25721242]\t[14.22625412 49.57260579]\t[-2.98409704  0.07392232]  \t[ 37.58314008 188.64408712]\n",
      "47 \t100   \t[10.62703077 21.84282282]\t[14.26533189 49.41679368]\t[-2.98409704  0.07392232]  \t[ 37.58314008 188.64408712]\n",
      "48 \t100   \t[11.72766417 21.5238717 ]\t[14.37667602 49.50346793]\t[-2.98409704  0.07392232]  \t[ 37.58314008 188.64408712]\n",
      "49 \t100   \t[12.87861542 21.33048984]\t[14.64165074 49.5704255 ]\t[-2.98409704  0.07392232]  \t[ 37.58314008 188.64408712]\n",
      "50 \t100   \t[10.59961612 21.7164342 ]\t[13.63685572 49.45815097]\t[-2.98409704  0.07392232]  \t[ 37.58314008 188.64408712]\n"
     ]
    }
   ],
   "source": [
    "from deap import base, creator, tools, algorithms\n",
    "import random\n",
    "import numpy as np\n",
    "import matplotlib.pyplot as plt\n",
    "\n",
    "# Definimos los pesos de los objetivos. (1.0,) significa maximización.\n",
    "creator.create(\"FitnessMax\", base.Fitness, weights=(1.0, 1.0))\n",
    "creator.create(\"Individual\", list, fitness=creator.FitnessMax)\n",
    "\n",
    "# Creamos una caja de herramientas para la configuración de la evolución\n",
    "toolbox = base.Toolbox()\n",
    "\n",
    "# Registro de funciones de atributo, individuo y población\n",
    "toolbox.register(\"attr_float\", random.uniform, -10, 10)  # cada atributo es un float en el rango [-10, 10]\n",
    "toolbox.register(\"individual\", tools.initRepeat, creator.Individual, toolbox.attr_float, n=3)\n",
    "toolbox.register(\"population\", tools.initRepeat, list, toolbox.individual)\n",
    "\n",
    "# Registro de funciones de evolución\n",
    "toolbox.register(\"mate\", tools.cxTwoPoint)\n",
    "toolbox.register(\"mutate\", tools.mutGaussian, mu=0, sigma=1, indpb=0.1)\n",
    "toolbox.register(\"select\", tools.selNSGA2)\n",
    "\n",
    "# Definimos las funciones objetivo\n",
    "def objective1(individual):\n",
    "    return sum(x for x in individual) # maximizar la suma de los elementos\n",
    "\n",
    "def objective2(individual):\n",
    "    return len(individual) / sum((x+1) for x in individual)  # maximizar la inversa de la suma de los elementos incrementados\n",
    "\n",
    "# Y las restricciones\n",
    "def constraint(individual):\n",
    "    # La suma de los valores del individuo debe ser menor o igual a 2\n",
    "    if sum(individual) <= 2:\n",
    "        return True,\n",
    "    return False,\n",
    "\n",
    "toolbox.register(\"evaluate\", lambda ind: (objective1(ind), objective2(ind)))\n",
    "toolbox.decorate(\"evaluate\", tools.DeltaPenality(constraint, 100))  # imponemos una penalidad si la restricción no se cumple\n",
    "\n",
    "\n",
    "random.seed(64)\n",
    "\n",
    "NGEN = 50\n",
    "MU = 50\n",
    "LAMBDA = 100\n",
    "CXPB = 0.7\n",
    "MUTPB = 0.3\n",
    "\n",
    "pop = toolbox.population(n=MU)\n",
    "hof = tools.ParetoFront()\n",
    "stats = tools.Statistics(lambda ind: ind.fitness.values)\n",
    "stats.register(\"avg\", np.mean, axis=0)\n",
    "stats.register(\"std\", np.std, axis=0)\n",
    "stats.register(\"min\", np.min, axis=0)\n",
    "stats.register(\"max\", np.max, axis=0)\n",
    "\n",
    "pop, logbook = algorithms.eaMuPlusLambda(pop, toolbox, MU, LAMBDA, CXPB, MUTPB, NGEN, stats,\n",
    "                                             halloffame=hof)\n",
    "\n"
   ]
  },
  {
   "cell_type": "code",
   "execution_count": 30,
   "id": "ee5b92f5",
   "metadata": {},
   "outputs": [
    {
     "data": {
      "image/png": "[encoded data removed]",
      "text/plain": [
       "<Figure size 432x288 with 1 Axes>"
      ]
     },
     "metadata": {
      "needs_background": "light"
     },
     "output_type": "display_data"
    }
   ],
   "source": [
    "# Graficar el frente de Pareto\n",
    "front = np.array([ind.fitness.values for ind in hof])\n",
    "plt.scatter(front[:,0], front[:,1], c=\"b\")\n",
    "plt.axis(\"tight\")\n",
    "plt.xlabel('Objective function 1')\n",
    "plt.ylabel('Objective function 2')\n",
    "plt.title('Pareto front')\n",
    "plt.grid(True)\n",
    "plt.show()"
   ]
  },
  {
   "cell_type": "code",
   "execution_count": null,
   "id": "397a0dcb",
   "metadata": {},
   "outputs": [],
   "source": [
    "\n",
    "\n",
    "5.2 Problema de optimización multiobjetivo\n",
    "\n",
    "5.3 Optimización multiobjetivo con preferencias apriori\n",
    "\n",
    "5.3.1 Función de agregación \n",
    "\n",
    "5.3.2 Programación de metas\n",
    "\n",
    "5.3.3 Ordenamiento lexicográfico\n",
    "\n",
    "5.4 Optimización multiobjetivo con preferencias a posteriori\n",
    "\n",
    "5.4.1 Basados en No-Dominancia de Paretto\n",
    "\n",
    "5.4.2 Basados en dominancia de Paretto"
   ]
  }
 ],
 "metadata": {
  "kernelspec": {
   "display_name": "Python 3 (ipykernel)",
   "language": "python",
   "name": "python3"
  },
  "language_info": {
   "codemirror_mode": {
    "name": "ipython",
    "version": 3
   },
   "file_extension": ".py",
   "mimetype": "text/x-python",
   "name": "python",
   "nbconvert_exporter": "python",
   "pygments_lexer": "ipython3",
   "version": "3.10.6"
  }
 },
 "nbformat": 4,
 "nbformat_minor": 5
}
