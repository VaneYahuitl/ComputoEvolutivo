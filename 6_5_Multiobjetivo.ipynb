{
 "cells": [
  {
   "cell_type": "markdown",
   "id": "3f4c62b9",
   "metadata": {},
   "source": [
    "# Algoritmos genéticos multiobjetivo\n",
    "\n",
    "Algunas ocasiones es útil, o necesario, maximizar más de una función al mismo tiempo. Por ejemplo, se puede querer minimizar simultaneamente el tiempo de fabricación de una herramienta y también su costo.\n",
    "\n",
    "\n",
    "![](https://img.remediosdigitales.com/be2cd2/optimo-de-pareto/1366_2000.jpg)\n",
    "\n",
    "## 5.1 Manejo de restricciones \n",
    "\n",
    "Optimizar $f_i(x) (\\forall i = 1,...,n)$\n",
    "\n",
    "sujeto a $x \\in X \\subseteq  \\mathbb{R}^n $, \n",
    "\n",
    "se trata de optimizar simultaneamente $n$ funciones, cuyas variables pueden estar sujetas a ciertas **restricciones**.\n",
    "\n",
    "\n",
    "\n",
    "\n",
    "\n",
    "\n"
   ]
  },
  {
   "cell_type": "code",
   "execution_count": 1,
   "id": "edd20877",
   "metadata": {},
   "outputs": [
    {
     "name": "stdout",
     "output_type": "stream",
     "text": [
      "Defaulting to user installation because normal site-packages is not writeable\n",
      "Requirement already satisfied: deap in /home/isidro/.local/lib/python3.10/site-packages (1.3.3)\n",
      "Requirement already satisfied: numpy in /home/isidro/.local/lib/python3.10/site-packages (from deap) (1.24.2)\n"
     ]
    }
   ],
   "source": [
    "!pip install deap"
   ]
  },
  {
   "cell_type": "code",
   "execution_count": 2,
   "id": "85be7a7d",
   "metadata": {},
   "outputs": [],
   "source": [
    "from deap import base, creator, tools, algorithms\n",
    "import matplotlib.pyplot as plt\n",
    "import random\n",
    "import numpy as np"
   ]
  },
  {
   "cell_type": "code",
   "execution_count": 3,
   "id": "22e927bb",
   "metadata": {},
   "outputs": [],
   "source": [
    "# Definimos los pesos de los objetivos. (1.0,) significa maximización.\n",
    "creator.create(\"FitnessMax\", base.Fitness, weights=(1.0, 1.0))\n",
    "creator.create(\"Individual\", list, fitness=creator.FitnessMax)\n",
    "\n",
    "# Creamos una caja de herramientas para la configuración de la evolución\n",
    "toolbox = base.Toolbox()\n",
    "\n",
    "# Registro de funciones de atributo, individuo y población\n",
    "toolbox.register(\"attr_float\", random.uniform, -10, 10)  # cada atributo es un float en el rango [-10, 10]\n",
    "toolbox.register(\"individual\", tools.initRepeat, creator.Individual, toolbox.attr_float, n=3)\n",
    "toolbox.register(\"population\", tools.initRepeat, list, toolbox.individual)\n",
    "\n",
    "# Registro de funciones de evolución\n",
    "toolbox.register(\"mate\", tools.cxTwoPoint)\n",
    "toolbox.register(\"mutate\", tools.mutGaussian, mu=0, sigma=1, indpb=0.1)\n",
    "toolbox.register(\"select\", tools.selNSGA2)\n",
    "\n",
    "# Definimos las funciones objetivo\n",
    "def objective1(individual):\n",
    "    return sum(x**2 for x in individual)\n",
    "\n",
    "def objective2(individual):\n",
    "    return sum((x-2)**2 for x in individual)\n",
    "\n",
    "# Y las restricciones\n",
    "def constraint(individual):\n",
    "    # La suma de los valores del individuo debe ser menor o igual a 2\n",
    "    if sum(individual) <= 2:\n",
    "        return True,\n",
    "    return False,\n",
    "\n"
   ]
  },
  {
   "cell_type": "code",
   "execution_count": 4,
   "id": "9b094228",
   "metadata": {},
   "outputs": [],
   "source": [
    "# toolbox.register(\"evaluate\", objective1, objective2)\n",
    "toolbox.register(\"evaluate\", lambda ind: (objective1(ind), objective2(ind)))\n",
    "toolbox.decorate(\"evaluate\", tools.DeltaPenality(constraint, 100))  # imponemos una penalidazación si la restricción no se cumple"
   ]
  },
  {
   "cell_type": "code",
   "execution_count": 5,
   "id": "65dcb78c",
   "metadata": {},
   "outputs": [
    {
     "name": "stdout",
     "output_type": "stream",
     "text": [
      "gen\tnevals\tavg                        \tstd                      \tmin                      \tmax                        \n",
      "0  \t50    \t[105.828426   119.80038591]\t[53.10556747 72.05499406]\t[10.69957037 10.02303486]\t[259.04663085 354.28531971]\n",
      "1  \t100   \t[161.54703601 191.8236222 ]\t[37.44872511 60.18334104]\t[104.74767374  84.73769134]\t[265.05130234 354.28531971]\n",
      "2  \t100   \t[216.42700373 257.98740852]\t[28.7333707  61.03142418]\t[176.21688143 110.88682202]\t[282.32596706 388.50954056]\n",
      "3  \t100   \t[251.9589021  297.91321197]\t[19.38321091 66.15381724]\t[213.21634334 137.31401823]\t[286.35267644 400.38660423]\n",
      "4  \t100   \t[271.87656455 336.43840654]\t[10.6447528  44.45101227]\t[256.54069041 251.00374746]\t[293.37766155 411.92983466]\n",
      "5  \t100   \t[284.52768648 343.42860931]\t[ 5.8988934 42.5661508]  \t[273.81535514 257.8280792 ]\t[310.96786473 444.25216032]\n",
      "6  \t100   \t[288.79061116 368.25950401]\t[ 8.9479155  41.89785703]\t[281.34909777 272.21257245]\t[327.85686704 444.25216032]\n",
      "7  \t100   \t[297.41083963 389.17635616]\t[10.96177516 45.26294102]\t[281.34909777 272.21257245]\t[331.88357642 465.28496464]\n",
      "8  \t100   \t[310.88226273 427.42784764]\t[13.10886958 33.32462241]\t[300.8597899  356.48578511]\t[347.09219075 486.93726057]\n",
      "9  \t100   \t[331.58113836 455.06109946]\t[12.37477478 31.1953475 ]\t[312.83956477 373.69322008]\t[362.18848002 497.43683412]\n",
      "10 \t100   \t[353.30266443 475.19189525]\t[13.13499549 36.96802338]\t[336.00361861 401.31573497]\t[387.34488487 533.52855214]\n",
      "11 \t100   \t[378.29982721 509.04513756]\t[12.76761254 40.65529556]\t[360.70705675 421.87339689]\t[404.10715905 554.85557361]\n",
      "12 \t100   \t[395.71436713 539.54823734]\t[10.82535234 27.26546427]\t[385.7532043  443.39026097]\t[434.03711862 590.0387913 ]\n",
      "13 \t100   \t[412.87736419 565.08432319]\t[ 9.95481245 11.74186934]\t[399.2875337  548.83183477]\t[434.03711862 590.0387913 ]\n",
      "14 \t100   \t[425.54172543 579.95351826]\t[7.96305648 9.32029767]  \t[417.25002517 570.15885624]\t[445.12886609 602.67698993]\n",
      "15 \t100   \t[435.86784308 592.05834513]\t[4.71948927 5.51945742]  \t[429.62126331 584.5433495 ]\t[450.05936163 608.787461  ]\n",
      "16 \t100   \t[444.91574244 602.55416791]\t[12.75916546 14.7385527 ]\t[435.60397992 591.67572032]\t[527.41922922 697.65535127]\n",
      "17 \t100   \t[457.73897462 617.45539811]\t[19.36218211 22.2981538 ]\t[445.12886609 602.67698993]\t[527.41922922 697.65535127]\n",
      "18 \t100   \t[474.70592355 637.11348079]\t[19.82692232 22.71120916]\t[459.5842478  619.78873061]\t[527.41922922 697.65535127]\n",
      "19 \t100   \t[501.60932605 667.97830569]\t[20.32071318 23.26543324]\t[475.36066044 637.98057795]\t[553.68353622 727.30505178]\n",
      "20 \t100   \t[533.73984385 704.83296752]\t[14.27646854 16.20651191]\t[519.09171417 687.90544472]\t[593.29955774 771.94235598]\n",
      "21 \t100   \t[555.14078045 729.31959379]\t[12.74362101 14.49203753]\t[539.22815451 710.1933111 ]\t[617.45378965 800.18354299]\n",
      "22 \t100   \t[574.68009304 751.70839143]\t[18.85309876 21.68380944]\t[556.32734857 730.65277572]\t[630.92151776 816.59869737]\n",
      "23 \t100   \t[597.91578475 778.31666624]\t[14.17240138 16.21336537]\t[579.94700954 758.03004125]\t[642.51243772 829.73631629]\n",
      "24 \t100   \t[620.53423648 804.22393035]\t[14.65418628 16.59629457]\t[604.40180534 786.30340762]\t[668.91514707 859.06719807]\n",
      "25 \t100   \t[648.8115412 836.5726818]  \t[18.24117102 20.64642018]\t[630.92151776 816.59869737]\t[717.33975613 914.73438253]\n",
      "26 \t100   \t[681.17163955 873.23112327]\t[19.588398   22.28424946]\t[659.29506618 848.3150613 ]\t[764.6422328  967.99999414]\n",
      "27 \t100   \t[708.52943743 904.26728633]\t[27.91975896 31.60864383]\t[681.36248506 873.42258848]\t[ 802.11710033 1008.42768344]\n",
      "28 \t100   \t[758.48197934 961.02320072]\t[27.6284864  31.11492873]\t[711.25900051 907.4434427 ]\t[ 813.3272281 1022.8961449]  \n",
      "29 \t100   \t[786.49027956 992.66869363]\t[7.46507279 8.32487303]  \t[783.22008465 989.02138724]\t[ 813.3272281 1022.8961449]  \n",
      "30 \t100   \t[790.60803765 997.30338959]\t[10.35568072 11.61029592]\t[785.22402642 991.28318093]\t[ 818.52626087 1028.72415705]\n",
      "31 \t100   \t[ 804.86005279 1013.31988628]\t[13.8029415 15.4846206]  \t[785.22402642 991.28318093]\t[ 846.77540155 1059.82960625]\n",
      "32 \t100   \t[ 823.87846573 1034.64219813]\t[15.32533986 17.02643556]\t[ 813.3272281 1022.8961449]\t[ 874.87860323 1091.44257021]\n",
      "33 \t100   \t[ 839.37992838 1051.89969245]\t[19.75278146 21.88612791]\t[ 818.52626087 1028.72415705]\t[ 902.61545001 1121.48632157]\n",
      "34 \t100   \t[ 867.72197097 1083.3662734 ]\t[22.58783651 25.17048263]\t[ 836.65424781 1049.0001659 ]\t[ 935.91768446 1158.92729769]\n",
      "35 \t100   \t[ 894.410124   1113.21279088]\t[19.53668403 21.63444065]\t[ 874.87860323 1091.44257021]\t[ 984.13586788 1212.85791326]\n",
      "36 \t100   \t[ 914.06578972 1134.99275963]\t[22.09837111 24.40759844]\t[ 898.20562294 1117.54659122]\t[ 984.13586788 1212.85791326]\n",
      "37 \t100   \t[ 946.97639467 1171.30528338]\t[21.50646465 23.95210396]\t[ 920.67838537 1142.59812194]\t[1039.97591634 1274.51462859]\n",
      "38 \t100   \t[ 977.26091337 1205.02722956]\t[30.03538486 33.33185048]\t[ 953.91034498 1179.10249379]\t[1039.97591634 1274.51462859]\n",
      "39 \t100   \t[1027.63956487 1260.90489011]\t[22.45806275 24.79678317]\t[ 984.13586788 1212.85791326]\t[1048.12658571 1283.66294778]\n",
      "40 \t100   \t[1045.36200877 1280.51427184]\t[13.69841003 15.1832434 ]\t[1039.97591634 1274.51462859]\t[1109.57002898 1350.81176909]\n",
      "41 \t100   \t[1063.08708031 1300.28171506]\t[18.97927188 20.99665694]\t[1039.97591634 1274.51462859]\t[1109.57002898 1350.81176909]\n",
      "42 \t100   \t[1082.51343991 1321.87546299]\t[17.34753726 19.01359424]\t[1057.96857687 1294.68982469]\t[1142.77516697 1388.16780541]\n",
      "43 \t100   \t[1104.38054845 1345.98291304]\t[19.64966249 21.4383322 ]\t[1088.00772338 1328.22243335]\t[1160.25926387 1407.56479329]\n",
      "44 \t100   \t[1144.46149096 1389.94837284]\t[22.05962739 24.27030474]\t[1116.81308542 1359.86825872]\t[1229.85337651 1483.8619338 ]\n",
      "45 \t100   \t[1177.20053501 1426.03377602]\t[23.70047969 25.97584491]\t[1157.60183602 1404.51957386]\t[1234.76803799 1489.42429377]\n",
      "46 \t100   \t[1223.44471106 1476.80205346]\t[12.24971139 13.47174555]\t[1196.50958457 1447.49320338]\t[1250.95541799 1506.62288731]\n",
      "47 \t100   \t[1241.45512049 1496.64528024]\t[15.22431104 16.75362198]\t[1229.85337651 1483.8619338 ]\t[1309.53767959 1572.0689105 ]\n",
      "48 \t100   \t[1266.64081783 1524.20687714]\t[25.06296473 27.63146135]\t[1239.9785115  1495.12623291]\t[1362.46475006 1629.76441939]\n",
      "49 \t100   \t[1298.49140192 1559.25404209]\t[26.45963324 29.24027461]\t[1268.76112506 1527.0524643 ]\t[1362.46475006 1629.76441939]\n",
      "50 \t100   \t[1339.15257947 1603.99447373]\t[20.56757017 22.60306808]\t[1309.53767959 1572.05949655]\t[1408.34849675 1679.58879172]\n"
     ]
    }
   ],
   "source": [
    "random.seed(64)\n",
    "\n",
    "NGEN = 50\n",
    "MU = 50\n",
    "LAMBDA = 100\n",
    "CXPB = 0.7\n",
    "MUTPB = 0.3\n",
    "\n",
    "pop = toolbox.population(n=MU)\n",
    "hof = tools.ParetoFront()\n",
    "stats = tools.Statistics(lambda ind: ind.fitness.values)\n",
    "stats.register(\"avg\", np.mean, axis=0)\n",
    "stats.register(\"std\", np.std, axis=0)\n",
    "stats.register(\"min\", np.min, axis=0)\n",
    "stats.register(\"max\", np.max, axis=0)\n",
    "\n",
    "pop, logbook = algorithms.eaMuPlusLambda(pop, toolbox, MU, LAMBDA, CXPB, MUTPB, NGEN, stats,\n",
    "                                         halloffame=hof)"
   ]
  },
  {
   "cell_type": "code",
   "execution_count": 6,
   "id": "404fba28",
   "metadata": {},
   "outputs": [
    {
     "data": {
      "image/png": "[encoded data removed]",
      "text/plain": [
       "<Figure size 432x288 with 1 Axes>"
      ]
     },
     "metadata": {
      "needs_background": "light"
     },
     "output_type": "display_data"
    }
   ],
   "source": [
    "# Graficar el frente de Pareto\n",
    "front = np.array([ind.fitness.values for ind in hof])\n",
    "plt.scatter(front[:,0], front[:,1], c=\"b\")\n",
    "plt.axis(\"tight\")\n",
    "plt.xlabel('Objective function 1')\n",
    "plt.ylabel('Objective function 2')\n",
    "plt.title('Pareto front')\n",
    "plt.grid(True)\n",
    "plt.show()\n"
   ]
  },
  {
   "cell_type": "markdown",
   "id": "718c8bf6",
   "metadata": {},
   "source": [
    "## Dos funciones que se comporten parecido"
   ]
  },
  {
   "cell_type": "code",
   "execution_count": 7,
   "id": "4a17e6a8",
   "metadata": {},
   "outputs": [
    {
     "name": "stderr",
     "output_type": "stream",
     "text": [
      "/home/isidro/.local/lib/python3.10/site-packages/deap/creator.py:138: RuntimeWarning: A class named 'FitnessMax' has already been created and it will be overwritten. Consider deleting previous creation of that class or rename it.\n",
      "  warnings.warn(\"A class named '{0}' has already been created and it \"\n",
      "/home/isidro/.local/lib/python3.10/site-packages/deap/creator.py:138: RuntimeWarning: A class named 'Individual' has already been created and it will be overwritten. Consider deleting previous creation of that class or rename it.\n",
      "  warnings.warn(\"A class named '{0}' has already been created and it \"\n"
     ]
    },
    {
     "name": "stdout",
     "output_type": "stream",
     "text": [
      "gen\tnevals\tavg                    \tstd                      \tmin                        \tmax                      \n",
      "0  \t50    \t[0.06700745 0.28322808]\t[10.08409529  1.83638627]\t[-22.98283576  -4.9497683 ]\t[18.55853298  6.59094755]\n",
      "1  \t100   \t[7.78946165 1.86030904]\t[7.78667519 6.65001659]  \t[-2.93647189  0.11928114]  \t[22.15066598 47.22319123]\n",
      "2  \t100   \t[9.37804834 3.10938656]\t[9.80884138 9.30108482]  \t[-2.93647189  0.09806883]  \t[27.59075929 47.22319123]\n",
      "3  \t100   \t[8.8653544  3.52576314]\t[10.00878973  9.44096802]\t[-2.93647189  0.09791766]  \t[27.6379862  47.22319123]\n",
      "4  \t100   \t[9.04852288 3.90707696]\t[10.69391857  9.4928813 ]\t[-2.93647189  0.09791766]  \t[27.6379862  47.22319123]\n",
      "5  \t100   \t[7.69971559 4.56641001]\t[10.09926502  9.68633531]\t[-2.93647189  0.09791766]  \t[27.6379862  47.22319123]\n",
      "6  \t100   \t[11.46955374  8.6217565 ]\t[ 9.29344238 43.18379935]\t[-2.99012017  0.09791766]  \t[ 27.6379862  303.64888233]\n",
      "7  \t100   \t[9.76266053 9.12529628]  \t[ 9.55033651 43.15762662]\t[-2.99012017  0.09791766]  \t[ 27.6379862  303.64888233]\n",
      "8  \t100   \t[11.57158556 15.26866246]\t[10.57329379 59.64655504]\t[-2.99012017  0.09791766]  \t[ 27.6379862  303.64888233]\n",
      "9  \t100   \t[10.00228845 15.36605184]\t[ 9.73701758 59.62765599]\t[-2.99012017  0.09643363]  \t[ 28.10947864 303.64888233]\n",
      "10 \t100   \t[10.45364011 15.31855185]\t[10.01463468 59.63674195]\t[-2.99012017  0.09643363]  \t[ 28.10947864 303.64888233]\n",
      "11 \t100   \t[10.72284769 15.22428601]\t[10.05844233 59.64448509]\t[-2.99012017  0.09643363]  \t[ 28.10947864 303.64888233]\n",
      "12 \t100   \t[10.74429313 14.97511814]\t[10.18398222 59.67592495]\t[-2.99012017  0.09643363]  \t[ 28.10947864 303.64888233]\n",
      "13 \t100   \t[11.6233849 15.2250476]  \t[10.32336663 59.64914877]\t[-2.99012017  0.09643363]  \t[ 28.10947864 303.64888233]\n",
      "14 \t100   \t[11.2762128  15.27956076]\t[10.47922374 59.63629144]\t[-2.99012017  0.09532077]  \t[ 28.47267843 303.64888233]\n",
      "15 \t100   \t[10.86296382 15.24190044]\t[10.53306992 59.64492048]\t[-2.99012017  0.09532077]  \t[ 28.47267843 303.64888233]\n",
      "16 \t100   \t[10.95935698 15.21607088]\t[10.67532413 59.64841815]\t[-2.99012017  0.09532077]  \t[ 28.47267843 303.64888233]\n",
      "17 \t100   \t[10.93259297 14.86621477]\t[10.01887103 59.63900515]\t[-2.99012017  0.09353373]  \t[ 29.07399179 303.64888233]\n",
      "18 \t100   \t[11.52717891 14.95536218]\t[10.30689476 59.62194127]\t[-2.99012017  0.09353373]  \t[ 29.07399179 303.64888233]\n",
      "19 \t100   \t[11.42900861 14.82047483]\t[10.3105028 59.6481956]  \t[-2.99012017  0.09353373]  \t[ 29.07399179 303.64888233]\n",
      "20 \t100   \t[10.63480749 15.4151608 ]\t[10.89434414 59.56134161]\t[-2.99012017  0.09353373]  \t[ 29.07399179 303.64888233]\n",
      "21 \t100   \t[ 9.84546489 15.34005126]\t[10.5865075  59.57574913]\t[-2.99012017  0.09353373]  \t[ 29.07399179 303.64888233]\n",
      "22 \t100   \t[12.34833314 14.96554094]\t[10.88753193 59.63266549]\t[-2.99012017  0.08833113]  \t[ 30.96311021 303.64888233]\n",
      "23 \t100   \t[11.83856337 15.38202419]\t[11.70501196 59.56170593]\t[-2.99012017  0.08833113]  \t[ 30.96311021 303.64888233]\n",
      "24 \t100   \t[12.48812186 15.24530049]\t[11.52262548 59.59163159]\t[-2.99012017  0.08833113]  \t[ 30.96311021 303.64888233]\n",
      "25 \t100   \t[11.8714416  15.06738276]\t[11.42717846 59.61009341]\t[-2.99012017  0.08791664]  \t[ 31.12323408 303.64888233]\n",
      "26 \t100   \t[12.3760782  15.05684374]\t[11.92991027 59.61255698]\t[-2.99012017  0.08791664]  \t[ 31.12323408 303.64888233]\n",
      "27 \t100   \t[12.34810215 15.89294052]\t[11.78063088 59.75169089]\t[-2.99012017  0.08494362]  \t[ 32.31754175 303.64888233]\n",
      "28 \t100   \t[11.46966467 16.95361923]\t[12.05159859 59.90953865]\t[-2.99012017  0.08494362]  \t[ 32.31754175 303.64888233]\n",
      "29 \t100   \t[12.13429485 16.97446164]\t[11.78793057 59.91134955]\t[-2.99012017  0.08482479]  \t[ 32.36701855 303.64888233]\n",
      "30 \t100   \t[12.7857054  16.82256239]\t[12.56540398 59.92955536]\t[-2.99012017  0.08482479]  \t[ 32.36701855 303.64888233]\n",
      "31 \t100   \t[11.30150059 16.84675451]\t[12.31034446 59.92286207]\t[-2.99012017  0.08482479]  \t[ 32.36701855 303.64888233]\n",
      "32 \t100   \t[12.36636541 17.12136567]\t[12.46641151 59.88334589]\t[-2.99012017  0.08482479]  \t[ 32.36701855 303.64888233]\n",
      "33 \t100   \t[12.48543323 16.67765682]\t[12.17685216 59.95750146]\t[-2.99012017  0.08482479]  \t[ 32.36701855 303.64888233]\n",
      "34 \t100   \t[12.21757955 16.9385431 ]\t[11.67904024 59.92948391]\t[-2.99012017  0.084309  ]  \t[ 32.5833901  303.64888233]\n",
      "35 \t100   \t[11.8060267  17.01685318]\t[12.38476386 59.9092277 ]\t[-2.99012017  0.08237276]  \t[ 33.41980529 303.64888233]\n",
      "36 \t100   \t[13.292022   16.85861602]\t[12.25814589 59.93120231]\t[-2.99012017  0.08237276]  \t[ 33.41980529 303.64888233]\n",
      "37 \t100   \t[14.13507532 16.49594511]\t[11.81780966 60.00066268]\t[-2.99012017  0.08107468]  \t[ 34.00291955 303.64888233]\n",
      "38 \t100   \t[12.00281052 17.23580067]\t[12.66791296 59.86682549]\t[-2.99012017  0.08107468]  \t[ 34.00291955 303.64888233]\n",
      "39 \t100   \t[12.07861414 17.10493755]\t[12.18198213 59.89862517]\t[-2.99012017  0.08107468]  \t[ 34.00291955 303.64888233]\n",
      "40 \t100   \t[13.68716245 17.08608658]\t[12.9805327  59.89053202]\t[-2.99012017  0.08107468]  \t[ 34.00291955 303.64888233]\n",
      "41 \t100   \t[13.10158102 17.00218408]\t[13.02101874 59.90939459]\t[-2.99012017  0.08089069]  \t[ 34.08708844 303.64888233]\n",
      "42 \t100   \t[14.52577547 16.95544586]\t[13.00054571 59.91489164]\t[-2.99012017  0.08089069]  \t[ 34.08708844 303.64888233]\n",
      "43 \t100   \t[12.05763067 17.33750774]\t[12.30237591 59.85488692]\t[-2.99012017  0.08089069]  \t[ 34.08708844 303.64888233]\n",
      "44 \t100   \t[12.50742341 17.37983396]\t[12.97732756 59.84394179]\t[-2.99012017  0.08089069]  \t[ 34.08708844 303.64888233]\n",
      "45 \t100   \t[13.15394273 17.14966412]\t[12.52160945 59.89157703]\t[-2.99012017  0.08052211]  \t[ 34.25684758 303.64888233]\n",
      "46 \t100   \t[14.49188065 16.93236156]\t[12.04230017 59.94107776]\t[-2.99012017  0.08052211]  \t[ 34.25684758 303.64888233]\n",
      "47 \t100   \t[12.68842933 17.26157535]\t[12.19107102 59.89394787]\t[-2.99012017  0.08052211]  \t[ 34.25684758 303.64888233]\n",
      "48 \t100   \t[12.59435853 17.2106518 ]\t[12.65486209 59.90271059]\t[-2.99012017  0.08052211]  \t[ 34.25684758 303.64888233]\n",
      "49 \t100   \t[13.94782211 17.24339281]\t[13.31160168 59.89736627]\t[-2.99012017  0.08052211]  \t[ 34.25684758 303.64888233]\n",
      "50 \t100   \t[14.04149701 17.16355798]\t[12.74983767 59.91043094]\t[-2.99012017  0.07991698]  \t[ 34.5389546  303.64888233]\n"
     ]
    }
   ],
   "source": [
    "from deap import base, creator, tools, algorithms\n",
    "import random\n",
    "import numpy as np\n",
    "import matplotlib.pyplot as plt\n",
    "\n",
    "# Definimos los pesos de los objetivos. (1.0,) significa maximización.\n",
    "creator.create(\"FitnessMax\", base.Fitness, weights=(1.0, 1.0))\n",
    "creator.create(\"Individual\", list, fitness=creator.FitnessMax)\n",
    "\n",
    "# Creamos una caja de herramientas para la configuración de la evolución\n",
    "toolbox = base.Toolbox()\n",
    "\n",
    "# Registro de funciones de atributo, individuo y población\n",
    "toolbox.register(\"attr_float\", random.uniform, -10, 10)  # cada atributo es un float en el rango [-10, 10]\n",
    "toolbox.register(\"individual\", tools.initRepeat, creator.Individual, toolbox.attr_float, n=3)\n",
    "toolbox.register(\"population\", tools.initRepeat, list, toolbox.individual)\n",
    "\n",
    "# Registro de funciones de evolución\n",
    "toolbox.register(\"mate\", tools.cxTwoPoint)\n",
    "toolbox.register(\"mutate\", tools.mutGaussian, mu=0, sigma=1, indpb=0.1)\n",
    "toolbox.register(\"select\", tools.selNSGA2)\n",
    "\n",
    "# Definimos las funciones objetivo\n",
    "def objective1(individual):\n",
    "    return sum(x for x in individual) # maximizar la suma de los elementos\n",
    "\n",
    "def objective2(individual):\n",
    "    return len(individual) / sum((x+1) for x in individual)  # maximizar la inversa de la suma de los elementos incrementados\n",
    "\n",
    "# Y las restricciones\n",
    "def constraint(individual):\n",
    "    # La suma de los valores del individuo debe ser menor o igual a 2\n",
    "    if sum(individual) <= 2:\n",
    "        return True,\n",
    "    return False,\n",
    "\n",
    "toolbox.register(\"evaluate\", lambda ind: (objective1(ind), objective2(ind)))\n",
    "toolbox.decorate(\"evaluate\", tools.DeltaPenality(constraint, 100))  # imponemos una penalidad si la restricción no se cumple\n",
    "\n",
    "\n",
    "random.seed(64)\n",
    "\n",
    "NGEN = 50\n",
    "MU = 50\n",
    "LAMBDA = 100\n",
    "CXPB = 0.7\n",
    "MUTPB = 0.3\n",
    "\n",
    "#################\n",
    "\n",
    "logbook = tools.Logbook()\n",
    "\n",
    "# En tu bucle evolutivo, guardarías las soluciones generadas en cada generación:\n",
    "for gen in range(NGEN):\n",
    "    offspring = algorithms.varAnd(pop, toolbox, CXPB, MUTPB)\n",
    "    fits = toolbox.map(toolbox.evaluate, offspring)\n",
    "    for fit, ind in zip(fits, offspring):\n",
    "        ind.fitness.values = fit\n",
    "    pop = toolbox.select(offspring, k=MU)\n",
    "    logbook.record(gen=gen, pop=pop)  # Guardar la población de esta generación en el Logbook\n",
    "\n",
    "# # Al final de la evolución, tendrías todas las soluciones generadas:\n",
    "# all_solutions = np.array([ind.fitness.values for gen in logbook for ind in gen['pop']])\n",
    "\n",
    "\n",
    "###############\n",
    "pop = toolbox.population(n=MU)\n",
    "hof = tools.ParetoFront()\n",
    "stats = tools.Statistics(lambda ind: ind.fitness.values)\n",
    "stats.register(\"avg\", np.mean, axis=0)\n",
    "stats.register(\"std\", np.std, axis=0)\n",
    "stats.register(\"min\", np.min, axis=0)\n",
    "stats.register(\"max\", np.max, axis=0)\n",
    "\n",
    "pop, logbook = algorithms.eaMuPlusLambda(pop, toolbox, MU, LAMBDA, CXPB, MUTPB, NGEN, stats,\n",
    "                                             halloffame=hof)\n",
    "\n"
   ]
  },
  {
   "cell_type": "code",
   "execution_count": 8,
   "id": "ac721d3b",
   "metadata": {},
   "outputs": [
    {
     "data": {
      "image/png": "[encoded data removed]",
      "text/plain": [
       "<Figure size 432x288 with 1 Axes>"
      ]
     },
     "metadata": {
      "needs_background": "light"
     },
     "output_type": "display_data"
    }
   ],
   "source": [
    "# Graficar el frente de Pareto\n",
    "front = np.array([ind.fitness.values for ind in hof])\n",
    "plt.scatter(front[:,0], front[:,1], c=\"b\")\n",
    "plt.axis(\"tight\")\n",
    "plt.xlabel('Objective function 1')\n",
    "plt.ylabel('Objective function 2')\n",
    "plt.title('Pareto front')\n",
    "plt.grid(True)\n",
    "plt.show()"
   ]
  },
  {
   "cell_type": "code",
   "execution_count": 9,
   "id": "0f837f56",
   "metadata": {},
   "outputs": [
    {
     "data": {
      "image/png": "[encoded data removed]",
      "text/plain": [
       "<Figure size 432x288 with 1 Axes>"
      ]
     },
     "metadata": {
      "needs_background": "light"
     },
     "output_type": "display_data"
    }
   ],
   "source": [
    "# Extraer todas las soluciones generadas\n",
    "all_solutions = np.array([ind.fitness.values for ind in pop])\n",
    "\n",
    "# Extraer las soluciones no dominantes (frente de Pareto)\n",
    "non_dominated_solutions = np.array([ind.fitness.values for ind in hof])\n",
    "\n",
    "# Extraer las soluciones dominantes\n",
    "dominated_solutions = np.array([sol for sol in all_solutions if sol.tolist() not in non_dominated_solutions.tolist()])\n",
    "\n",
    "# Graficar el frente de Pareto y las soluciones dominantes\n",
    "plt.scatter(non_dominated_solutions[:,0], non_dominated_solutions[:,1], c=\"b\", label='No Dominadas')\n",
    "if dominated_solutions.size != 0:  # Solo graficar si hay soluciones dominadas\n",
    "    plt.scatter(dominated_solutions[:,0], dominated_solutions[:,1], c=\"r\", label='Dominadas')\n",
    "plt.axis(\"tight\")\n",
    "plt.xlabel('Objective function 1')\n",
    "plt.ylabel('Objective function 2')\n",
    "plt.title('Pareto front')\n",
    "plt.grid(True)\n",
    "plt.legend()\n",
    "plt.show()\n"
   ]
  },
  {
   "cell_type": "code",
   "execution_count": 10,
   "id": "228046e1",
   "metadata": {},
   "outputs": [
    {
     "name": "stdout",
     "output_type": "stream",
     "text": [
      "gen\tnevals\tavg                      \tstd                      \tmin                        \tmax                      \n",
      "0  \t50    \t[-0.37965387 -0.28566163]\t[11.97985537  1.20245745]\t[-26.50831436  -6.69595595]\t[21.46842212  1.31294196]\n",
      "1  \t50    \t[-0.33407393  0.25769989]\t[12.67147837  2.64899696]\t[-26.50831436  -6.69595595]\t[21.46842212 16.91510782]\n",
      "2  \t50    \t[-0.34948588 -0.69746623]\t[12.83807317  4.52817585]\t[-23.45912389 -29.15347976]\t[23.72986514 10.44782777]\n",
      "3  \t50    \t[-0.38566468 -0.23137465]\t[12.73128025  1.20476415]\t[-21.78591812  -7.71965825]\t[26.99843547  0.66518155]\n",
      "4  \t50    \t[-0.27391837 -0.54755125]\t[13.38543538  2.21275617]\t[-24.40026285 -10.4089731 ]\t[26.99843547  1.33040613]\n",
      "5  \t50    \t[-0.24206171  1.07474774]\t[13.72029371  8.13036622]\t[-20.94788742  -2.99407655]\t[26.95860594 57.76566477]\n",
      "6  \t50    \t[-0.31561253 -0.02682066]\t[13.92564843  0.70188662]\t[-24.76600796  -2.90868776]\t[28.17168747  1.64472536]\n",
      "7  \t50    \t[-0.28873096 -0.03762174]\t[14.10934769  0.69502375]\t[-24.27944065  -4.00228404]\t[28.17168747  0.90786789]\n",
      "8  \t50    \t[-0.33256241 -0.29163794]\t[14.38133798  2.27507181]\t[-24.76600796 -11.40664156]\t[24.96206614  4.04937966]\n",
      "9  \t50    \t[-0.31568092 -0.51042172]\t[14.53664208  3.20599543]\t[-24.3044395  -19.25028287]\t[28.17168747  4.04937966]\n",
      "10 \t50    \t[-0.26337737 -0.12878832]\t[14.84017668  1.75167553]\t[-29.05413114 -11.40664156]\t[26.95860594  3.59266913]\n",
      "11 \t50    \t[-0.23716702 -0.1549417 ]\t[14.7268116   1.60063495]\t[-28.09496747 -10.45742883]\t[26.99843547  3.59266913]\n",
      "12 \t50    \t[-0.18131162 -0.61374763]\t[14.6160829  4.7085936]  \t[-23.32744502 -33.37923819]\t[23.72986514  2.43892677]\n",
      "13 \t50    \t[-0.17565014  0.16311967]\t[14.91848815 10.0444658 ]\t[-23.32744502 -33.37923819]\t[23.69003562 57.76566477]\n",
      "14 \t50    \t[-0.24176257  0.16111853]\t[15.08811189  0.82376796]\t[-26.84817443  -1.06463458]\t[26.90194438  5.34138218]\n",
      "15 \t50    \t[-0.24033475  0.1519754 ]\t[15.0353609   0.81546095]\t[-26.84817443  -1.06463458]\t[26.99843547  5.34138218]\n",
      "16 \t50    \t[-0.20867369  0.11400347]\t[15.11679709  0.60588879]\t[-26.84817443  -1.06463458]\t[24.17568803  3.35287006]\n",
      "17 \t50    \t[-0.26186656  0.15842595]\t[15.19169717  0.68404027]\t[-25.60776779  -1.06008519]\t[23.69003562  3.30970628]\n",
      "18 \t50    \t[-0.25550447  0.22284491]\t[15.64828955  0.69404246]\t[-25.87860058  -1.06008519]\t[28.17168747  2.51700666]\n",
      "19 \t50    \t[-0.3005432   0.57321255]\t[15.5543467  2.9350604]  \t[-25.76425447  -0.72435096]\t[28.17168747 20.77204222]\n",
      "20 \t50    \t[-0.35243239  2.87951878]\t[15.25140808 13.5459183 ]\t[-26.10341715  -0.29858895]\t[26.99843547 73.70877999]\n",
      "21 \t50    \t[-0.42134556  2.87181537]\t[15.3891149  13.54715085]\t[-25.96772724  -0.41664178]\t[26.99843547 73.70877999]\n",
      "22 \t50    \t[-0.26764437  1.77045886]\t[15.38128721 10.34242885]\t[-26.20499479  -0.43647109]\t[29.21551984 73.70877999]\n",
      "23 \t50    \t[-0.23085895  1.77985414]\t[15.47537128 10.35174543]\t[-25.5963152   -2.22631218]\t[29.21551984 73.70877999]\n",
      "24 \t50    \t[-0.27680779  0.12367563]\t[15.26470693  0.36638993]\t[-24.92872435  -0.71399431]\t[23.72986514  1.33040613]\n",
      "25 \t50    \t[-0.27969841  0.64705922]\t[15.29008079  3.09707741]\t[-28.98700364  -0.71399431]\t[23.72986514 20.77204222]\n",
      "26 \t50    \t[-0.30628618  1.80448059]\t[15.28246557  9.41075479]\t[-23.70842077  -0.71399431]\t[24.52850571 64.42610004]\n",
      "27 \t50    \t[-0.32641364  0.26205178]\t[15.53361037  1.16091129]\t[-27.5646993   -0.81496499]\t[23.69003562  8.01410145]\n",
      "28 \t50    \t[-0.32641364  0.33126333]\t[15.13788298  1.31200072]\t[-24.46028524  -1.34615761]\t[23.69003562  8.01410145]\n",
      "29 \t50    \t[-0.35255593  0.29280917]\t[15.38094495  1.16902911]\t[-23.7244834   -0.42151425]\t[24.17568803  8.01410145]\n",
      "30 \t50    \t[-0.41727294  0.31312746]\t[15.1048025   1.60120925]\t[-23.47618065  -0.7582683 ]\t[24.17568803 11.19471747]\n",
      "31 \t50    \t[-0.35172703  0.06020235]\t[15.10483365  0.76300199]\t[-25.04124388  -3.73238729]\t[26.81538971  2.77606508]\n",
      "32 \t50    \t[-0.30503501  0.03979947]\t[15.28827705  0.34884055]\t[-28.4499636   -0.87829223]\t[24.89293782  1.03965321]\n",
      "33 \t50    \t[-0.35404128  0.17777933]\t[15.32529239  1.18542421]\t[-26.34446147  -4.08075548]\t[24.17568803  4.92128458]\n",
      "34 \t50    \t[-0.36370007 -0.04556242]\t[15.38001775  0.70545623]\t[-26.34446147  -4.08075548]\t[26.12618806  0.76489502]\n",
      "35 \t50    \t[-0.29035355 -0.0080598 ]\t[15.58353817  1.01993937]\t[-26.34446147  -4.08075548]\t[24.39332253  4.59237531]\n",
      "36 \t50    \t[-0.29444363  0.2341264 ]\t[15.41827914  0.90020828]\t[-25.69572578  -0.66714124]\t[29.21551984  5.87855837]\n",
      "37 \t50    \t[-0.31159329  0.27305852]\t[15.63021495  0.92275117]\t[-26.66313737  -0.66540328]\t[29.21551984  5.87855837]\n",
      "38 \t50    \t[-0.2636841   0.25662981]\t[15.60584707  0.92287388]\t[-30.97003153  -0.66540328]\t[26.51076765  5.87855837]\n",
      "39 \t50    \t[-0.26541384 -0.06567146]\t[15.50254207  0.91075089]\t[-25.69237416  -4.09642699]\t[29.21551984  1.18783384]\n",
      "40 \t50    \t[-0.24375794  0.00654204]\t[15.70431679  0.69348363]\t[-27.32605957  -4.09642699]\t[29.21551984  1.18783384]\n",
      "41 \t50    \t[-0.23336434  0.09160917]\t[15.60926265  0.41018107]\t[-26.16966713  -1.13925069]\t[29.21551984  1.29672109]\n",
      "42 \t50    \t[-0.23654404  0.07329773]\t[15.47651826  0.37286777]\t[-27.25212476  -1.13925069]\t[26.12618806  1.26959696]\n",
      "43 \t50    \t[-0.16115097  0.03840101]\t[15.57831358  0.37695551]\t[-28.53469866  -1.39021396]\t[24.16390665  0.76489502]\n",
      "44 \t50    \t[-0.18458507  0.17059879]\t[15.51849033  0.70832678]\t[-26.40947675  -0.91446073]\t[24.39332253  4.59237531]\n",
      "45 \t50    \t[-0.21782539  0.11630878]\t[15.59820937  0.4238098 ]\t[-27.24437528  -1.17052695]\t[29.21551984  1.77537275]\n",
      "46 \t50    \t[-0.28673604  0.24194819]\t[15.68604907  1.54027563]\t[-27.24437528  -3.9785351 ]\t[23.80165732  9.8847696 ]\n",
      "47 \t50    \t[-0.25638886  0.11012227]\t[15.61443346  0.42807431]\t[-26.06433909  -1.17052695]\t[24.39332253  1.42018618]\n",
      "48 \t50    \t[-0.20643176  0.08921178]\t[15.66229632  0.5110958 ]\t[-25.52425494  -1.94719548]\t[25.89986664  1.77537275]\n",
      "49 \t50    \t[-0.25125592 -0.30639812]\t[15.77381608  2.08613712]\t[-26.92787929 -12.34941176]\t[23.80165732  1.42018618]\n"
     ]
    },
    {
     "data": {
      "image/png": "[encoded data removed]",
      "text/plain": [
       "<Figure size 432x288 with 1 Axes>"
      ]
     },
     "metadata": {
      "needs_background": "light"
     },
     "output_type": "display_data"
    }
   ],
   "source": [
    "def main():\n",
    "    random.seed(64)\n",
    "\n",
    "    NGEN = 50\n",
    "    MU = 50\n",
    "    LAMBDA = 100\n",
    "    CXPB = 0.7\n",
    "    MUTPB = 0.3\n",
    "\n",
    "    pop = toolbox.population(n=MU)\n",
    "    hof = tools.ParetoFront()\n",
    "    stats = tools.Statistics(lambda ind: ind.fitness.values)\n",
    "    stats.register(\"avg\", np.mean, axis=0)\n",
    "    stats.register(\"std\", np.std, axis=0)\n",
    "    stats.register(\"min\", np.min, axis=0)\n",
    "    stats.register(\"max\", np.max, axis=0)\n",
    "\n",
    "    logbook = tools.Logbook()\n",
    "    logbook.header = ['gen', 'nevals'] + (stats.fields if stats else [])\n",
    "\n",
    "    # Bucle evolutivo\n",
    "    for gen in range(NGEN):\n",
    "        offspring = algorithms.varAnd(pop, toolbox, CXPB, MUTPB)\n",
    "        fits = toolbox.map(toolbox.evaluate, offspring)\n",
    "        for fit, ind in zip(fits, offspring):\n",
    "            ind.fitness.values = fit\n",
    "        pop = toolbox.select(offspring, k=MU)\n",
    "        hof.update(pop)\n",
    "        record = stats.compile(pop) if stats else {}\n",
    "        logbook.record(gen=gen, nevals=len(offspring), pop=pop, **record)  # Guardar la población completa\n",
    "        print(logbook.stream)\n",
    "\n",
    "    # Extraer todas las soluciones generadas\n",
    "    all_solutions = np.array([ind.fitness.values for gen in logbook for ind in gen['pop']])\n",
    "\n",
    "    # Extraer las soluciones no dominantes (frente de Pareto)\n",
    "    non_dominated_solutions = np.array([ind.fitness.values for ind in hof])\n",
    "\n",
    "    # Extraer las soluciones dominantes\n",
    "    dominated_solutions = np.array([sol for sol in all_solutions if sol.tolist() not in non_dominated_solutions.tolist()])\n",
    "\n",
    "    # Graficar el frente de Pareto y las soluciones dominantes\n",
    "    plt.scatter(non_dominated_solutions[:,0], non_dominated_solutions[:,1], c=\"b\", label='No Dominadas')\n",
    "    if dominated_solutions.size != 0:  # Solo graficar si hay soluciones dominadas\n",
    "        plt.scatter(dominated_solutions[:,0], dominated_solutions[:,1], c=\"r\", label='Dominadas')\n",
    "    plt.axis(\"tight\")\n",
    "    plt.xlabel('Objective function 1')\n",
    "    plt.ylabel('Objective function 2')\n",
    "    plt.title('Pareto front')\n",
    "    plt.grid(True)\n",
    "    plt.legend()\n",
    "    plt.show()\n",
    "\n",
    "    return pop, logbook, hof\n",
    "\n",
    "if __name__ == \"__main__\":\n",
    "    main()\n"
   ]
  },
  {
   "cell_type": "markdown",
   "id": "d343e198",
   "metadata": {},
   "source": [
    "### Ejercicio: Definir otras dos funciones objetivo y graficar su frente de Pareto."
   ]
  },
  {
   "cell_type": "markdown",
   "id": "23ce70e6",
   "metadata": {},
   "source": [
    "## Ejemplo de https://github.com/Dany503/Algoritmos-Geneticos-en-Python-Un-Enfoque-Practico/tree/master/Cap4\n",
    "\n",
    "### Problema de la suma de subconjuntos con múltiples objetivos\n",
    "\n",
    "#### Descripción del problema:\n",
    "Dado un conjunto de números enteros S y el entero c, el objetivo es encontrar el mínimo subconjunto de S, tal que la suma sea lo más cercana a c, sin excederse. Es decir:\n",
    "\n",
    "$min\\; c- \\sum_{i=0}^{N-1}s_ix_i, \\sum_{i=0}^{N-1}x_i $\n",
    "\n",
    "sujeto a:\n",
    "\n",
    "$\\sum_{i=0}^{N-1}x_i \\leq N$\n",
    "y\n",
    "$\\sum_{i=0}^{N-1}s_ix_i \\leq c$,\n",
    "\n",
    "\n",
    "donde $s_i$ y $x_i$ son cada uno de los números del conunto S, así como una variable binaria que indica con 1 ($x_i=1$)si $s_i$ se incluye en el subconjunto y con cero en caso contrario ($x_i=0$).\n",
    "\n",
    "Si se quisieran evaluar todas las combinaciones, se tendrían $2^n$, siendo $n$ el número de elementos en el conjunto original.\n",
    "\n",
    "Los dos objetivos a satisfacer son:\n",
    "\n",
    "1. *Número de elementos*: Minimizar el número de elementos que componen el subconjunto, de tal forma que los subconjuntos con menos elementos sean mejores.\n",
    "2. *Diferencia*: Minimizar la diferencia con respecto al valor de c. Mientras menor la diferencia, mejor la solución. Si la suma sobrepasa c, se penalizará.\n",
    "\n",
    "Se usará codificación binaria."
   ]
  },
  {
   "cell_type": "code",
   "execution_count": 11,
   "id": "a66a8e2e",
   "metadata": {},
   "outputs": [
    {
     "data": {
      "text/plain": [
       "array([20,  3,  0, 23,  8,  7, 24,  4, 28, 17,  2, 18, 13,  1, 27, 16, 21,\n",
       "       29, 25,  9, 15, 11, 12,  5,  6, 22, 26, 10, 14, 19])"
      ]
     },
     "execution_count": 11,
     "metadata": {},
     "output_type": "execute_result"
    }
   ],
   "source": [
    "import random\n",
    "import numpy as np\n",
    "import matplotlib.pyplot as plt    \n",
    "from deap import base\n",
    "from deap import creator\n",
    "from deap import tools\n",
    "from deap import algorithms\n",
    "\n",
    "random.seed(42) \n",
    "\n",
    "# Límites de los valores del conjunto\n",
    "LIMITE_INF, LIMITE_SUP = 0, 30\n",
    "# Número de elementos del conjunto \n",
    "TAM_CONJUNTO = 30 \n",
    "SUMA_OBJETIVO = 333\n",
    "CONJUNTO = np.array(random.sample(range(LIMITE_INF, LIMITE_SUP), \n",
    "                                  TAM_CONJUNTO))\n",
    "\n",
    "# Creamos los objetos para definir el problema y el tipo de individuo, \n",
    "# -1.0 significa que hay dos objetivos por minimizar\n",
    "creator.create(\"FitnessMulti\", base.Fitness, weights=(-1.0, -1.0)) \n",
    "creator.create(\"Individual\", list, fitness=creator.FitnessMulti)\n",
    "\n",
    "toolbox = base.Toolbox()\n",
    "\n",
    "# Generación de individuos aleatorios\n",
    "def crea_individuo(size):\n",
    "    return [random.randint(0, 1) for i in range(size)]\n",
    "\n",
    "# Generación de individuos y población inicial    \n",
    "toolbox.register(\"attr\", crea_individuo, TAM_CONJUNTO)\n",
    "toolbox.register(\"individual\", tools.initIterate, creator.Individual, \n",
    "                 toolbox.attr)\n",
    "toolbox.register(\"population\", tools.initRepeat, list, \n",
    "                 toolbox.individual)\n",
    "CONJUNTO"
   ]
  },
  {
   "cell_type": "code",
   "execution_count": 12,
   "id": "8f633daf",
   "metadata": {},
   "outputs": [],
   "source": [
    "# Función objetivo\n",
    "def funcion_objetivo(individuo, suma_objetivo):\n",
    "    \"\"\"\n",
    "    Función objetivo para el problema de la suma de subconjutos\n",
    "    Entrada: Recibe como entrada el individuo y la suma objetivo \n",
    "    que se tiene que satisfacer con la suma de los elementos del subconjuto.\n",
    "    Salida: Como objetivo 1 se devuelve el número de elementos del\n",
    "    subconjunto. Como objetivo 2 se devuelve la diferencia con respecto\n",
    "    a la suma objetivo.\n",
    "    \"\"\"\n",
    "    subconjunto = CONJUNTO[np.array(individuo) == 1]\n",
    "    suma_subconjunto = np.sum(subconjunto)\n",
    "    diferencia = suma_objetivo - suma_subconjunto\n",
    "    n_elementos = sum(individuo)\n",
    "    if diferencia < 0: # nos pasamos\n",
    "        return 10000, 10000 # pena de muerte    \n",
    "    if n_elementos == 0: # no se selecciona ninguna elemento\n",
    "        return 10000, 10000\n",
    "    return n_elementos, diferencia\n",
    "\n",
    "# Registro de operadores genéticos y función objetivo\n",
    "toolbox.register(\"mate\", tools.cxTwoPoint) \n",
    "toolbox.register(\"mutate\", tools.mutFlipBit, indpb=0.05) \n",
    "toolbox.register(\"select\", tools.selNSGA2) \n",
    "toolbox.register(\"evaluate\", funcion_objetivo, suma_objetivo=SUMA_OBJETIVO) \n"
   ]
  },
  {
   "cell_type": "code",
   "execution_count": 13,
   "id": "6f90f053",
   "metadata": {},
   "outputs": [],
   "source": [
    "def plot_frente():\n",
    "    \"\"\"\n",
    "    Representación del frente de Pareto que hemos obtenido\n",
    "    \"\"\"\n",
    "    datos_pareto = np.loadtxt(\"fitnessconjuntos.txt\", delimiter=\",\")    \n",
    "    plt.scatter(datos_pareto[:, 0], datos_pareto[:, 1], marker=\"+\", \n",
    "                color=\"b\", s=50)    \n",
    "    plt.xlabel(\"Elementos\")\n",
    "    plt.ylabel(\"Diferencias\")\n",
    "    plt.grid(True)\n",
    "    plt.xlim([0, 17])\n",
    "    plt.ylim([-20, 300])\n",
    "    plt.legend([\"Frente de Pareto\"], loc=\"upper right\")\n",
    "#     plt.savefig(\"Pareto_conjunto.eps\", dpi = 300)"
   ]
  },
  {
   "cell_type": "code",
   "execution_count": 14,
   "id": "8f8f1b93",
   "metadata": {},
   "outputs": [],
   "source": [
    "def main():\n",
    "    CXPB, MUTPB, NGEN = 0.7, 0.3, 200\n",
    "    MU, LAMBDA = 300, 300\n",
    "    pop = toolbox.population(MU)\n",
    "    stats = tools.Statistics(lambda ind: ind.fitness.values)\n",
    "    stats.register(\"avg\", np.mean)\n",
    "    stats.register(\"std\", np.std)\n",
    "    stats.register(\"min\", np.min)\n",
    "    stats.register(\"max\", np.max)\n",
    "    logbook = tools.Logbook()  \n",
    "    pareto = tools.ParetoFront() \n",
    "    pop, logbook = algorithms.eaMuPlusLambda(pop , toolbox , mu=MU, \n",
    "                                             lambda_=LAMBDA, cxpb=CXPB,  \n",
    "                                             mutpb=MUTPB, ngen=NGEN, \n",
    "                                             stats=stats, halloffame=pareto, \n",
    "                                             verbose=False)\n",
    "    return pop, logbook, pareto\n"
   ]
  },
  {
   "cell_type": "code",
   "execution_count": 15,
   "id": "b983f455",
   "metadata": {},
   "outputs": [
    {
     "data": {
      "image/png": "[encoded data removed]",
      "text/plain": [
       "<Figure size 432x288 with 1 Axes>"
      ]
     },
     "metadata": {
      "needs_background": "light"
     },
     "output_type": "display_data"
    }
   ],
   "source": [
    "if __name__ == \"__main__\":    \n",
    "    pop, log, pareto = main()\n",
    "    res_individuos = open(\"individuosconjuntos.txt\", \"w\")\n",
    "    res_fitness = open(\"fitnessconjuntos.txt\", \"w\")\n",
    "    for ind in pareto:\n",
    "        res_individuos.write(str(ind))\n",
    "        res_individuos.write(\"\\n\")\n",
    "        res_fitness.write(str(ind.fitness.values[0]))\n",
    "        res_fitness.write(\",\")\n",
    "        res_fitness.write(str(ind.fitness.values[1]))\n",
    "        res_fitness.write(\"\\n\")\n",
    "    res_fitness.close()\n",
    "    res_individuos.close()\n",
    "plot_frente()"
   ]
  },
  {
   "cell_type": "markdown",
   "id": "7c53ec34",
   "metadata": {},
   "source": [
    "## Ejercicio: Modificar parámetros y graficar diferentes frentes de Pareto. Anotar observaciones.\n",
    "\n",
    "\n",
    "## Practica: Cambiar las dos funciones objetivo. "
   ]
  },
  {
   "cell_type": "code",
   "execution_count": null,
   "id": "647c9a64",
   "metadata": {},
   "outputs": [],
   "source": []
  }
 ],
 "metadata": {
  "kernelspec": {
   "display_name": "Python 3 (ipykernel)",
   "language": "python",
   "name": "python3"
  },
  "language_info": {
   "codemirror_mode": {
    "name": "ipython",
    "version": 3
   },
   "file_extension": ".py",
   "mimetype": "text/x-python",
   "name": "python",
   "nbconvert_exporter": "python",
   "pygments_lexer": "ipython3",
   "version": "3.10.6"
  }
 },
 "nbformat": 4,
 "nbformat_minor": 5
}
