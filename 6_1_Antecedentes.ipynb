{
 "cells": [
  {
   "cell_type": "markdown",
   "id": "331abe7f",
   "metadata": {},
   "source": [
    "# Introducción al cómputo evolutivo\n",
    "\n",
    "1.1 Antecedentes biológicos\n",
    "\n",
    "1.2 Antecedentes históricos\n",
    "\n",
    "1.3 Otros algoritmos bioinspirados\n",
    "\n",
    "## Antecedentes biológicos\n",
    "\n",
    "\n",
    "\n",
    "![](https://cdn.kastatic.org/ka-perseus-images/e39144e9fa7c35f0cea3f99544ce349d6067d4f5.png)\n",
    "Fuente: Khan academy.\n",
    "\n",
    "![](https://cdn.kastatic.org/ka-perseus-images/01f4d8d205ba3fc9ba8ae6e52b826fbfb426a65a.png)\n",
    "Fuente: Khan academy.\n",
    "\n",
    "![](https://cdn.kastatic.org/ka-perseus-images/4e357288b6a67d51562c65a66ef77ef82d2667b1.png)\n",
    "Fuente: Khan academy.\n",
    "\n",
    "![](https://cdn.kastatic.org/ka-perseus-images/8f33aa4bd39c5c435af5e5dc4001d73721a25f85.png)\n",
    "Fuente: Khan academy.\n",
    "\n",
    "### Ejercicio: Generar una población aleatoria, generar cruzas y mutaciones a lo largo de varias generaciones.\n",
    "\n",
    "- Genera una población 2D mediante un arreglo aleatorio de numpy.\n",
    "- Define un operador de cruza.\n",
    "- Define un operador de mutación.\n",
    "- Define un criterio para determinar si un individuo es apto o no.\n",
    "- Evoluciona la población inicial."
   ]
  },
  {
   "cell_type": "code",
   "execution_count": 2,
   "id": "867f2b5b",
   "metadata": {},
   "outputs": [],
   "source": [
    "import numpy as np\n",
    "import matplotlib.pyplot as plt"
   ]
  },
  {
   "cell_type": "code",
   "execution_count": 15,
   "id": "fca2e324",
   "metadata": {},
   "outputs": [
    {
     "data": {
      "text/plain": [
       "(100, 2)"
      ]
     },
     "execution_count": 15,
     "metadata": {},
     "output_type": "execute_result"
    }
   ],
   "source": [
    "poblacion_init = np.random.randint(-10, 10, size=(100, 2))\n",
    "np.shape(poblacion_init)"
   ]
  },
  {
   "cell_type": "code",
   "execution_count": 16,
   "id": "e527300b",
   "metadata": {},
   "outputs": [
    {
     "data": {
      "text/plain": [
       "<matplotlib.collections.PathCollection at 0x7f2848de55d0>"
      ]
     },
     "execution_count": 16,
     "metadata": {},
     "output_type": "execute_result"
    },
    {
     "data": {
      "image/png": "[encoded data removed]",
      "text/plain": [
       "<Figure size 360x360 with 1 Axes>"
      ]
     },
     "metadata": {
      "needs_background": "light"
     },
     "output_type": "display_data"
    }
   ],
   "source": [
    "fig = plt.figure(figsize=(5,5))\n",
    "plt.scatter(poblacion_init[:,0], poblacion_init[:,1])"
   ]
  },
  {
   "cell_type": "code",
   "execution_count": null,
   "id": "10ac1747",
   "metadata": {},
   "outputs": [],
   "source": []
  }
 ],
 "metadata": {
  "kernelspec": {
   "display_name": "Python 3 (ipykernel)",
   "language": "python",
   "name": "python3"
  },
  "language_info": {
   "codemirror_mode": {
    "name": "ipython",
    "version": 3
   },
   "file_extension": ".py",
   "mimetype": "text/x-python",
   "name": "python",
   "nbconvert_exporter": "python",
   "pygments_lexer": "ipython3",
   "version": "3.10.6"
  }
 },
 "nbformat": 4,
 "nbformat_minor": 5
}
