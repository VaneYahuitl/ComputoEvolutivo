{
 "cells": [
  {
   "cell_type": "markdown",
   "id": "459a6fec",
   "metadata": {},
   "source": [
    "# Optimización de funciones\n",
    "\n",
    "## ¿Qué es la optimización?\n",
    "\n",
    "![](https://upload.wikimedia.org/wikipedia/commons/thumb/7/72/Max_paraboloid.svg/1200px-Max_paraboloid.svg.png)\n",
    "Fuente: wikipedia\n",
    "\n",
    "![](http://www.disfrutalasmatematicas.com/calculo/images/function-max.svg)\n"
   ]
  },
  {
   "cell_type": "code",
   "execution_count": 4,
   "id": "4b53fa48",
   "metadata": {},
   "outputs": [],
   "source": [
    "# optimize convex objective function\n",
    "from numpy import arange\n",
    "from scipy.optimize import minimize_scalar\n",
    "from matplotlib import pyplot"
   ]
  },
  {
   "cell_type": "code",
   "execution_count": 5,
   "id": "d1d16ad2",
   "metadata": {},
   "outputs": [],
   "source": [
    "# objective function\n",
    "def objective(x):\n",
    "    return (5.0 + x)**2.0"
   ]
  },
  {
   "cell_type": "code",
   "execution_count": 6,
   "id": "d70f2304",
   "metadata": {},
   "outputs": [
    {
     "name": "stdout",
     "output_type": "stream",
     "text": [
      "Optimal Input x: -5.000000\n",
      "Optimal Output f(x): 0.000000\n",
      "Total Evaluations n: 9\n"
     ]
    },
    {
     "data": {
      "image/png": "[encoded data removed]",
      "text/plain": [
       "<Figure size 432x288 with 1 Axes>"
      ]
     },
     "metadata": {
      "needs_background": "light"
     },
     "output_type": "display_data"
    }
   ],
   "source": [
    "# minimize the function\n",
    "result = minimize_scalar(objective, method='brent')\n",
    "# summarize the result\n",
    "opt_x, opt_y = result['x'], result['fun']\n",
    "print('Optimal Input x: %.6f' % opt_x)\n",
    "print('Optimal Output f(x): %.6f' % opt_y)\n",
    "print('Total Evaluations n: %d' % result['nfev'])\n",
    "# define the range\n",
    "r_min, r_max = -10.0, 10.0\n",
    "# prepare inputs\n",
    "inputs = arange(r_min, r_max, 0.1)\n",
    "# compute targets\n",
    "targets = [objective(x) for x in inputs]\n",
    "# plot inputs vs target\n",
    "pyplot.plot(inputs, targets, '--')\n",
    "# plot the optima\n",
    "pyplot.plot([opt_x], [opt_y], 's', color='r')\n",
    "# show the plot\n",
    "pyplot.show()"
   ]
  },
  {
   "cell_type": "code",
   "execution_count": 7,
   "id": "6f86c6e7",
   "metadata": {},
   "outputs": [],
   "source": [
    "# objective function\n",
    "def objective(x):\n",
    "    return (x - 2.0) * x * (x + 2.0)**2.0"
   ]
  },
  {
   "cell_type": "code",
   "execution_count": 8,
   "id": "8c064d38",
   "metadata": {},
   "outputs": [
    {
     "name": "stdout",
     "output_type": "stream",
     "text": [
      "Optimal Input x: 1.280776\n",
      "Optimal Output f(x): -9.914950\n",
      "Total Evaluations n: 14\n"
     ]
    },
    {
     "data": {
      "image/png": "[encoded data removed]",
      "text/plain": [
       "<Figure size 432x288 with 1 Axes>"
      ]
     },
     "metadata": {
      "needs_background": "light"
     },
     "output_type": "display_data"
    }
   ],
   "source": [
    "# minimize the function\n",
    "result = minimize_scalar(objective, method='brent')\n",
    "# summarize the result\n",
    "opt_x, opt_y = result['x'], result['fun']\n",
    "print('Optimal Input x: %.6f' % opt_x)\n",
    "print('Optimal Output f(x): %.6f' % opt_y)\n",
    "print('Total Evaluations n: %d' % result['nfev'])\n",
    "# define the range\n",
    "r_min, r_max = -3.0, 2.5\n",
    "# prepare inputs\n",
    "inputs = arange(r_min, r_max, 0.1)\n",
    "# compute targets\n",
    "targets = [objective(x) for x in inputs]\n",
    "# plot inputs vs target\n",
    "pyplot.plot(inputs, targets, '--')\n",
    "# plot the optima\n",
    "pyplot.plot([opt_x], [opt_y], 's', color='r')\n",
    "# show the plot\n",
    "pyplot.show()"
   ]
  },
  {
   "cell_type": "code",
   "execution_count": null,
   "id": "bccccf0f",
   "metadata": {},
   "outputs": [],
   "source": []
  }
 ],
 "metadata": {
  "kernelspec": {
   "display_name": "Python 3 (ipykernel)",
   "language": "python",
   "name": "python3"
  },
  "language_info": {
   "codemirror_mode": {
    "name": "ipython",
    "version": 3
   },
   "file_extension": ".py",
   "mimetype": "text/x-python",
   "name": "python",
   "nbconvert_exporter": "python",
   "pygments_lexer": "ipython3",
   "version": "3.10.6"
  }
 },
 "nbformat": 4,
 "nbformat_minor": 5
}
