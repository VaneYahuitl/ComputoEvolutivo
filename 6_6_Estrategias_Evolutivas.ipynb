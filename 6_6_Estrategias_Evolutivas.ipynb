{
 "cells": [
  {
   "cell_type": "markdown",
   "id": "ab161d1c",
   "metadata": {},
   "source": [
    "# Estrategias evolutivas\n",
    "\n",
    "\n",
    "Referencias: \n",
    "\n",
    "- https://plusminuschirag.medium.com/evolutionary-strategies-darwin-in-ml-e6d8133698f3\n",
    "\n",
    "- https://medium.com/@MohammedAmer/evolutionary-computation-a-primer-e3ca6fb0db5c\n",
    "\n",
    "Diferencias entre AG y EE:\n",
    "\n",
    "   - **Origen e inspiración**: Los AG fueron desarrollados inicialmente en los Estados Unidos y se basan en una analogía con la evolución biológica y la genética mendeliana. Por otro lado, las EE fueron desarrolladas en Alemania y se basan más en la idea de estrategias de adaptación de las especies.\n",
    "\n",
    "   - **Representación de las soluciones y operadores genéticos**: En AG, las soluciones son normalmente representadas como cadenas de bits, y los operadores de cruce y mutación se aplican a estos bits. En EE, las soluciones son representadas generalmente como vectores de números reales, y los operadores de mutación y cruce se aplican a estos números reales.\n",
    "\n",
    "   - **Selección de padres y supervivencia**: En AG, la selección de los padres para el cruce a menudo se realiza en función de la aptitud, y la nueva generación generalmente reemplaza completamente a la antigua generación. En EE, los padres y los hijos a menudo compiten entre sí para entrar en la próxima generación, y la selección de padres para la reproducción no siempre se basa en la aptitud.\n",
    "\n",
    "   - **Adaptación de parámetros**: Una característica única de algunas EE es la auto-adaptación de los parámetros, como las tasas de mutación. En AG, estos parámetros suelen ser fijos o adaptados de acuerdo a algún criterio externo.\n",
    "\n",
    "Las Estrategias Evolutivas (EE):\n",
    "\n",
    "- Son un tipo de algoritmo evolutivo y se inspira en la teoría biológica de la evolución por medio de la selección natural. \n",
    "- Hacen hincapié en el fenotipo, no hay codificación del genotipo. \n",
    "- Hacen un seguimiento de dos conjuntos de parámetros: los parámetros de decisión y los parámetros de estrategia. \n",
    "\n",
    "    -Los parámetros de decisión son el fenotipo real, es decir, su individuo/solución o función objetivo de entrada. Para cada parámetro de decisión, hay un parámetro de estrategia correspondiente que controla su operador de mutación. \n",
    "    - Un parámetro de estrategia es sólo una especie de desviación estándar que controla la distribución de la mutación. \n",
    "    - La selección se hace según (μ, λ) selección, donde μ y λ son sólo dos enteros positivos. \n",
    "        - Se seleccionan μ mejores individuos de la población de tamaño λ y se utilizan como padres para la siguiente generación.\n",
    "        - El cruce se realiza de forma diferente para los parámetros de decisión que para los de estrategia. El cruce discreto se utiliza para los parámetros de decisión, lo que significa que un hijo obtiene un atributo determinado de sólo uno de los padres. \n",
    "        - El cruce intermedio se utiliza para los parámetros de estrategia, en los que el hijo obtiene la media de los valores de los padres. La mutación se realiza mutando primero los parámetros de estrategia de acuerdo con alguna regla sembrada por una variable aleatoria y, a continuación, los parámetros de estrategia mutados se utilizan para mutar los parámetros de decisión.\n",
    "        \n",
    "\n",
    "# The ($\\mu$, $\\lambda$) and  ($\\mu + \\lambda$) algorithms\n",
    "\n",
    "        \n",
    "### (μ,λ) Algorithm\n",
    "\n",
    "1. Comenzamos con λ individuos generados aleatoriamente\n",
    "\n",
    "2. Evaluar la aptitud de todos los individuos mediante funciones de aptitud.\n",
    "\n",
    "3. Eliminar todos excepto los μ más aptos. \n",
    "\n",
    "4. Cada uno de los μ más aptos produce λ/μ hijos mediante mutaciones ordinarias (Tenemos nuevos λ hijos) \n",
    "\n",
    "5. Tenemos μ padres y λ hijos que pasan a la siguiente generación por el mismo proceso.   \n",
    "\n",
    "\n",
    "### Consideraciones:\n",
    "\n",
    "* __El tamaño de $\\lambda$__ : Esto controla esencialmente el tamaño de la muestra para cada población, y es básicamente. En el extremo, a medida que $\\lambda$ se aproxima a infinito, el algoritmo se aproxima a la exploración (búsqueda aleatoria).\n",
    "* __El tamaño de μ:__ Esto controla lo selectivo que es el algoritmo."
   ]
  },
  {
   "cell_type": "code",
   "execution_count": 1,
   "id": "bf6fc207",
   "metadata": {},
   "outputs": [],
   "source": [
    "import random\n",
    "import numpy as np"
   ]
  },
  {
   "cell_type": "code",
   "execution_count": 2,
   "id": "c1bc9c77",
   "metadata": {},
   "outputs": [],
   "source": [
    "genes = \"0123456789\"\n",
    "target = \"24680\"\n",
    "MAX_POPULATION = 100\n",
    "# PARENTS es mu, los más aptos\n",
    "PARENTS = 20\n",
    "# CHILDREN = lambda/mu\n",
    "CHILDREN = (MAX_POPULATION-PARENTS)/PARENTS"
   ]
  },
  {
   "cell_type": "code",
   "execution_count": 3,
   "id": "ff6590a1",
   "metadata": {},
   "outputs": [],
   "source": [
    "def mutation():\n",
    "    global genes\n",
    "    return random.choice(genes)"
   ]
  },
  {
   "cell_type": "code",
   "execution_count": 4,
   "id": "c03ec6d5",
   "metadata": {},
   "outputs": [
    {
     "data": {
      "text/plain": [
       "'7'"
      ]
     },
     "execution_count": 4,
     "metadata": {},
     "output_type": "execute_result"
    }
   ],
   "source": [
    "random.choice(genes)"
   ]
  },
  {
   "cell_type": "code",
   "execution_count": 5,
   "id": "ea34a666",
   "metadata": {},
   "outputs": [],
   "source": [
    "def population_generator(count=20):\n",
    "    global genes\n",
    "    return [[mutation() for _ in range(5)] for i in range(count)]"
   ]
  },
  {
   "cell_type": "code",
   "execution_count": 6,
   "id": "edaaed87",
   "metadata": {},
   "outputs": [
    {
     "data": {
      "text/plain": [
       "'9'"
      ]
     },
     "execution_count": 6,
     "metadata": {},
     "output_type": "execute_result"
    }
   ],
   "source": [
    "mutation()"
   ]
  },
  {
   "cell_type": "code",
   "execution_count": 7,
   "id": "bcf8c44d",
   "metadata": {},
   "outputs": [],
   "source": [
    "def fitness(population):\n",
    "    fitness = []\n",
    "    for chromosome in population:\n",
    "        fit = 0\n",
    "        for gene_index in range(5):\n",
    "            if chromosome[gene_index] == target[gene_index]:\n",
    "                fit = fit + 1\n",
    "        fitness.append(fit)\n",
    "    return list(zip(population,fitness))"
   ]
  },
  {
   "cell_type": "code",
   "execution_count": 8,
   "id": "6fbd6f43",
   "metadata": {},
   "outputs": [
    {
     "data": {
      "text/plain": [
       "[(['1', '8', '0', '4', '0'], 1)]"
      ]
     },
     "execution_count": 8,
     "metadata": {},
     "output_type": "execute_result"
    }
   ],
   "source": [
    "# target = \"24680\"\n",
    "fitness([['1', '8', '0', '4', '0']])"
   ]
  },
  {
   "cell_type": "code",
   "execution_count": 9,
   "id": "4603791d",
   "metadata": {},
   "outputs": [],
   "source": [
    "def mating(no_of_children=80):\n",
    "    global CHILDREN\n",
    "    children = []  \n",
    "    for parent in population:\n",
    "        for i in range(int(CHILDREN)):\n",
    "            child = []\n",
    "            for p in range(5):\n",
    "                if random.random() < 0.75:\n",
    "                    child.append(parent[p])\n",
    "                else:\n",
    "                    child.append(mutation())\n",
    "            children.append(child)\n",
    "    return children"
   ]
  },
  {
   "cell_type": "code",
   "execution_count": 10,
   "id": "bc435813",
   "metadata": {},
   "outputs": [
    {
     "data": {
      "text/plain": [
       "80"
      ]
     },
     "execution_count": 10,
     "metadata": {},
     "output_type": "execute_result"
    }
   ],
   "source": [
    "found = False\n",
    "population = population_generator(count=80)\n",
    "clean_slate = lambda pops : pops[0]\n",
    "generation = 1\n",
    "len(population)"
   ]
  },
  {
   "cell_type": "code",
   "execution_count": 11,
   "id": "a05206c6",
   "metadata": {},
   "outputs": [
    {
     "data": {
      "text/plain": [
       "<function __main__.<lambda>(pops)>"
      ]
     },
     "execution_count": 11,
     "metadata": {},
     "output_type": "execute_result"
    }
   ],
   "source": [
    "clean_slate"
   ]
  },
  {
   "cell_type": "code",
   "execution_count": 12,
   "id": "1cd828ca",
   "metadata": {},
   "outputs": [
    {
     "data": {
      "text/plain": [
       "[['0', '6', '9', '1', '0'],\n",
       " ['6', '4', '5', '9', '1'],\n",
       " ['1', '8', '0', '4', '7'],\n",
       " ['8', '1', '6', '5', '2'],\n",
       " ['6', '6', '2', '1', '8'],\n",
       " ['6', '6', '4', '9', '6'],\n",
       " ['3', '3', '3', '6', '8'],\n",
       " ['5', '5', '6', '5', '5'],\n",
       " ['4', '5', '4', '0', '5'],\n",
       " ['1', '7', '0', '6', '9'],\n",
       " ['7', '8', '2', '5', '0'],\n",
       " ['6', '6', '6', '5', '3'],\n",
       " ['0', '7', '3', '7', '7'],\n",
       " ['7', '1', '5', '6', '9'],\n",
       " ['1', '7', '7', '5', '4'],\n",
       " ['5', '0', '9', '5', '2'],\n",
       " ['8', '3', '4', '3', '5'],\n",
       " ['8', '9', '5', '7', '3'],\n",
       " ['5', '3', '0', '8', '5'],\n",
       " ['8', '0', '8', '8', '6'],\n",
       " ['9', '2', '8', '7', '7'],\n",
       " ['6', '0', '1', '2', '9'],\n",
       " ['5', '1', '5', '5', '6'],\n",
       " ['4', '6', '4', '6', '8'],\n",
       " ['9', '1', '7', '6', '3'],\n",
       " ['2', '3', '5', '4', '4'],\n",
       " ['8', '3', '6', '9', '2'],\n",
       " ['8', '2', '5', '5', '0'],\n",
       " ['1', '2', '4', '9', '0'],\n",
       " ['2', '9', '4', '7', '3'],\n",
       " ['8', '5', '9', '9', '7'],\n",
       " ['2', '3', '5', '9', '6'],\n",
       " ['4', '9', '0', '6', '8'],\n",
       " ['0', '2', '6', '2', '6'],\n",
       " ['6', '4', '5', '8', '3'],\n",
       " ['8', '2', '8', '0', '4'],\n",
       " ['2', '2', '1', '5', '7'],\n",
       " ['5', '3', '7', '6', '4'],\n",
       " ['8', '9', '4', '5', '0'],\n",
       " ['8', '3', '5', '3', '9'],\n",
       " ['4', '3', '1', '2', '6'],\n",
       " ['3', '0', '1', '8', '5'],\n",
       " ['3', '7', '3', '8', '1'],\n",
       " ['9', '6', '2', '3', '9'],\n",
       " ['2', '8', '5', '7', '3'],\n",
       " ['8', '2', '5', '9', '4'],\n",
       " ['9', '4', '3', '0', '2'],\n",
       " ['7', '2', '0', '1', '5'],\n",
       " ['1', '5', '0', '0', '8'],\n",
       " ['8', '7', '5', '5', '7'],\n",
       " ['5', '3', '2', '6', '0'],\n",
       " ['7', '0', '3', '1', '0'],\n",
       " ['6', '0', '2', '5', '6'],\n",
       " ['8', '6', '2', '6', '2'],\n",
       " ['9', '7', '1', '4', '3'],\n",
       " ['4', '9', '9', '3', '6'],\n",
       " ['2', '0', '7', '1', '2'],\n",
       " ['6', '0', '0', '5', '8'],\n",
       " ['1', '6', '3', '4', '0'],\n",
       " ['0', '9', '1', '0', '2'],\n",
       " ['7', '4', '2', '4', '7'],\n",
       " ['4', '0', '7', '6', '6'],\n",
       " ['5', '4', '8', '9', '7'],\n",
       " ['5', '8', '3', '7', '3'],\n",
       " ['8', '5', '3', '0', '0'],\n",
       " ['7', '4', '7', '5', '5'],\n",
       " ['3', '1', '7', '3', '5'],\n",
       " ['6', '7', '1', '6', '3'],\n",
       " ['9', '5', '9', '2', '5'],\n",
       " ['6', '5', '9', '4', '2'],\n",
       " ['3', '0', '8', '2', '0'],\n",
       " ['5', '8', '8', '2', '2'],\n",
       " ['1', '1', '5', '1', '1'],\n",
       " ['7', '0', '1', '6', '0'],\n",
       " ['0', '0', '5', '1', '4'],\n",
       " ['5', '5', '0', '9', '5'],\n",
       " ['3', '9', '6', '5', '9'],\n",
       " ['1', '3', '4', '8', '8'],\n",
       " ['2', '8', '0', '3', '8'],\n",
       " ['5', '6', '0', '5', '5']]"
      ]
     },
     "execution_count": 12,
     "metadata": {},
     "output_type": "execute_result"
    }
   ],
   "source": [
    "population"
   ]
  },
  {
   "cell_type": "code",
   "execution_count": 13,
   "id": "638cdc64",
   "metadata": {},
   "outputs": [
    {
     "name": "stdout",
     "output_type": "stream",
     "text": [
      "Generation   1 :> ['6', '4', '5', '8', '3'] is the most fit with fitness 2 Total Population: 20\n",
      "Generation   2 :> ['6' '4' '1' '8' '3'] is the most fit with fitness 2 Total Population: 20\n",
      "Generation   3 :> ['2' '4' '7' '8' '5'] is the most fit with fitness 3 Total Population: 20\n",
      "Generation   4 :> ['2' '4' '7' '8' '9'] is the most fit with fitness 3 Total Population: 20\n",
      "Generation   5 :> ['2' '4' '7' '8' '1'] is the most fit with fitness 3 Total Population: 20\n",
      "Generation   6 :> ['2' '4' '6' '8' '6'] is the most fit with fitness 4 Total Population: 20\n",
      "Generation   7 :> ['2' '4' '7' '8' '0'] is the most fit with fitness 4 Total Population: 20\n",
      "Generation   8 :> ['2' '4' '7' '8' '0'] is the most fit with fitness 4 Total Population: 20\n",
      "Generation   9 :> ['2' '4' '6' '8' '3'] is the most fit with fitness 4 Total Population: 20\n",
      "Generation  10 :> ['2' '4' '6' '8' '3'] is the most fit with fitness 4 Total Population: 20\n",
      "Generation  11 :> ['2' '4' '6' '8' '3'] is the most fit with fitness 4 Total Population: 20\n",
      "Generation  12 :> ['2' '4' '6' '8' '3'] is the most fit with fitness 4 Total Population: 20\n",
      "Generation  13 :> ['2' '4' '6' '8' '0'] is the most fit with fitness 5 Total Population: 20\n"
     ]
    }
   ],
   "source": [
    "while not found:\n",
    "    population = fitness(population)\n",
    "    population = sorted(population, key=lambda p:p[1],reverse=True)\n",
    "    population = population[:20] #Selecting the 20 fittest\n",
    "    ## Si tiene fitness 5 se detiene, i.e, todas coinciden.\n",
    "    if population[0][1] == 5:\n",
    "        found = True\n",
    "        print(\"Generation {:3} :> {} is the most fit with fitness {} Total Population: {}\".format(generation,population[0][0],population[0][1],len(population)))\n",
    "        break\n",
    "    print(\"Generation {:3} :> {} is the most fit with fitness {} Total Population: {}\".format(generation,population[0][0],population[0][1],len(population)))\n",
    "    population = list(map(clean_slate,population))\n",
    "    children = mating(population)\n",
    "    population = np.copy(children)\n",
    "    generation +=1"
   ]
  },
  {
   "cell_type": "code",
   "execution_count": 14,
   "id": "567b8279",
   "metadata": {},
   "outputs": [
    {
     "data": {
      "text/plain": [
       "[(array(['2', '4', '6', '8', '0'], dtype='<U1'), 5),\n",
       " (array(['2', '4', '6', '8', '3'], dtype='<U1'), 4),\n",
       " (array(['2', '4', '6', '8', '7'], dtype='<U1'), 4),\n",
       " (array(['2', '4', '6', '8', '7'], dtype='<U1'), 4),\n",
       " (array(['2', '4', '6', '4', '0'], dtype='<U1'), 4),\n",
       " (array(['2', '4', '6', '7', '0'], dtype='<U1'), 4),\n",
       " (array(['2', '4', '6', '1', '0'], dtype='<U1'), 4),\n",
       " (array(['2', '4', '6', '6', '0'], dtype='<U1'), 4),\n",
       " (array(['2', '4', '6', '1', '0'], dtype='<U1'), 4),\n",
       " (array(['2', '4', '6', '0', '0'], dtype='<U1'), 4),\n",
       " (array(['8', '4', '6', '8', '0'], dtype='<U1'), 4),\n",
       " (array(['9', '4', '6', '8', '0'], dtype='<U1'), 4),\n",
       " (array(['2', '8', '6', '8', '3'], dtype='<U1'), 3),\n",
       " (array(['2', '7', '6', '8', '8'], dtype='<U1'), 3),\n",
       " (array(['2', '6', '6', '8', '7'], dtype='<U1'), 3),\n",
       " (array(['8', '4', '6', '8', '7'], dtype='<U1'), 3),\n",
       " (array(['2', '5', '6', '8', '7'], dtype='<U1'), 3),\n",
       " (array(['2', '4', '4', '8', '7'], dtype='<U1'), 3),\n",
       " (array(['2', '4', '6', '4', '1'], dtype='<U1'), 3),\n",
       " (array(['2', '4', '6', '4', '2'], dtype='<U1'), 3)]"
      ]
     },
     "execution_count": 14,
     "metadata": {},
     "output_type": "execute_result"
    }
   ],
   "source": [
    " population"
   ]
  },
  {
   "cell_type": "markdown",
   "id": "2a61941c",
   "metadata": {},
   "source": [
    "## __$(\\mu + \\lambda)$  Algorithm__\n",
    "\n",
    "* Empezamos con $\\lambda$ individuos generados aleatoreamente.\n",
    "* Estos $\\lambda$ individuos generarán $\\mu$ hijos.\n",
    "* Se calcula la aptitud de todos los individuos.\n",
    "* Borrar todos, excepto los $\\lambda$ más aptos.\n",
    "* Cada conjunto de individuos $\\lambda$ produce $\\frac{POPULATION - \\lambda}{\\lambda}$ hijos por medio de mutaciones. (Tenemos $\\lambda$ hijos).\n",
    "* Tenemos $\\lambda$ padres y $\\mu$  hijos para la próxima generación y el mismo proceso. \n"
   ]
  },
  {
   "cell_type": "code",
   "execution_count": 15,
   "id": "c0ce2c87",
   "metadata": {},
   "outputs": [],
   "source": [
    "found = False\n",
    "population = population_generator()\n",
    "clean_slate = lambda pops : pops[0]\n",
    "generation = 1"
   ]
  },
  {
   "cell_type": "code",
   "execution_count": 16,
   "id": "3b51586e",
   "metadata": {},
   "outputs": [
    {
     "name": "stdout",
     "output_type": "stream",
     "text": [
      "100\n",
      "Generation   1 :> ['1', '9', '6', '8', '5'] is the most fit with fitness 2\n",
      "100\n",
      "Generation   2 :> ['1', '4', '3', '8', '0'] is the most fit with fitness 3\n",
      "100\n",
      "Generation   3 :> ['1', '4', '3', '8', '0'] is the most fit with fitness 3\n",
      "100\n",
      "Generation   4 :> ['1', '4', '3', '8', '0'] is the most fit with fitness 3\n",
      "100\n",
      "Generation   5 :> ['1', '4', '3', '8', '0'] is the most fit with fitness 3\n",
      "100\n",
      "Generation   6 :> ['1', '4', '3', '8', '0'] is the most fit with fitness 3\n",
      "100\n",
      "Generation   7 :> ['2', '4', '6', '6', '0'] is the most fit with fitness 4\n",
      "100\n",
      "Generation   8 :> ['2', '4', '6', '6', '0'] is the most fit with fitness 4\n",
      "100\n",
      "Generation   9 :> ['2', '4', '6', '6', '0'] is the most fit with fitness 4\n",
      "100\n",
      "Generation  10 :> ['2', '4', '6', '6', '0'] is the most fit with fitness 4\n",
      "100\n",
      "Generation  11 :> ['2', '4', '6', '6', '0'] is the most fit with fitness 4\n",
      "100\n",
      "Generation  12 :> ['2', '4', '6', '8', '0'] is the most fit with fitness 5\n"
     ]
    }
   ],
   "source": [
    "while not found:\n",
    "    children = mating(population)\n",
    "    ## La diferencia con el lambda, mu\n",
    "    population = population + children\n",
    "    population = fitness(population)\n",
    "    population = sorted(population,key=lambda p:p[1],reverse=True)\n",
    "    print(len(population))\n",
    "    population = population[:20] #Selecting the 20 fittest who gets the chance to create new offsprings\n",
    "    if population[0][1] == 5:\n",
    "        found = True\n",
    "        print(\"Generation {:3} :> {} is the most fit with fitness {}\".format(generation,population[0][0],population[0][1]))\n",
    "        break\n",
    "    print(\"Generation {:3} :> {} is the most fit with fitness {}\".format(generation,population[0][0],population[0][1]))\n",
    "    population = list(map(clean_slate,population))\n",
    "\n",
    "    generation +=1"
   ]
  },
  {
   "cell_type": "markdown",
   "id": "1a92a27b",
   "metadata": {},
   "source": [
    "Otros recursos: https://machinelearningmastery.com/evolution-strategies-from-scratch-in-python/"
   ]
  },
  {
   "cell_type": "code",
   "execution_count": null,
   "id": "9645c593",
   "metadata": {},
   "outputs": [],
   "source": []
  },
  {
   "cell_type": "code",
   "execution_count": null,
   "id": "bb39483e",
   "metadata": {},
   "outputs": [],
   "source": []
  }
 ],
 "metadata": {
  "kernelspec": {
   "display_name": "Python 3 (ipykernel)",
   "language": "python",
   "name": "python3"
  },
  "language_info": {
   "codemirror_mode": {
    "name": "ipython",
    "version": 3
   },
   "file_extension": ".py",
   "mimetype": "text/x-python",
   "name": "python",
   "nbconvert_exporter": "python",
   "pygments_lexer": "ipython3",
   "version": "3.10.6"
  }
 },
 "nbformat": 4,
 "nbformat_minor": 5
}
