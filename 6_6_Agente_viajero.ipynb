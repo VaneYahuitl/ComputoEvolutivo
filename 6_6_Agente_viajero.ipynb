{
 "cells": [
  {
   "cell_type": "markdown",
   "metadata": {},
   "source": [
    "# Problema del agente viajero\n",
    "\n",
    "![](https://upload.wikimedia.org/wikipedia/commons/thumb/1/11/GLPK_solution_of_a_travelling_salesman_problem.svg/480px-GLPK_solution_of_a_travelling_salesman_problem.svg.png)\n"
   ]
  },
  {
   "cell_type": "code",
   "execution_count": 1,
   "metadata": {},
   "outputs": [],
   "source": [
    "import random\n",
    "from deap import algorithms, base, creator, tools\n",
    "import numpy as np"
   ]
  },
  {
   "cell_type": "code",
   "execution_count": 2,
   "metadata": {},
   "outputs": [],
   "source": [
    "# El número de ciudades\n",
    "N_CITIES = 20\n",
    "\n",
    "# Crear las clases FitnessMin y Individual\n",
    "creator.create(\"FitnessMin\", base.Fitness, weights=(-1.0,))\n",
    "creator.create(\"Individual\", list, fitness=creator.FitnessMin)\n",
    "\n",
    "toolbox = base.Toolbox()\n",
    "\n",
    "# Registro de atributos (en este caso, las ciudades)\n",
    "toolbox.register(\"indices\", random.sample, range(N_CITIES), N_CITIES)\n",
    "\n",
    "# Inicialización de las estructuras\n",
    "toolbox.register(\"individual\", tools.initIterate, creator.Individual, toolbox.indices)\n",
    "toolbox.register(\"population\", tools.initRepeat, list, toolbox.individual)\n"
   ]
  },
  {
   "cell_type": "code",
   "execution_count": 3,
   "metadata": {},
   "outputs": [],
   "source": [
    "# Definir la función de evaluación\n",
    "def evalTSP(individual):\n",
    "    # Distancia entre la primera y última ciudad\n",
    "    distance = ((CITIES[individual[-1]][0] - CITIES[individual[0]][0])**2 +\n",
    "                (CITIES[individual[-1]][1] - CITIES[individual[0]][1])**2)**0.5\n",
    "    # Distancias entre el resto de las ciudades\n",
    "    for gene1, gene2 in zip(individual[0:-1], individual[1:]):\n",
    "        distance += ((CITIES[gene1][0] - CITIES[gene2][0])**2 +\n",
    "                     (CITIES[gene1][1] - CITIES[gene2][1])**2)**0.5\n",
    "    return distance,\n"
   ]
  },
  {
   "cell_type": "code",
   "execution_count": 4,
   "metadata": {},
   "outputs": [],
   "source": [
    "# Registrar las operaciones genéticas\n",
    "toolbox.register(\"mate\", tools.cxPartialyMatched)\n",
    "toolbox.register(\"mutate\", tools.mutShuffleIndexes, indpb=0.05)\n",
    "toolbox.register(\"select\", tools.selTournament, tournsize=3)\n",
    "toolbox.register(\"evaluate\", evalTSP)"
   ]
  },
  {
   "cell_type": "code",
   "execution_count": 5,
   "metadata": {},
   "outputs": [],
   "source": [
    "def main():\n",
    "    random.seed(42)\n",
    "\n",
    "    # Generar las coordenadas de las ciudades\n",
    "    global CITIES\n",
    "    CITIES = [random.sample(range(100), 2) for _ in range(N_CITIES)]\n",
    "\n",
    "    pop = toolbox.population(n=300)\n",
    "    hof = tools.HallOfFame(1)\n",
    "    stats = tools.Statistics(lambda ind: ind.fitness.values)\n",
    "    stats.register(\"avg\", np.mean)\n",
    "    stats.register(\"min\", np.min)\n",
    "    stats.register(\"max\", np.max)\n",
    "    \n",
    "    algorithms.eaSimple(pop, toolbox, 0.7, 0.2, 40, stats=stats, \n",
    "                        halloffame=hof, verbose=True)\n",
    "    \n",
    "    return pop, stats, hof"
   ]
  },
  {
   "cell_type": "code",
   "execution_count": 6,
   "metadata": {},
   "outputs": [
    {
     "name": "stdout",
     "output_type": "stream",
     "text": [
      "gen\tnevals\tavg   \tmin    \tmax    \n",
      "0  \t300   \t1151.9\t872.573\t1390.25\n",
      "1  \t214   \t1094.53\t801.091\t1348.91\n",
      "2  \t250   \t1070.99\t801.091\t1310.45\n",
      "3  \t240   \t1049.89\t801.091\t1353.64\n",
      "4  \t239   \t1029.78\t739.44 \t1386   \n",
      "5  \t221   \t1016.23\t739.44 \t1325.41\n",
      "6  \t215   \t1002.02\t772.333\t1334.01\n",
      "7  \t229   \t987.213\t772.333\t1279.71\n",
      "8  \t217   \t979.423\t749.836\t1338.48\n",
      "9  \t205   \t947.965\t747.738\t1331.19\n",
      "10 \t223   \t915.426\t696.1  \t1218.97\n",
      "11 \t231   \t883.617\t668.62 \t1286.25\n",
      "12 \t211   \t848.203\t668.62 \t1173.04\n",
      "13 \t231   \t826.759\t668.62 \t1177.54\n",
      "14 \t231   \t808.351\t668.62 \t1199.61\n",
      "15 \t241   \t791.993\t652.404\t1126.24\n",
      "16 \t238   \t763.964\t637.829\t1257.04\n",
      "17 \t233   \t745.985\t609.555\t1116   \n",
      "18 \t222   \t720.664\t609.555\t1033.95\n",
      "19 \t225   \t707.182\t609.555\t1079.78\n",
      "20 \t209   \t694.793\t609.555\t1185.52\n",
      "21 \t232   \t679.341\t609.555\t972.704\n",
      "22 \t237   \t666.523\t609.555\t970.658\n",
      "23 \t217   \t656.198\t600.573\t1139.66\n",
      "24 \t227   \t640.168\t600.573\t1044.14\n",
      "25 \t246   \t635.091\t580.429\t1092.65\n",
      "26 \t233   \t624.663\t580.429\t1051.44\n",
      "27 \t219   \t627.58 \t571.446\t949.526\n",
      "28 \t229   \t622.551\t555.8  \t1120.94\n",
      "29 \t223   \t619.461\t555.8  \t1005.09\n",
      "30 \t238   \t616.216\t546.818\t995.674\n",
      "31 \t225   \t599.827\t541.109\t1020.69\n",
      "32 \t221   \t594.887\t541.109\t951.413\n",
      "33 \t243   \t584.469\t541.109\t981.298\n",
      "34 \t232   \t572.377\t530.41 \t871.931\n",
      "35 \t244   \t570.731\t530.41 \t1017.82\n",
      "36 \t233   \t572.108\t530.41 \t929.179\n",
      "37 \t217   \t562.566\t530.41 \t1058.97\n",
      "38 \t239   \t574.878\t530.41 \t1090.34\n",
      "39 \t229   \t559.942\t530.41 \t930.709\n",
      "40 \t214   \t564.141\t530.41 \t845.832\n",
      "Mejor individuo: [0, 11, 6, 12, 19, 14, 13, 5, 15, 17, 8, 9, 3, 2, 10, 1, 16, 7, 18, 4] con una distancia de: 530.409778966085\n"
     ]
    }
   ],
   "source": [
    "pop, stats, hof = main()\n",
    "print(f'Mejor individuo: {hof[0]} con una distancia de: {hof[0].fitness.values[0]}')"
   ]
  },
  {
   "cell_type": "markdown",
   "metadata": {},
   "source": [
    "## Ejercicio:\n",
    "\n",
    "- Probar con otros parámetros del algoritmo genéticos.\n",
    "- Usar otro número de ciudades."
   ]
  },
  {
   "cell_type": "code",
   "execution_count": null,
   "metadata": {},
   "outputs": [],
   "source": []
  },
  {
   "cell_type": "markdown",
   "metadata": {},
   "source": [
    "\n",
    "## Práctica final:\n",
    "\n",
    "- Codificar el un problema de optimización cualquiera y usar una de las estrategias evolutivas vista en el curso.\n",
    "\n",
    "- La notebook debe estar bien explcada."
   ]
  },
  {
   "cell_type": "code",
   "execution_count": null,
   "metadata": {},
   "outputs": [],
   "source": []
  }
 ],
 "metadata": {
  "anaconda-cloud": {},
  "kernelspec": {
   "display_name": "Python 3 (ipykernel)",
   "language": "python",
   "name": "python3"
  },
  "language_info": {
   "codemirror_mode": {
    "name": "ipython",
    "version": 3
   },
   "file_extension": ".py",
   "mimetype": "text/x-python",
   "name": "python",
   "nbconvert_exporter": "python",
   "pygments_lexer": "ipython3",
   "version": "3.10.6"
  }
 },
 "nbformat": 4,
 "nbformat_minor": 1
}
