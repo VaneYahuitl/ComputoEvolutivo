{
 "cells": [
  {
   "cell_type": "markdown",
   "id": "894e6e19",
   "metadata": {},
   "source": [
    "# Algoritmos genéticos con codificación entera\n",
    "\n",
    "**A diferencia de la codificación binaria, y al igual que la codificación real, cada gen corresponde a una variable**. \n",
    "\n",
    "1. **Inicialización**: Se crea una población inicial de individuos, donde cada individuo es un cromosoma que consiste en una secuencia de números enteros. Cada número entero en la secuencia representa un gen. El valor del gen es el valor de una variable de decisión en la solución.\n",
    "2. **Evaluación**: Cada individuo en la población es evaluado utilizando una función de aptitud (o función objetivo), que mide qué tan buena es la solución representada por el individuo.\n",
    "3. **Selección**: Se seleccionan individuos de la población para ser padres de la próxima generación. Los individuos son seleccionados con una probabilidad proporcional a su aptitud, por lo que los individuos más aptos tienen más probabilidades de ser seleccionados.\n",
    "4. **Cruce**: Se seleccionan pares de individuos y se intercambian genes entre ellos para crear descendencia. Con la codificación entera, un operador de cruce común es el cruce de un punto, donde se selecciona un punto en la secuencia de genes y se intercambian los genes a uno o ambos lados del punto.\n",
    "5. **Mutación**: Con cierta probabilidad baja, se cambian algunos genes en los individuos. Con la codificación entera, una mutación podría implicar cambiar el valor de un gen a otro número entero al azar dentro de un rango permitido.\n",
    "6. **Reemplazo**: Los individuos de la población actual son reemplazados por los nuevos individuos creados a través de la selección, el cruce y la mutación.\n",
    "7. **Iteración**: Los pasos de evaluación a reemplazo se repiten durante un número fijo de generaciones, o hasta que se cumpla algún otro criterio de terminación (por ejemplo, encontrar una solución que sea lo suficientemente buena).\n",
    "\n",
    "### Comparación con otras codificaciones\n",
    "\n",
    "| Codificación | Ventajas | Desventajas |\n",
    "| --- | --- | --- |\n",
    "| Binaria | - Es fácil de implementar y entender.<br>- Los operadores de cruce y mutación son sencillos.<br>- Funciona bien con problemas de optimización binaria. | - No es ideal para problemas de optimización continua.<br>- Puede requerir una gran longitud de cadena para representar ciertos números.<br>- La convergencia puede ser lenta para problemas con un espacio de búsqueda grande. |\n",
    "| Real | - Funciona bien con problemas de optimización continua.<br>- Puede representar una gama más amplia de valores con menos bits que la codificación binaria.<br>- A menudo converge más rápidamente que la codificación binaria. | - Los operadores de cruce y mutación pueden ser más complejos.<br>- No es ideal para problemas de optimización binaria.<br>- Puede ser más difícil de entender e implementar que la codificación binaria. |\n",
    "| Entera | - Funciona bien con problemas de optimización que requieren soluciones enteras.<br>- Puede representar una gama más amplia de valores con menos bits que la codificación binaria.<br>- A menudo converge más rápidamente que la codificación binaria. | - Los operadores de cruce y mutación pueden ser más complejos.<br>- No es ideal para problemas de optimización binaria o continua.<br>- Puede ser más difícil de entender e implementar que la codificación binaria. |\n",
    "\n",
    "\n",
    "### Representación entera para problemas combinatorios\n",
    "\n",
    "En el caso de la codificación entera, la codificación y decodificación son en realidad bastante directas porque los genes representan directamente los valores de las variables de decisión. \n",
    "\n",
    "En las siguientes funciones, la función *encode_integer* toma un valor real y lo redondea al entero más cercano dentro de los límites dados, y la función *decode_integer* toma un valor entero y lo convierte en un valor real dentro de los límites dados.\n",
    "\n",
    "Es importante tener en cuenta que la codificación y decodificación pueden resultar en la pérdida de precisión debido al redondeo, y que la decodificación no necesariamente recupera exactamente el mismo valor que se codificó originalmente. Sin embargo, esto es generalmente aceptable en el contexto de los algoritmos genéticos, donde estamos buscando soluciones aproximadas en lugar de soluciones exactas."
   ]
  },
  {
   "cell_type": "code",
   "execution_count": 2,
   "id": "485b36db",
   "metadata": {},
   "outputs": [],
   "source": [
    "def encode_integer(x, lower_bound, upper_bound):\n",
    "    \"\"\"Codifica un valor real en un valor entero dentro de los límites dados\"\"\"\n",
    "    return int(round((x - lower_bound) / (upper_bound - lower_bound) * (upper_bound - lower_bound)))\n",
    "\n",
    "def decode_integer(x, lower_bound, upper_bound):\n",
    "    \"\"\"Decodifica un valor entero en un valor real dentro de los límites dados\"\"\"\n",
    "    return lower_bound + x * (upper_bound - lower_bound) / (upper_bound - lower_bound)"
   ]
  },
  {
   "cell_type": "code",
   "execution_count": 3,
   "id": "b754f560",
   "metadata": {},
   "outputs": [
    {
     "name": "stdout",
     "output_type": "stream",
     "text": [
      "Valor real codificado: 13\n",
      "Valor decodificado: 3.0\n"
     ]
    }
   ],
   "source": [
    "# Vamos a codificar y decodificar un número real dentro del rango de -10 a 10\n",
    "\n",
    "# Valores de los límites\n",
    "lower_bound = -10\n",
    "upper_bound = 10\n",
    "\n",
    "# Valor real a codificar\n",
    "real_value = 3.14159\n",
    "\n",
    "# Codificar el valor real\n",
    "encoded_value = encode_integer(real_value, lower_bound, upper_bound)\n",
    "print(f\"Valor real codificado: {encoded_value}\")\n",
    "\n",
    "# Ahora decodificamos el valor codificado\n",
    "decoded_value = decode_integer(encoded_value, lower_bound, upper_bound)\n",
    "print(f\"Valor decodificado: {decoded_value}\")\n"
   ]
  },
  {
   "cell_type": "markdown",
   "id": "dfbdc584",
   "metadata": {},
   "source": [
    "| Ventajas | Descripción |\n",
    "| :--- | :--- |\n",
    "| **Representación directa** | Los genes representan directamente los valores de las variables de decisión. | \n",
    "| **Facilidad de uso** | Las operaciones de codificación y decodificación son sencillas. |\n",
    "| **Flexibilidad** | Se pueden usar una variedad de operadores de cruce y mutación. | \n",
    "| **Adecuado para ciertos problemas** | Es especialmente útil en problemas donde las variables de decisión son intrínsecamente enteras. | \n",
    "\n",
    "\n",
    "\n",
    "#### ¿Cuándo conviene usar codificación real?\n",
    "\n",
    "La codificación entera en algoritmos genéticos utiliza números enteros para representar directamente el valor de las variables de decisión. \n",
    "\n",
    "| Caso | Descripción |\n",
    "| :--- | :--- |\n",
    "| **Problemas de horarios** | En problemas de programación de horarios, como la asignación de turnos de trabajo o la programación de exámenes, las variables de decisión a menudo representan tiempos discretos, lo que hace que la codificación entera sea una opción natural. |\n",
    "| **Problemas de enrutamiento** | En problemas de enrutamiento, como el problema del viajante de comercio o el problema de enrutamiento de vehículos, las variables de decisión a menudo representan secuencias de ciudades o destinos, lo que puede ser representado de manera efectiva con la codificación entera. |\n",
    "| **Problemas de diseño y configuración** | En problemas de diseño y configuración, como el diseño de circuitos electrónicos o la configuración de sistemas, las variables de decisión pueden representar la selección y colocación de componentes discretos, lo que puede ser representado eficazmente con la codificación entera. |\n",
    "| **Problemas con restricciones de integridad** | En cualquier problema en el que las variables de decisión deben ser enteras debido a restricciones de integridad, la codificación entera es la elección obvia. |\n",
    "\n",
    "\n",
    "\n",
    "### Ejercicio: \n",
    "\n",
    "- Codificar un número decimal (real) a codificación entera dados 3 límites diferentes.\n",
    "- Codificar un vector de números decimales (reales). "
   ]
  },
  {
   "cell_type": "code",
   "execution_count": null,
   "id": "20269caa",
   "metadata": {},
   "outputs": [],
   "source": []
  },
  {
   "cell_type": "markdown",
   "id": "b393a028",
   "metadata": {},
   "source": [
    "## Operadores genéticos para representación entera\n",
    "\n",
    "| Operador | Codificación Binaria | Codificación Entera |\n",
    "| :--- | :--- | :--- |\n",
    "| **Cruce** | Opera directamente sobre los bits. Ejemplos: cruce de un punto, cruce de dos puntos, cruce uniforme. | Opera sobre números enteros completos. Ejemplos: cruce aritmético, cruce por orden (para secuencias o permutaciones). |\n",
    "| **Mutación** | Usualmente invierte un bit (0 se convierte en 1, 1 se convierte en 0). | Puede agregar o sustraer una cantidad pequeña al valor de un gen, o puede cambiar un gen a un nuevo valor aleatorio dentro de un rango permitido. |\n",
    "| **Selección** | Independiente de la codificación. Selecciona los mejores individuos de la población basándose en su aptitud. | Independiente de la codificación. Selecciona los mejores individuos de la población basándose en su aptitud. |\n",
    "\n",
    "### Operadores de cruce\n",
    "\n",
    "| Operador de Cruce | Descripción | Ejemplo de Implementación en Python |\n",
    "| :--- | :--- | :--- |\n",
    "| **Cruce de un punto** | Intercambia segmentos después de un punto de cruce. | ```punto = random.randint(1, len(parent1)-1) ``` |\n",
    "|  | | ```return parent1[:punto] + parent2[punto:], parent2[:punto] + parent1[punto:]``` |\n",
    "| **Cruce de dos puntos** | Intercambia segmentos entre dos puntos de cruce. |\n",
    "| **Cruce uniforme** | Intercambia genes individuales con probabilidad igual. | |\n",
    "| **Cruce Aritmético**      | Combina los genes de los padres mediante una media ponderada o una combinación lineal. | ```child1 = alpha * parent1 + (1 - alpha) * parent2```|\n",
    "| | | ```child2 = (1 - alpha) * parent1 + alpha * parent2```|\n",
    "\n",
    "\n",
    "**Usaremos la cruza de un punto.**\n",
    "\n",
    "![](https://www.tutorialspoint.com/genetic_algorithms/images/one_point_crossover.jpg)\n",
    "Fuente: tutorialspoints.com\n",
    " \n",
    "#### Ejercicio: Implementar operador de cruza de un punto y aplicar a dos pares de padres diferentes.\n",
    "\n"
   ]
  },
  {
   "cell_type": "code",
   "execution_count": null,
   "id": "299f840b",
   "metadata": {},
   "outputs": [],
   "source": []
  },
  {
   "cell_type": "markdown",
   "id": "5182f961",
   "metadata": {},
   "source": [
    "### Operador de mutación uniforme"
   ]
  },
  {
   "cell_type": "code",
   "execution_count": 6,
   "id": "f023de07",
   "metadata": {},
   "outputs": [],
   "source": [
    "import random\n",
    "\n",
    "def mutacion_uniforme(individual, min_val, max_val, mutation_rate=0.01):\n",
    "    for i in range(len(individual)):\n",
    "        if random.random() < mutation_rate:\n",
    "            individual[i] = random.randint(min_val, max_val)\n",
    "    return individual"
   ]
  },
  {
   "cell_type": "markdown",
   "id": "21b0f252",
   "metadata": {},
   "source": [
    "#### Ejercicio: mutar varios individuos"
   ]
  },
  {
   "cell_type": "code",
   "execution_count": 38,
   "id": "a6242578",
   "metadata": {},
   "outputs": [],
   "source": [
    "import random\n",
    "\n",
    "# Definición de la función objetivo (función cuadrática)\n",
    "def funcion_objetivo(x):\n",
    "    x1, x2 = x\n",
    "    return (x1 - 3)**2 + (x2 - 2)**2\n",
    "\n",
    "# Codificación y decodificación de los cromosomas\n",
    "def encode_integer(x, lower_bound, upper_bound):\n",
    "    \"\"\"Codifica un valor real en un valor entero dentro de los límites dados\"\"\"\n",
    "    return int(round((x - lower_bound) / (upper_bound - lower_bound) * (2**32 - 1)))\n",
    "\n",
    "def decode_integer(x, lower_bound, upper_bound):\n",
    "    \"\"\"Decodifica un valor entero en un valor real dentro de los límites dados\"\"\"\n",
    "    return lower_bound + x * (upper_bound - lower_bound) / (2**32 - 1)\n",
    "\n",
    "# Operador de cruza de un punto\n",
    "def cruce_un_punto(parent1, parent2):\n",
    "    punto = random.randint(1, len(parent1) - 1)\n",
    "    child1 = parent1[:punto] + parent2[punto:]\n",
    "    child2 = parent2[:punto] + parent1[punto:]\n",
    "    return child1, child2\n",
    "\n",
    "# Operador de mutación uniforme\n",
    "def mutacion_uniforme(individual, min_val, max_val, mutation_rate=0.01):\n",
    "    for i in range(len(individual)):\n",
    "        if random.random() < mutation_rate:\n",
    "            individual[i] = random.randint(min_val, max_val)\n",
    "    return individual"
   ]
  },
  {
   "cell_type": "code",
   "execution_count": 39,
   "id": "a982c55f",
   "metadata": {},
   "outputs": [],
   "source": [
    "# Crear la población inicial\n",
    "pop_size = 100\n",
    "min_val, max_val = -10, 10\n",
    "population = [[random.uniform(min_val, max_val), random.uniform(min_val, max_val)] for _ in range(pop_size)]\n",
    "\n",
    "# Parámetros del algoritmo genético\n",
    "num_generations = 100\n",
    "num_parents = pop_size // 2\n",
    "\n",
    "# Ejecutar el algoritmo genético\n",
    "for gen in range(num_generations):\n",
    "    # Evaluar la población\n",
    "    fitnesses = [funcion_objetivo(individual) for individual in population]\n",
    "\n",
    "    # Seleccionar los mejores individuos\n",
    "    parents = [population[i] for i in sorted(range(len(fitnesses)), key=lambda k: fitnesses[k])[:num_parents]]\n",
    "\n",
    "    # Generar la próxima generación\n",
    "    children = []\n",
    "    for i in range(0, len(parents), 2):\n",
    "        if i + 1 < len(parents):\n",
    "            child1, child2 = cruce_un_punto(parents[i], parents[i + 1])\n",
    "            children.append(mutacion_uniforme(child1, min_val, max_val))\n",
    "            children.append(mutacion_uniforme(child2, min_val, max_val))\n",
    "    population = parents + children"
   ]
  },
  {
   "cell_type": "code",
   "execution_count": 40,
   "id": "34b00999",
   "metadata": {},
   "outputs": [
    {
     "name": "stdout",
     "output_type": "stream",
     "text": [
      "Mejor solución encontrada: [-9.999999986105907, -9.999999990686774]\n",
      "Valor objetivo de la mejor solución: 312.9999994152362\n"
     ]
    }
   ],
   "source": [
    "# Mostrar el mejor individuo encontrado\n",
    "best_individual = min(population, key=funcion_objetivo)\n",
    "best_solution = [decode_integer(x, min_val, max_val) for x in best_individual]\n",
    "print(\"Mejor solución encontrada:\", best_solution)\n",
    "print(\"Valor objetivo de la mejor solución:\", funcion_objetivo(best_solution))"
   ]
  },
  {
   "cell_type": "code",
   "execution_count": 41,
   "id": "c2296b69",
   "metadata": {},
   "outputs": [
    {
     "data": {
      "image/png": "[encoded data removed]",
      "text/plain": [
       "<Figure size 432x288 with 2 Axes>"
      ]
     },
     "metadata": {
      "needs_background": "light"
     },
     "output_type": "display_data"
    }
   ],
   "source": [
    "import matplotlib.pyplot as plt\n",
    "import numpy as np\n",
    "\n",
    "# Definición de la función objetivo (función cuadrática)\n",
    "def funcion_objetivo(x1, x2):\n",
    "    return (x1 - 3)**2 + (x2 - 2)**2\n",
    "\n",
    "# Definir el rango de valores para x e y\n",
    "x_range = np.linspace(0, 10, 100)\n",
    "y_range = np.linspace(0, 10, 100)\n",
    "\n",
    "# Calcular los valores de z para cada combinación de x e y\n",
    "z = np.array([[funcion_objetivo(x, y) for y in y_range] for x in x_range])\n",
    "\n",
    "# Graficar la función f\n",
    "fig, ax = plt.subplots()\n",
    "cmap = ax.contourf(x_range, y_range, z, levels=100, cmap='viridis')\n",
    "fig.colorbar(cmap)\n",
    "\n",
    "ax.set_xlabel('x')\n",
    "ax.set_ylabel('y')\n",
    "ax.set_title('Función f(x,y)')\n",
    "\n",
    "# Decodificar el mejor individuo encontrado\n",
    "best_x, best_y = [decode_integer(xi, min_val, max_val) for xi in best_individual]\n",
    "\n",
    "# Graficar la solución encontrada\n",
    "ax.plot([best_x], [best_y], 'ro', markersize=10)\n",
    "ax.annotate(f'Mejor solución: ({best_x:.2f}, {best_y:.2f})', \n",
    "            (best_x, best_y), xytext=(best_x+0.5, best_y+0.5), \n",
    "            arrowprops=dict(facecolor='red', shrink=0.05), c=\"w\")\n",
    "\n",
    "plt.show()"
   ]
  },
  {
   "cell_type": "markdown",
   "id": "4b6597f2",
   "metadata": {},
   "source": [
    "### Ejercicio: Mejorar la solución moviendo hiperparámetros"
   ]
  },
  {
   "cell_type": "code",
   "execution_count": null,
   "id": "fc32ad81",
   "metadata": {},
   "outputs": [],
   "source": []
  }
 ],
 "metadata": {
  "kernelspec": {
   "display_name": "Python 3 (ipykernel)",
   "language": "python",
   "name": "python3"
  },
  "language_info": {
   "codemirror_mode": {
    "name": "ipython",
    "version": 3
   },
   "file_extension": ".py",
   "mimetype": "text/x-python",
   "name": "python",
   "nbconvert_exporter": "python",
   "pygments_lexer": "ipython3",
   "version": "3.10.6"
  }
 },
 "nbformat": 4,
 "nbformat_minor": 5
}
