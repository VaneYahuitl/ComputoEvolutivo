{
 "cells": [
  {
   "cell_type": "markdown",
   "id": "894e6e19",
   "metadata": {},
   "source": [
    "# Algoritmos genéticos con codificación entera\n",
    "\n",
    "**A diferencia de la codificación binaria, y al igual que la codificación real, cada gen corresponde a una variable**. \n",
    "\n",
    "1. **Inicialización**: Se crea una población inicial de individuos, donde cada individuo es un cromosoma que consiste en una secuencia de números enteros. Cada número entero en la secuencia representa un gen. El valor del gen es el valor de una variable de decisión en la solución.\n",
    "2. **Evaluación**: Cada individuo en la población es evaluado utilizando una función de aptitud (o función objetivo), que mide qué tan buena es la solución representada por el individuo.\n",
    "3. **Selección**: Se seleccionan individuos de la población para ser padres de la próxima generación. Los individuos son seleccionados con una probabilidad proporcional a su aptitud, por lo que los individuos más aptos tienen más probabilidades de ser seleccionados.\n",
    "4. **Cruce**: Se seleccionan pares de individuos y se intercambian genes entre ellos para crear descendencia. Con la codificación entera, un operador de cruce común es el cruce de un punto, donde se selecciona un punto en la secuencia de genes y se intercambian los genes a uno o ambos lados del punto.\n",
    "5. **Mutación**: Con cierta probabilidad baja, se cambian algunos genes en los individuos. Con la codificación entera, una mutación podría implicar cambiar el valor de un gen a otro número entero al azar dentro de un rango permitido.\n",
    "6. **Reemplazo**: Los individuos de la población actual son reemplazados por los nuevos individuos creados a través de la selección, el cruce y la mutación.\n",
    "7. **Iteración**: Los pasos de evaluación a reemplazo se repiten durante un número fijo de generaciones, o hasta que se cumpla algún otro criterio de terminación (por ejemplo, encontrar una solución que sea lo suficientemente buena).\n",
    "\n",
    "### Comparación con otras codificaciones\n",
    "\n",
    "| Codificación | Ventajas | Desventajas |\n",
    "| --- | --- | --- |\n",
    "| Binaria | - Es fácil de implementar y entender.<br>- Los operadores de cruce y mutación son sencillos.<br>- Funciona bien con problemas de optimización binaria. | - No es ideal para problemas de optimización continua.<br>- Puede requerir una gran longitud de cadena para representar ciertos números.<br>- La convergencia puede ser lenta para problemas con un espacio de búsqueda grande. |\n",
    "| Real | - Funciona bien con problemas de optimización continua.<br>- Puede representar una gama más amplia de valores con menos bits que la codificación binaria.<br>- A menudo converge más rápidamente que la codificación binaria. | - Los operadores de cruce y mutación pueden ser más complejos.<br>- No es ideal para problemas de optimización binaria.<br>- Puede ser más difícil de entender e implementar que la codificación binaria. |\n",
    "| Entera | - Funciona bien con problemas de optimización que requieren soluciones enteras.<br>- Puede representar una gama más amplia de valores con menos bits que la codificación binaria.<br>- A menudo converge más rápidamente que la codificación binaria. | - Los operadores de cruce y mutación pueden ser más complejos.<br>- No es ideal para problemas de optimización binaria o continua.<br>- Puede ser más difícil de entender e implementar que la codificación binaria. |\n",
    "\n",
    "\n",
    "### Representación entera para problemas combinatorios\n",
    "\n",
    "En el caso de la codificación entera, la codificación y decodificación son en realidad bastante directas porque los genes representan directamente los valores de las variables de decisión. \n",
    "\n",
    "En las siguientes funciones, la función *encode_integer* toma un valor real y lo redondea al entero más cercano dentro de los límites dados, y la función *decode_integer* toma un valor entero y lo convierte en un valor real dentro de los límites dados.\n",
    "\n",
    "Es importante tener en cuenta que la codificación y decodificación pueden resultar en la pérdida de precisión debido al redondeo, y que la decodificación no necesariamente recupera exactamente el mismo valor que se codificó originalmente. Sin embargo, esto es generalmente aceptable en el contexto de los algoritmos genéticos, donde estamos buscando soluciones aproximadas en lugar de soluciones exactas."
   ]
  },
  {
   "cell_type": "code",
   "execution_count": 1,
   "id": "416f2636",
   "metadata": {},
   "outputs": [],
   "source": [
    "def encode_integer(x, lower_bound, upper_bound):\n",
    "    \"\"\"Codifica un valor real en un valor entero dentro de los límites dados\"\"\"\n",
    "    return int(round((x - lower_bound) / (upper_bound - lower_bound) * (upper_bound - lower_bound)))\n",
    "\n",
    "def decode_integer(x, lower_bound, upper_bound):\n",
    "    \"\"\"Decodifica un valor entero en un valor real dentro de los límites dados\"\"\"\n",
    "    return lower_bound + x * (upper_bound - lower_bound) / (upper_bound - lower_bound)"
   ]
  },
  {
   "cell_type": "code",
   "execution_count": 2,
   "id": "b789a834",
   "metadata": {},
   "outputs": [
    {
     "name": "stdout",
     "output_type": "stream",
     "text": [
      "Valor real codificado: 13\n",
      "Valor decodificado: 3.0\n"
     ]
    }
   ],
   "source": [
    "# Vamos a codificar y decodificar un número real dentro del rango de -10 a 10\n",
    "\n",
    "# Valores de los límites\n",
    "lower_bound = -10\n",
    "upper_bound = 10\n",
    "\n",
    "# Valor real a codificar\n",
    "real_value = 3.14159\n",
    "\n",
    "# Codificar el valor real\n",
    "encoded_value = encode_integer(real_value, lower_bound, upper_bound)\n",
    "print(f\"Valor real codificado: {encoded_value}\")\n",
    "\n",
    "# Ahora decodificamos el valor codificado\n",
    "decoded_value = decode_integer(encoded_value, lower_bound, upper_bound)\n",
    "print(f\"Valor decodificado: {decoded_value}\")\n"
   ]
  },
  {
   "cell_type": "markdown",
   "id": "c21698ac",
   "metadata": {},
   "source": [
    "#### Probando alguna mejora"
   ]
  },
  {
   "cell_type": "code",
   "execution_count": 3,
   "id": "73743342",
   "metadata": {},
   "outputs": [],
   "source": [
    "# Codificación y decodificación de los cromosomas\n",
    "def encode_integer2(x, lower_bound, upper_bound):\n",
    "    \"\"\"Codifica un valor real en un valor entero dentro de los límites dados\"\"\"\n",
    "    return int(round((x - lower_bound) / (upper_bound - lower_bound) * (2**32 - 1)))\n",
    "\n",
    "def decode_integer2(x, lower_bound, upper_bound):\n",
    "    \"\"\"Decodifica un valor entero en un valor real dentro de los límites dados\"\"\"\n",
    "    return lower_bound + x * (upper_bound - lower_bound) / (2**32 - 1)"
   ]
  },
  {
   "cell_type": "code",
   "execution_count": 4,
   "id": "7b8beb8f",
   "metadata": {},
   "outputs": [
    {
     "name": "stdout",
     "output_type": "stream",
     "text": [
      "Valor real codificado: 2822134963\n",
      "Valor decodificado: 3.141590001327355\n"
     ]
    }
   ],
   "source": [
    "# Vamos a codificar y decodificar un número real dentro del rango de -10 a 10\n",
    "\n",
    "# Valores de los límites\n",
    "lower_bound = -10\n",
    "upper_bound = 10\n",
    "\n",
    "# Valor real a codificar\n",
    "real_value = 3.14159\n",
    "\n",
    "# Codificar el valor real\n",
    "encoded_value = encode_integer2(real_value, lower_bound, upper_bound)\n",
    "print(f\"Valor real codificado: {encoded_value}\")\n",
    "\n",
    "# Ahora decodificamos el valor codificado\n",
    "decoded_value = decode_integer2(encoded_value, lower_bound, upper_bound)\n",
    "print(f\"Valor decodificado: {decoded_value}\")"
   ]
  },
  {
   "cell_type": "markdown",
   "id": "721e0dd5",
   "metadata": {},
   "source": [
    "En el contexto de las codificaciones en algoritmos genéticos, la multiplicación o división por $(2^{32} - 1)$ se utiliza para mapear un valor real dentro de un rango determinado a un valor entero en el rango permitido por la representación de cromosomas en el algoritmo genético.\n",
    "\n",
    "La multiplicación por $(2^{32} - 1)$ se utiliza en la función encode_integer para codificar un valor real en un valor entero. La expresión $(2^{32} - 1)$ representa el rango máximo de valores enteros que se pueden representar utilizando 32 bits, que es comúnmente utilizado en la representación de cromosomas en algoritmos genéticos."
   ]
  },
  {
   "cell_type": "markdown",
   "id": "1b971c90",
   "metadata": {},
   "source": [
    "| Ventajas | Descripción |\n",
    "| :--- | :--- |\n",
    "| **Representación directa** | Los genes representan directamente los valores de las variables de decisión. | \n",
    "| **Facilidad de uso** | Las operaciones de codificación y decodificación son sencillas. |\n",
    "| **Flexibilidad** | Se pueden usar una variedad de operadores de cruce y mutación. | \n",
    "| **Adecuado para ciertos problemas** | Es especialmente útil en problemas donde las variables de decisión son intrínsecamente enteras. | \n",
    "\n",
    "\n",
    "\n",
    "#### ¿Cuándo conviene usar codificación real?\n",
    "\n",
    "La codificación entera en algoritmos genéticos utiliza números enteros para representar directamente el valor de las variables de decisión. \n",
    "\n",
    "| Caso | Descripción |\n",
    "| :--- | :--- |\n",
    "| **Problemas de horarios** | En problemas de programación de horarios, como la asignación de turnos de trabajo o la programación de exámenes, las variables de decisión a menudo representan tiempos discretos, lo que hace que la codificación entera sea una opción natural. |\n",
    "| **Problemas de enrutamiento** | En problemas de enrutamiento, como el problema del viajante de comercio o el problema de enrutamiento de vehículos, las variables de decisión a menudo representan secuencias de ciudades o destinos, lo que puede ser representado de manera efectiva con la codificación entera. |\n",
    "| **Problemas de diseño y configuración** | En problemas de diseño y configuración, como el diseño de circuitos electrónicos o la configuración de sistemas, las variables de decisión pueden representar la selección y colocación de componentes discretos, lo que puede ser representado eficazmente con la codificación entera. |\n",
    "| **Problemas con restricciones de integridad** | En cualquier problema en el que las variables de decisión deben ser enteras debido a restricciones de integridad, la codificación entera es la elección obvia. |\n",
    "\n",
    "\n",
    "\n",
    "### Ejercicio: \n",
    "\n",
    "- Codificar un número decimal (real) a codificación entera dados 3 límites diferentes.\n",
    "- Codificar un vector de números decimales (reales). "
   ]
  },
  {
   "cell_type": "code",
   "execution_count": 7,
   "id": "bff61bc8",
   "metadata": {},
   "outputs": [
    {
     "name": "stdout",
     "output_type": "stream",
     "text": [
      "Valor real codificado: 6839735417\n",
      "Valor decodificado: 10.924999999330613\n"
     ]
    }
   ],
   "source": [
    "# Vamos a codificar y decodificar un número real dentro del rango de -10 a 10\n",
    "\n",
    "# Valores de los límites\n",
    "lower_bound = -5\n",
    "upper_bound = 5\n",
    "\n",
    "# Valor real a codificar\n",
    "real_value = 10.925\n",
    "\n",
    "# Codificar el valor real\n",
    "encoded_value = encode_integer2(real_value, lower_bound, upper_bound)\n",
    "print(f\"Valor real codificado: {encoded_value}\")\n",
    "\n",
    "# Ahora decodificamos el valor codificado\n",
    "decoded_value = decode_integer2(encoded_value, lower_bound, upper_bound)\n",
    "print(f\"Valor decodificado: {decoded_value}\")"
   ]
  },
  {
   "cell_type": "code",
   "execution_count": 17,
   "id": "e022f910",
   "metadata": {},
   "outputs": [
    {
     "name": "stdout",
     "output_type": "stream",
     "text": [
      "[9.37001093 3.7180409  3.92751961 8.40067397 2.94213967]\n",
      "[4159678172, 2945926851, 2990912061, 3951514646, 2779303330]\n",
      "[9.370010928104168, 3.718040900704926, 3.9275196087377893, 8.400673973001698, 2.942139667678191]\n",
      "5 5 5\n"
     ]
    }
   ],
   "source": [
    "# Vamos a codificar y decodificar un número real dentro del rango de -10 a 10\n",
    "import numpy as np\n",
    "# Valores de los límites\n",
    "lower_bound = -10\n",
    "upper_bound = 10\n",
    "\n",
    "# Valor real a codificar\n",
    "real_values = 10*np.random.rand(5)\n",
    "print(real_values)\n",
    "\n",
    "encoded_values = []\n",
    "for i in range(len(real_values)):\n",
    "    # Codificar el valor real\n",
    "    encoded_values.append(encode_integer2(real_values[i], lower_bound, upper_bound))\n",
    "print(encoded_values)\n",
    "\n",
    "# Ahora decodificamos el valor codificado\n",
    "decoded_values = []\n",
    "for i in range(len(real_values)):\n",
    "    # Codificar el valor real\n",
    "    decoded_values.append(decode_integer2(encoded_values[i], lower_bound, upper_bound))\n",
    "print(decoded_values)\n",
    "print(len(real_values), len(encoded_values), len(decoded_values))"
   ]
  },
  {
   "cell_type": "markdown",
   "id": "2daff62e",
   "metadata": {},
   "source": [
    "## Operadores genéticos para representación entera\n",
    "\n",
    "| Operador | Codificación Binaria | Codificación Entera |\n",
    "| :--- | :--- | :--- |\n",
    "| **Cruce** | Opera directamente sobre los bits. Ejemplos: cruce de un punto, cruce de dos puntos, cruce uniforme. | Opera sobre números enteros completos. Ejemplos: cruce aritmético, cruce por orden (para secuencias o permutaciones). |\n",
    "| **Mutación** | Usualmente invierte un bit (0 se convierte en 1, 1 se convierte en 0). | Puede agregar o sustraer una cantidad pequeña al valor de un gen, o puede cambiar un gen a un nuevo valor aleatorio dentro de un rango permitido. |\n",
    "| **Selección** | Independiente de la codificación. Selecciona los mejores individuos de la población basándose en su aptitud. | Independiente de la codificación. Selecciona los mejores individuos de la población basándose en su aptitud. |\n",
    "\n",
    "### Operadores de cruce\n",
    "\n",
    "| Operador de Cruce | Descripción | Ejemplo de Implementación en Python |\n",
    "| :--- | :--- | :--- |\n",
    "| **Cruce de un punto** | Intercambia segmentos después de un punto de cruce. | ```punto = random.randint(1, len(parent1)-1) ``` |\n",
    "|  | | ```return parent1[:punto] + parent2[punto:], parent2[:punto] + parent1[punto:]``` |\n",
    "| **Cruce de dos puntos** | Intercambia segmentos entre dos puntos de cruce. |\n",
    "| **Cruce uniforme** | Intercambia genes individuales con probabilidad igual. | |\n",
    "| **Cruce Aritmético**      | Combina los genes de los padres mediante una media ponderada o una combinación lineal. | ```child1 = alpha * parent1 + (1 - alpha) * parent2```|\n",
    "| | | ```child2 = (1 - alpha) * parent1 + alpha * parent2```|\n",
    "\n",
    "\n",
    "**Usaremos la cruza de un punto.**\n",
    "\n",
    "![](https://www.tutorialspoint.com/genetic_algorithms/images/one_point_crossover.jpg)\n",
    "Fuente: tutorialspoints.com\n",
    " \n",
    "#### Ejercicio: Implementar operador de cruza de un punto y aplicar a dos pares de padres diferentes.\n",
    "\n"
   ]
  },
  {
   "cell_type": "code",
   "execution_count": 29,
   "id": "54c298a8",
   "metadata": {},
   "outputs": [
    {
     "name": "stdout",
     "output_type": "stream",
     "text": [
      "padres: [3 8 8 0 1] [2 0 7 2 8]\n",
      "hijos: [2 2 7 1 5] [2 5 7 0 3]\n"
     ]
    }
   ],
   "source": [
    "def cruza_aritmetica(padre1, padre2, alpha=0.3):\n",
    "    \"\"\"\n",
    "    Escribir operaciones\n",
    "    \"\"\"\n",
    "    hijo1= alpha * padre1 + (1 - alpha) * padre2\n",
    "    hijo2 = (1 - alpha) * padre1 + alpha * padre2\n",
    "    return np.int64(hijo1), np.int64(hijo2)\n",
    "\n",
    "### Si generan a los padres como numeros reales\n",
    "# padre1 = encode_integer2(np.random.rand(2))\n",
    "# padre2 = encode_integer2(np.random.rand(2))\n",
    "\n",
    "# hijo1, hijo2 = cruza(padre1, padre2)\n",
    "# hijo1 = decode_integer2(hijo1)\n",
    "# hijo2 = decode_integer2(hijo2)\n",
    "\n",
    "\n",
    "### Si generan a los padres como numeros reales\n",
    "padre1 = np.random.randint(0, 10, size=5)\n",
    "padre2 = np.random.randint(0, 10, size=5)\n",
    "\n",
    "hijo1, hijo2 = cruza_aritmetica(padre1, padre2)\n",
    "print(\"padres:\", padre1, padre2)\n",
    "print(\"hijos:\", hijo1, hijo2)"
   ]
  },
  {
   "cell_type": "markdown",
   "id": "3101118b",
   "metadata": {},
   "source": [
    "### Operador de mutación uniforme"
   ]
  },
  {
   "cell_type": "code",
   "execution_count": 30,
   "id": "e7e50ed9",
   "metadata": {},
   "outputs": [],
   "source": [
    "import random\n",
    "\n",
    "def mutacion_uniforme(individual, min_val, max_val, mutation_rate=0.01):\n",
    "    for i in range(len(individual)):\n",
    "        if random.random() < mutation_rate:\n",
    "            individual[i] = random.randint(min_val, max_val)\n",
    "    return individual"
   ]
  },
  {
   "cell_type": "code",
   "execution_count": 33,
   "id": "2c93162d",
   "metadata": {},
   "outputs": [
    {
     "data": {
      "text/plain": [
       "array([2, 3, 5, 6, 9])"
      ]
     },
     "execution_count": 33,
     "metadata": {},
     "output_type": "execute_result"
    }
   ],
   "source": [
    "individuo = np.random.randint(0,10,5)\n",
    "mutacion_uniforme(individuo, min_val=0, max_val=10)"
   ]
  },
  {
   "cell_type": "markdown",
   "id": "51fdfce4",
   "metadata": {},
   "source": [
    "#### Ejercicio: mutar varios individuos\n",
    "\n",
    "## Optimizar una función con codificación entera"
   ]
  },
  {
   "cell_type": "code",
   "execution_count": 181,
   "id": "d4ba0bcb",
   "metadata": {},
   "outputs": [],
   "source": [
    "import random\n",
    "\n",
    "# Definición de la función objetivo (función cuadrática)\n",
    "def funcion_objetivo(x):\n",
    "    x1, x2 = x\n",
    "    return (x1 - 3)**2 + (x2 - 2)**2\n",
    "\n",
    "# Codificación y decodificación de los cromosomas\n",
    "def encode_integer(x, lower_bound, upper_bound):\n",
    "    \"\"\"Codifica un valor real en un valor entero dentro de los límites dados\"\"\"\n",
    "    return int(round((x - lower_bound) / (upper_bound - lower_bound)))\n",
    "\n",
    "def decode_integer(x, lower_bound, upper_bound):\n",
    "    \"\"\"Decodifica un valor entero en un valor real dentro de los límites dados\"\"\"\n",
    "    return lower_bound + x * (upper_bound - lower_bound)\n",
    "\n",
    "# Operador de cruza de un punto\n",
    "def cruce_un_punto(parent1, parent2):\n",
    "    punto = random.randint(1, len(parent1) - 1)\n",
    "    child1 = parent1[:punto] + parent2[punto:]\n",
    "    child2 = parent2[:punto] + parent1[punto:]\n",
    "    return child1, child2\n",
    "\n",
    "# Operador de mutación uniforme\n",
    "def mutacion_uniforme(individual, min_val, max_val, mutation_rate=0.5):\n",
    "    for i in range(len(individual)):\n",
    "        if random.random() < mutation_rate:\n",
    "            individual[i] = random.randint(min_val, max_val)\n",
    "    return individual"
   ]
  },
  {
   "cell_type": "code",
   "execution_count": 182,
   "id": "3a214353",
   "metadata": {},
   "outputs": [],
   "source": [
    "# Crear la población inicial\n",
    "pop_size = 200\n",
    "min_val, max_val = 0, 2\n",
    "population = [[random.uniform(min_val, max_val), random.uniform(min_val, max_val)] for _ in range(pop_size)]\n",
    "\n",
    "# Parámetros del algoritmo genético\n",
    "num_generations = 100\n",
    "num_parents = pop_size // 2\n",
    "\n",
    "# Ejecutar el algoritmo genético\n",
    "for gen in range(num_generations):\n",
    "    # Evaluar la población\n",
    "    fitnesses = [funcion_objetivo(individual) for individual in population]\n",
    "    # Seleccionar los mejores individuos\n",
    "    parents = [population[i] for i in sorted(range(len(fitnesses)), key=lambda k: fitnesses[k])[num_parents:]]\n",
    "    # Generar la próxima generación\n",
    "    children = []\n",
    "    for i in range(0, len(parents), 2):\n",
    "        if i + 1 < len(parents):\n",
    "            child1, child2 = cruce_un_punto(parents[i], parents[i + 1])\n",
    "            children.append(mutacion_uniforme(child1, min_val, max_val))\n",
    "            children.append(mutacion_uniforme(child2, min_val, max_val))\n",
    "    population = parents + children"
   ]
  },
  {
   "cell_type": "code",
   "execution_count": 183,
   "id": "12f635ba",
   "metadata": {},
   "outputs": [
    {
     "name": "stdout",
     "output_type": "stream",
     "text": [
      "Mejor solución encontrada: [4, 4]\n",
      "Valor objetivo de la mejor solución: 5\n"
     ]
    }
   ],
   "source": [
    "# Mostrar el mejor individuo encontrado\n",
    "best_individual = min(population, key=funcion_objetivo)\n",
    "best_solution = [decode_integer(x, min_val, max_val) for x in best_individual]\n",
    "print(\"Mejor solución encontrada:\", best_solution)\n",
    "print(\"Valor objetivo de la mejor solución:\", funcion_objetivo(best_solution))"
   ]
  },
  {
   "cell_type": "code",
   "execution_count": 184,
   "id": "1a81f35b",
   "metadata": {},
   "outputs": [
    {
     "data": {
      "image/png": "[encoded data removed]",
      "text/plain": [
       "<Figure size 432x288 with 2 Axes>"
      ]
     },
     "metadata": {
      "needs_background": "light"
     },
     "output_type": "display_data"
    }
   ],
   "source": [
    "import matplotlib.pyplot as plt\n",
    "import numpy as np\n",
    "\n",
    "# Definición de la función objetivo (función cuadrática)\n",
    "def funcion_objetivo(x1, x2):\n",
    "    return (x1 - 3)**2 + (x2 - 2)**2\n",
    "\n",
    "# Definir el rango de valores para x e y\n",
    "x_range = np.linspace(0, 10, 100)\n",
    "y_range = np.linspace(0, 10, 100)\n",
    "\n",
    "# Calcular los valores de z para cada combinación de x e y\n",
    "z = np.array([[funcion_objetivo(x, y) for y in y_range] for x in x_range])\n",
    "\n",
    "# Graficar la función f\n",
    "fig, ax = plt.subplots()\n",
    "cmap = ax.contourf(x_range, y_range, z, levels=100, cmap='viridis')\n",
    "fig.colorbar(cmap)\n",
    "\n",
    "ax.set_xlabel('x')\n",
    "ax.set_ylabel('y')\n",
    "ax.set_title('Función f(x,y)')\n",
    "\n",
    "# Decodificar el mejor individuo encontrado\n",
    "best_x, best_y = [decode_integer(xi, min_val, max_val) for xi in best_individual]\n",
    "\n",
    "# Graficar la solución encontrada\n",
    "ax.plot([best_x], [best_y], 'ro', markersize=10)\n",
    "ax.annotate(f'Mejor solución: ({best_x:.2f}, {best_y:.2f})', \n",
    "            (best_x, best_y), xytext=(best_x+0.5, best_y+0.5), \n",
    "            arrowprops=dict(facecolor='red', shrink=0.05), c=\"w\")\n",
    "\n",
    "plt.show()"
   ]
  },
  {
   "cell_type": "markdown",
   "id": "4941eeca",
   "metadata": {},
   "source": [
    "### Ejercicio: ¿Qué está pasando? Mejorar la solución moviendo hiperparámetros"
   ]
  },
  {
   "cell_type": "code",
   "execution_count": null,
   "id": "0014a9f3",
   "metadata": {},
   "outputs": [],
   "source": []
  },
  {
   "cell_type": "markdown",
   "id": "20e3d9b5",
   "metadata": {},
   "source": [
    "## Va de nuevo el problema de la mochila\n",
    "\n",
    "![](https://upload.wikimedia.org/wikipedia/commons/thumb/f/fd/Knapsack.svg/729px-Knapsack.svg.png)"
   ]
  },
  {
   "cell_type": "code",
   "execution_count": 111,
   "id": "3a4e7872",
   "metadata": {},
   "outputs": [],
   "source": [
    "import random\n",
    "import numpy as np\n",
    "\n",
    "def init_population_integer(pop_size, num_objects):\n",
    "    \"\"\"Inicializa una población con codificación entera\"\"\"\n",
    "    population = []\n",
    "    for _ in range(pop_size):\n",
    "        # en random.randint(0, Fmax), Fmax indica la frecuencia máxima\n",
    "        # que puede tener un objeto.\n",
    "        individual = [random.randint(0, 10) for _ in range(num_objects)]\n",
    "        population.append(individual)\n",
    "    return population\n",
    "\n",
    "def tournament_selection(population, objects, capacity, tournament_size):\n",
    "    \"\"\"Realiza la selección de padres utilizando el método de torneo\"\"\"\n",
    "    selected_parents = []\n",
    "    for _ in range(2):  # Seleccionar 2 padres\n",
    "        tournament = random.sample(population, tournament_size)\n",
    "        best_individual = None\n",
    "        best_fitness = -1\n",
    "        for individual in tournament:\n",
    "            fitness = evaluate_individual_integer(individual, objects, capacity)\n",
    "            if fitness > best_fitness:\n",
    "                best_individual = individual\n",
    "                best_fitness = fitness\n",
    "        selected_parents.append(best_individual)\n",
    "    return selected_parents\n",
    "\n",
    "def evaluate_individual_integer(individual, objects, capacity):\n",
    "    \"\"\"Evalúa el fitness de un individuo codificado con enteros en el problema de la mochila\"\"\"\n",
    "    total_value = 0\n",
    "    total_weight = 0\n",
    "    for i, freq in enumerate(individual):\n",
    "        total_value += objects[i][\"valor\"] * freq\n",
    "        total_weight += objects[i][\"peso\"] * freq\n",
    "    if total_weight > capacity:\n",
    "        return 0  # Penalización por exceder la capacidad de la mochila\n",
    "    else:\n",
    "        return total_value\n",
    "\n",
    "# Codificación y decodificación de los cromosomas\n",
    "def encode_integer(x, lower_bound, upper_bound):\n",
    "    \"\"\"Codifica un valor real en un valor entero dentro de los límites dados\"\"\"\n",
    "    return int(round((x - lower_bound) / (upper_bound - lower_bound) * (2**32 - 1)))\n",
    "\n",
    "def decode_integer(x, lower_bound, upper_bound):\n",
    "    \"\"\"Decodifica un valor entero en un valor real dentro de los límites dados\"\"\"\n",
    "    return lower_bound + x * (upper_bound - lower_bound) / (2**32 - 1)\n",
    "\n",
    "# Operador de cruza de un punto\n",
    "def cruce_un_punto(parent1, parent2):\n",
    "    punto = random.randint(1, len(parent1) - 1)\n",
    "    child1 = parent1[:punto] + parent2[punto:]\n",
    "    child2 = parent2[:punto] + parent1[punto:]\n",
    "    return child1, child2\n",
    "\n",
    "# Operador de mutación uniforme\n",
    "def mutacion_uniforme(individual, min_val, max_val, mutation_rate=0.01):\n",
    "    for i in range(len(individual)):\n",
    "        if random.random() < mutation_rate:\n",
    "            individual[i] = random.randint(min_val, max_val)\n",
    "    return individual\n",
    "\n",
    "# Función principal del algoritmo genético\n",
    "def genetic_algorithm(objects, capacity, pop_size, num_generations, mutation_rate, tournament_size):\n",
    "    # Inicialización de la población\n",
    "    num_objects = len(objects)\n",
    "    population = init_population_integer(pop_size, num_objects)\n",
    "    best_individual = None\n",
    "    best_fitness = -1\n",
    "    \n",
    "    # Evolución de la población\n",
    "    for i in range(num_generations):\n",
    "        # Selección de padres\n",
    "        parent1, parent2 = tournament_selection(population, objects, capacity, tournament_size)\n",
    "        \n",
    "        # Cruce\n",
    "        child1, child2 = cruce_un_punto(parent1, parent2)\n",
    "        \n",
    "        # Mutación\n",
    "        child1 = mutacion_uniforme(child1, 0, 5, mutation_rate)\n",
    "        child2 = mutacion_uniforme(child2, 0, 5, mutation_rate)\n",
    "        \n",
    "        # Evaluación de la descendencia\n",
    "        child1_fitness = evaluate_individual_integer(child1, objects, capacity)\n",
    "        child2_fitness = evaluate_individual_integer(child2, objects, capacity)\n",
    "        \n",
    "        # Reemplazo de la peor solución de la población con la mejor descendencia\n",
    "        population.sort(key=lambda x: evaluate_individual_integer(x, objects, capacity))\n",
    "        if child1_fitness > child2_fitness:\n",
    "            if child1_fitness > evaluate_individual_integer(population[0], objects, capacity):\n",
    "                population[0] = child1\n",
    "                if child1_fitness > best_fitness:\n",
    "                    best_individual = child1\n",
    "                    best_fitness = child1_fitness\n",
    "        else:\n",
    "            if child2_fitness > evaluate_individual_integer(population[0], objects, capacity):\n",
    "                population[0] = child2\n",
    "                if child2_fitness > best_fitness:\n",
    "                    best_individual = child2\n",
    "                    best_fitness = child2_fitness\n",
    "    \n",
    "    # Devolución de la mejor solución encontrada\n",
    "    return (best_individual, best_fitness)\n"
   ]
  },
  {
   "cell_type": "code",
   "execution_count": 112,
   "id": "454392ee",
   "metadata": {},
   "outputs": [],
   "source": [
    "# Definición de los objetos y sus propiedades (valor y peso)\n",
    "objects = [\n",
    "    {\"valor\": 10.5, \"peso\": 5.2},\n",
    "    {\"valor\": 20.1, \"peso\": 10.1},\n",
    "    {\"valor\": 30.9, \"peso\": 15.2},\n",
    "    {\"valor\": 40.7, \"peso\": 20.8},\n",
    "    {\"valor\": 50.1, \"peso\": 25.4}\n",
    "]\n",
    "\n",
    "\n",
    "# Capacidad máxima de la mochila\n",
    "capacity = 100\n",
    "\n",
    "# Parámetros del algoritmo genético\n",
    "pop_size = 100\n",
    "num_generations = 100\n",
    "mutation_rate = 0.01\n",
    "tournament_size = 5"
   ]
  },
  {
   "cell_type": "code",
   "execution_count": 113,
   "id": "47e2389d",
   "metadata": {},
   "outputs": [
    {
     "name": "stdout",
     "output_type": "stream",
     "text": [
      "Mejor solución encontrada:\n",
      "Objeto 1: Valor = 10.5, Peso = 5.2, Frecuencia = 3\n",
      "Objeto 2: Valor = 20.1, Peso = 10.1, Frecuencia = 0\n",
      "Objeto 3: Valor = 30.9, Peso = 15.2, Frecuencia = 4\n",
      "Objeto 4: Valor = 40.7, Peso = 20.8, Frecuencia = 1\n",
      "Objeto 5: Valor = 50.1, Peso = 25.4, Frecuencia = 0\n",
      "Fitness: 195.8\n",
      "Mejor individuo: [3, 0, 4, 1, 0]\n"
     ]
    }
   ],
   "source": [
    "# Resolver el problema de la mochila utilizando el algoritmo genético\n",
    "best_individual, best_fitness = genetic_algorithm(objects, capacity, pop_size, num_generations, mutation_rate, tournament_size)\n",
    "\n",
    "# Imprimir la mejor solución encontrada\n",
    "print(\"Mejor solución encontrada:\")\n",
    "for i, obj in enumerate(objects):\n",
    "    index = i % len(best_individual)\n",
    "    freq = best_individual[index]\n",
    "    print(f\"Objeto {i+1}: Valor = {obj['valor']}, Peso = {obj['peso']}, Frecuencia = {freq}\")\n",
    "print(\"Fitness:\", best_fitness)\n",
    "print(\"Mejor individuo:\", best_individual)"
   ]
  },
  {
   "cell_type": "markdown",
   "id": "70d12c0e",
   "metadata": {},
   "source": [
    "### Práctica. Probar código y algoritmo genético con otros objetos y describir los resultados de lo que podría guardarse en la mochila. Describir ventajas de utilizar codificación entera en comparación con la binaria."
   ]
  },
  {
   "cell_type": "code",
   "execution_count": 115,
   "id": "d6c0b12f",
   "metadata": {},
   "outputs": [
    {
     "name": "stdout",
     "output_type": "stream",
     "text": [
      "Mejor solución encontrada:\n",
      "Objeto 1: Valor = 10.5, Peso = 5.2, Frecuencia = 5\n",
      "Objeto 2: Valor = 20.1, Peso = 10.1, Frecuencia = 1\n",
      "Objeto 3: Valor = 30.9, Peso = 15.2, Frecuencia = 7\n",
      "Objeto 4: Valor = 40.7, Peso = 2.8, Frecuencia = 3\n",
      "Objeto 5: Valor = 50.1, Peso = 2.4, Frecuencia = 5\n",
      "Objeto 6: Valor = 4.1, Peso = 2.4, Frecuencia = 4\n",
      "Objeto 7: Valor = 1.1, Peso = 7.4, Frecuencia = 4\n",
      "Objeto 8: Valor = 14.1, Peso = 2.4, Frecuencia = 5\n",
      "Objeto 9: Valor = 36.1, Peso = 0.4, Frecuencia = 9\n",
      "Objeto 10: Valor = 20, Peso = 5.4, Frecuencia = 9\n",
      "Fitness: 1257.7\n",
      "Mejor individuo: [5, 1, 7, 3, 5, 4, 4, 5, 9, 9]\n"
     ]
    }
   ],
   "source": [
    "# Definición de los objetos y sus propiedades (valor y peso)\n",
    "objects = [\n",
    "    {\"valor\": 10.5, \"peso\": 5.2},\n",
    "    {\"valor\": 20.1, \"peso\": 10.1},\n",
    "    {\"valor\": 30.9, \"peso\": 15.2},\n",
    "    {\"valor\": 40.7, \"peso\": 2.8},\n",
    "    {\"valor\": 50.1, \"peso\": 2.4},\n",
    "    {\"valor\": 4.1, \"peso\": 2.4},\n",
    "    {\"valor\": 1.1, \"peso\": 7.4},\n",
    "    {\"valor\": 14.1, \"peso\": 2.4},\n",
    "    {\"valor\": 36.1, \"peso\": 0.4},\n",
    "    {\"valor\": 20, \"peso\": 5.4}\n",
    "]\n",
    "\n",
    "\n",
    "# Capacidad máxima de la mochila\n",
    "capacity = 1000\n",
    "\n",
    "# Parámetros del algoritmo genético\n",
    "pop_size = 100\n",
    "num_generations = 100\n",
    "mutation_rate = 0.8\n",
    "tournament_size = 5\n",
    "\n",
    "# Resolver el problema de la mochila utilizando el algoritmo genético\n",
    "best_individual, best_fitness = genetic_algorithm(objects, capacity, pop_size, num_generations, mutation_rate, tournament_size)\n",
    "\n",
    "# Imprimir la mejor solución encontrada\n",
    "print(\"Mejor solución encontrada:\")\n",
    "for i, obj in enumerate(objects):\n",
    "    index = i % len(best_individual)\n",
    "    freq = best_individual[index]\n",
    "    print(f\"Objeto {i+1}: Valor = {obj['valor']}, Peso = {obj['peso']}, Frecuencia = {freq}\")\n",
    "print(\"Fitness:\", best_fitness)\n",
    "print(\"Mejor individuo:\", best_individual)"
   ]
  },
  {
   "cell_type": "code",
   "execution_count": null,
   "id": "eec07749",
   "metadata": {},
   "outputs": [],
   "source": []
  }
 ],
 "metadata": {
  "kernelspec": {
   "display_name": "Python 3 (ipykernel)",
   "language": "python",
   "name": "python3"
  },
  "language_info": {
   "codemirror_mode": {
    "name": "ipython",
    "version": 3
   },
   "file_extension": ".py",
   "mimetype": "text/x-python",
   "name": "python",
   "nbconvert_exporter": "python",
   "pygments_lexer": "ipython3",
   "version": "3.10.6"
  }
 },
 "nbformat": 4,
 "nbformat_minor": 5
}
